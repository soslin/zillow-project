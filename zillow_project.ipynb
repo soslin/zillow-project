{
 "cells": [
  {
   "cell_type": "markdown",
   "metadata": {},
   "source": [
    "# How well do the number of bedrooms/bathrooms and square feet predict the tax-assessed value of single-unit residential properties in three Southern California counties during from May to June 2017?"
   ]
  },
  {
   "cell_type": "markdown",
   "metadata": {},
   "source": [
    "#### Sean Oslin\n",
    "#### October 21, 2019"
   ]
  },
  {
   "cell_type": "markdown",
   "metadata": {},
   "source": [
    " "
   ]
  },
  {
   "cell_type": "markdown",
   "metadata": {},
   "source": [
    " "
   ]
  },
  {
   "cell_type": "markdown",
   "metadata": {},
   "source": [
    "## Project planning phase"
   ]
  },
  {
   "cell_type": "markdown",
   "metadata": {},
   "source": [
    "### Project goal/research question"
   ]
  },
  {
   "cell_type": "markdown",
   "metadata": {},
   "source": [
    "To predict the values of single-unit properties that the tax district assesses using the property data from those whose last transaction was during the \"hot months\" (in terms of real estate demand) of May and June in 2017."
   ]
  },
  {
   "cell_type": "markdown",
   "metadata": {},
   "source": [
    " "
   ]
  },
  {
   "cell_type": "markdown",
   "metadata": {},
   "source": [
    "### Deliverables"
   ]
  },
  {
   "cell_type": "markdown",
   "metadata": {},
   "source": [
    "1. Presentation of the analysis findings usable by management for decision making\n",
    "2. MySQL notebook with database queries that were imported into Python for analysis\n",
    "3. Data definitions and analysis notes\n",
    "4. Data analysis in a Jupyter Notebook that will allow for replication of analysis\n",
    "5. Github repository holding the analysis and supporting materials"
   ]
  },
  {
   "cell_type": "markdown",
   "metadata": {},
   "source": [
    " "
   ]
  },
  {
   "cell_type": "markdown",
   "metadata": {},
   "source": [
    "### Minimum viable product"
   ]
  },
  {
   "cell_type": "markdown",
   "metadata": {},
   "source": [
    "Analysis of how 3 variables (bedroom count, bathroom count and square feet), singlely and in combination predict the tax assessment value for three counties in Southern California as compared to the baseline."
   ]
  },
  {
   "cell_type": "markdown",
   "metadata": {},
   "source": [
    " "
   ]
  },
  {
   "cell_type": "markdown",
   "metadata": {},
   "source": [
    "### Null and alternative hypotheses"
   ]
  },
  {
   "cell_type": "markdown",
   "metadata": {},
   "source": [
    "H<sub>0</sub> : The number of bathrooms, bedrooms and number of square feet in a single-unit residence do not predict the assessed tax value\n",
    "\n",
    "H<sub>a</sub> : The number of bathrooms, bedrooms and number of square feet in a single-unit residence predict the assessed tax value"
   ]
  },
  {
   "cell_type": "markdown",
   "metadata": {},
   "source": [
    " "
   ]
  },
  {
   "cell_type": "markdown",
   "metadata": {},
   "source": [
    " "
   ]
  },
  {
   "cell_type": "markdown",
   "metadata": {},
   "source": [
    "## Data acquisition and preparation phases"
   ]
  },
  {
   "cell_type": "markdown",
   "metadata": {},
   "source": [
    "The sole data source was the Zillow relational database. Data was cleaned and prepared using MySQL and then uploaded to Python for additional preparation and analysis. For detailed information on data preparation please see........."
   ]
  },
  {
   "cell_type": "markdown",
   "metadata": {},
   "source": [
    "### Python libraries used for analysis"
   ]
  },
  {
   "cell_type": "code",
   "execution_count": 1,
   "metadata": {},
   "outputs": [],
   "source": [
    "import pandas as pd\n",
    "import numpy as np\n",
    "import matplotlib.pyplot as plt\n",
    "%matplotlib inline\n",
    "import seaborn as sns\n",
    "from sklearn.model_selection import train_test_split\n",
    "from sklearn.preprocessing import StandardScaler\n",
    "from sklearn.metrics import mean_squared_error, r2_score, explained_variance_score\n",
    "from sklearn.feature_selection import f_regression \n",
    "from sklearn.linear_model import LinearRegression\n",
    "from math import sqrt\n",
    "import statsmodels.api as sm\n",
    "import warnings\n",
    "warnings.filterwarnings(\"ignore\")"
   ]
  },
  {
   "cell_type": "markdown",
   "metadata": {},
   "source": [
    "### Python programming for this analysis imported from a text editor"
   ]
  },
  {
   "cell_type": "code",
   "execution_count": 2,
   "metadata": {},
   "outputs": [],
   "source": [
    "import env\n",
    "import wrangle_z\n",
    "import z_split_scale"
   ]
  },
  {
   "cell_type": "markdown",
   "metadata": {},
   "source": [
    "### Import of prepared Zillow data from the text editor to this notebook"
   ]
  },
  {
   "cell_type": "code",
   "execution_count": 3,
   "metadata": {},
   "outputs": [],
   "source": [
    "df_z = wrangle_z.wrangle_zillow()"
   ]
  },
  {
   "cell_type": "markdown",
   "metadata": {},
   "source": [
    "### Verification that all null values have been removed"
   ]
  },
  {
   "cell_type": "code",
   "execution_count": 4,
   "metadata": {},
   "outputs": [
    {
     "data": {
      "text/plain": [
       "Property Description    0\n",
       "Number of Bathrooms     0\n",
       "Number of Bedrooms      0\n",
       "Square Feet             0\n",
       "Tax Appraised Value     0\n",
       "Assessed Tax            0\n",
       "County Number           0\n",
       "dtype: int64"
      ]
     },
     "execution_count": 4,
     "metadata": {},
     "output_type": "execute_result"
    }
   ],
   "source": [
    "df_z.isnull().sum()"
   ]
  },
  {
   "cell_type": "markdown",
   "metadata": {},
   "source": [
    "### Data types adjusted to best suit each variable"
   ]
  },
  {
   "cell_type": "code",
   "execution_count": 5,
   "metadata": {},
   "outputs": [],
   "source": [
    "df_z['County Number'] = df_z['County Number'].astype('int64')\n",
    "df_z['Tax Appraised Value'] = df_z['Tax Appraised Value'].astype('int64')\n",
    "df_z['Square Feet'] = df_z['Square Feet'].astype('int64')\n",
    "df_z['Number of Bedrooms'] = df_z['Number of Bedrooms'].astype('int64')"
   ]
  },
  {
   "cell_type": "markdown",
   "metadata": {},
   "source": [
    "### Summary of data types, numbers of rows (individual real estate properties) and data columns"
   ]
  },
  {
   "cell_type": "code",
   "execution_count": 6,
   "metadata": {},
   "outputs": [
    {
     "name": "stdout",
     "output_type": "stream",
     "text": [
      "<class 'pandas.core.frame.DataFrame'>\n",
      "Int64Index: 15963 entries, 0 to 15962\n",
      "Data columns (total 7 columns):\n",
      "Property Description    15963 non-null object\n",
      "Number of Bathrooms     15963 non-null float64\n",
      "Number of Bedrooms      15963 non-null int64\n",
      "Square Feet             15963 non-null int64\n",
      "Tax Appraised Value     15963 non-null int64\n",
      "Assessed Tax            15963 non-null float64\n",
      "County Number           15963 non-null int64\n",
      "dtypes: float64(2), int64(4), object(1)\n",
      "memory usage: 997.7+ KB\n"
     ]
    }
   ],
   "source": [
    "df_z.info() "
   ]
  },
  {
   "cell_type": "markdown",
   "metadata": {},
   "source": [
    " "
   ]
  },
  {
   "cell_type": "markdown",
   "metadata": {},
   "source": [
    " "
   ]
  },
  {
   "cell_type": "markdown",
   "metadata": {},
   "source": [
    "## Data exploration and pre-processing phases"
   ]
  },
  {
   "cell_type": "markdown",
   "metadata": {},
   "source": [
    "### Random sample of data"
   ]
  },
  {
   "cell_type": "code",
   "execution_count": 7,
   "metadata": {},
   "outputs": [
    {
     "data": {
      "text/html": [
       "<div>\n",
       "<style scoped>\n",
       "    .dataframe tbody tr th:only-of-type {\n",
       "        vertical-align: middle;\n",
       "    }\n",
       "\n",
       "    .dataframe tbody tr th {\n",
       "        vertical-align: top;\n",
       "    }\n",
       "\n",
       "    .dataframe thead th {\n",
       "        text-align: right;\n",
       "    }\n",
       "</style>\n",
       "<table border=\"1\" class=\"dataframe\">\n",
       "  <thead>\n",
       "    <tr style=\"text-align: right;\">\n",
       "      <th></th>\n",
       "      <th>Property Description</th>\n",
       "      <th>Number of Bathrooms</th>\n",
       "      <th>Number of Bedrooms</th>\n",
       "      <th>Square Feet</th>\n",
       "      <th>Tax Appraised Value</th>\n",
       "      <th>Assessed Tax</th>\n",
       "      <th>County Number</th>\n",
       "    </tr>\n",
       "  </thead>\n",
       "  <tbody>\n",
       "    <tr>\n",
       "      <th>12010</th>\n",
       "      <td>Single Family Residential</td>\n",
       "      <td>2.0</td>\n",
       "      <td>4</td>\n",
       "      <td>1610</td>\n",
       "      <td>116499</td>\n",
       "      <td>2177.67</td>\n",
       "      <td>6037</td>\n",
       "    </tr>\n",
       "    <tr>\n",
       "      <th>6275</th>\n",
       "      <td>Single Family Residential</td>\n",
       "      <td>2.0</td>\n",
       "      <td>3</td>\n",
       "      <td>1485</td>\n",
       "      <td>551000</td>\n",
       "      <td>6871.88</td>\n",
       "      <td>6037</td>\n",
       "    </tr>\n",
       "    <tr>\n",
       "      <th>13781</th>\n",
       "      <td>Single Family Residential</td>\n",
       "      <td>1.0</td>\n",
       "      <td>2</td>\n",
       "      <td>1436</td>\n",
       "      <td>200853</td>\n",
       "      <td>2215.43</td>\n",
       "      <td>6037</td>\n",
       "    </tr>\n",
       "    <tr>\n",
       "      <th>13194</th>\n",
       "      <td>Single Family Residential</td>\n",
       "      <td>2.0</td>\n",
       "      <td>3</td>\n",
       "      <td>1362</td>\n",
       "      <td>245877</td>\n",
       "      <td>3226.81</td>\n",
       "      <td>6037</td>\n",
       "    </tr>\n",
       "  </tbody>\n",
       "</table>\n",
       "</div>"
      ],
      "text/plain": [
       "            Property Description  Number of Bathrooms  Number of Bedrooms  \\\n",
       "12010  Single Family Residential                  2.0                   4   \n",
       "6275   Single Family Residential                  2.0                   3   \n",
       "13781  Single Family Residential                  1.0                   2   \n",
       "13194  Single Family Residential                  2.0                   3   \n",
       "\n",
       "       Square Feet  Tax Appraised Value  Assessed Tax  County Number  \n",
       "12010         1610               116499       2177.67           6037  \n",
       "6275          1485               551000       6871.88           6037  \n",
       "13781         1436               200853       2215.43           6037  \n",
       "13194         1362               245877       3226.81           6037  "
      ]
     },
     "execution_count": 7,
     "metadata": {},
     "output_type": "execute_result"
    }
   ],
   "source": [
    "df_z.sample(4)"
   ]
  },
  {
   "cell_type": "markdown",
   "metadata": {},
   "source": [
    " "
   ]
  },
  {
   "cell_type": "markdown",
   "metadata": {},
   "source": [
    "### Descriptive statistics"
   ]
  },
  {
   "cell_type": "code",
   "execution_count": 8,
   "metadata": {},
   "outputs": [
    {
     "data": {
      "text/html": [
       "<div>\n",
       "<style scoped>\n",
       "    .dataframe tbody tr th:only-of-type {\n",
       "        vertical-align: middle;\n",
       "    }\n",
       "\n",
       "    .dataframe tbody tr th {\n",
       "        vertical-align: top;\n",
       "    }\n",
       "\n",
       "    .dataframe thead th {\n",
       "        text-align: right;\n",
       "    }\n",
       "</style>\n",
       "<table border=\"1\" class=\"dataframe\">\n",
       "  <thead>\n",
       "    <tr style=\"text-align: right;\">\n",
       "      <th></th>\n",
       "      <th>Number of Bathrooms</th>\n",
       "      <th>Number of Bedrooms</th>\n",
       "      <th>Square Feet</th>\n",
       "      <th>Tax Appraised Value</th>\n",
       "      <th>Assessed Tax</th>\n",
       "      <th>County Number</th>\n",
       "    </tr>\n",
       "  </thead>\n",
       "  <tbody>\n",
       "    <tr>\n",
       "      <th>count</th>\n",
       "      <td>15963.000000</td>\n",
       "      <td>15963.000000</td>\n",
       "      <td>15963.000000</td>\n",
       "      <td>1.596300e+04</td>\n",
       "      <td>15963.000000</td>\n",
       "      <td>15963.000000</td>\n",
       "    </tr>\n",
       "    <tr>\n",
       "      <th>mean</th>\n",
       "      <td>2.215749</td>\n",
       "      <td>3.252835</td>\n",
       "      <td>1837.059199</td>\n",
       "      <td>4.633165e+05</td>\n",
       "      <td>5680.536779</td>\n",
       "      <td>6044.516758</td>\n",
       "    </tr>\n",
       "    <tr>\n",
       "      <th>std</th>\n",
       "      <td>1.026447</td>\n",
       "      <td>0.949797</td>\n",
       "      <td>984.656553</td>\n",
       "      <td>6.432976e+05</td>\n",
       "      <td>7465.277971</td>\n",
       "      <td>17.335701</td>\n",
       "    </tr>\n",
       "    <tr>\n",
       "      <th>min</th>\n",
       "      <td>1.000000</td>\n",
       "      <td>1.000000</td>\n",
       "      <td>320.000000</td>\n",
       "      <td>1.216800e+04</td>\n",
       "      <td>49.180000</td>\n",
       "      <td>6037.000000</td>\n",
       "    </tr>\n",
       "    <tr>\n",
       "      <th>25%</th>\n",
       "      <td>2.000000</td>\n",
       "      <td>3.000000</td>\n",
       "      <td>1233.000000</td>\n",
       "      <td>1.820635e+05</td>\n",
       "      <td>2495.545000</td>\n",
       "      <td>6037.000000</td>\n",
       "    </tr>\n",
       "    <tr>\n",
       "      <th>50%</th>\n",
       "      <td>2.000000</td>\n",
       "      <td>3.000000</td>\n",
       "      <td>1592.000000</td>\n",
       "      <td>3.204320e+05</td>\n",
       "      <td>4063.980000</td>\n",
       "      <td>6037.000000</td>\n",
       "    </tr>\n",
       "    <tr>\n",
       "      <th>75%</th>\n",
       "      <td>3.000000</td>\n",
       "      <td>4.000000</td>\n",
       "      <td>2162.500000</td>\n",
       "      <td>5.284255e+05</td>\n",
       "      <td>6408.970000</td>\n",
       "      <td>6037.000000</td>\n",
       "    </tr>\n",
       "    <tr>\n",
       "      <th>max</th>\n",
       "      <td>20.000000</td>\n",
       "      <td>25.000000</td>\n",
       "      <td>26345.000000</td>\n",
       "      <td>1.912982e+07</td>\n",
       "      <td>228999.210000</td>\n",
       "      <td>6111.000000</td>\n",
       "    </tr>\n",
       "  </tbody>\n",
       "</table>\n",
       "</div>"
      ],
      "text/plain": [
       "       Number of Bathrooms  Number of Bedrooms   Square Feet  \\\n",
       "count         15963.000000        15963.000000  15963.000000   \n",
       "mean              2.215749            3.252835   1837.059199   \n",
       "std               1.026447            0.949797    984.656553   \n",
       "min               1.000000            1.000000    320.000000   \n",
       "25%               2.000000            3.000000   1233.000000   \n",
       "50%               2.000000            3.000000   1592.000000   \n",
       "75%               3.000000            4.000000   2162.500000   \n",
       "max              20.000000           25.000000  26345.000000   \n",
       "\n",
       "       Tax Appraised Value   Assessed Tax  County Number  \n",
       "count         1.596300e+04   15963.000000   15963.000000  \n",
       "mean          4.633165e+05    5680.536779    6044.516758  \n",
       "std           6.432976e+05    7465.277971      17.335701  \n",
       "min           1.216800e+04      49.180000    6037.000000  \n",
       "25%           1.820635e+05    2495.545000    6037.000000  \n",
       "50%           3.204320e+05    4063.980000    6037.000000  \n",
       "75%           5.284255e+05    6408.970000    6037.000000  \n",
       "max           1.912982e+07  228999.210000    6111.000000  "
      ]
     },
     "execution_count": 8,
     "metadata": {},
     "output_type": "execute_result"
    }
   ],
   "source": [
    "df_z.describe()"
   ]
  },
  {
   "cell_type": "markdown",
   "metadata": {},
   "source": [
    "### Median values - mean and median values for bathrooms, bedrooms and square footage are close in value, allowing for an assumption of normality"
   ]
  },
  {
   "cell_type": "code",
   "execution_count": 9,
   "metadata": {},
   "outputs": [
    {
     "data": {
      "text/plain": [
       "Number of Bathrooms         2.00\n",
       "Number of Bedrooms          3.00\n",
       "Square Feet              1592.00\n",
       "Tax Appraised Value    320432.00\n",
       "Assessed Tax             4063.98\n",
       "County Number            6037.00\n",
       "dtype: float64"
      ]
     },
     "execution_count": 9,
     "metadata": {},
     "output_type": "execute_result"
    }
   ],
   "source": [
    "df_z.median()"
   ]
  },
  {
   "cell_type": "markdown",
   "metadata": {},
   "source": [
    " "
   ]
  },
  {
   "cell_type": "markdown",
   "metadata": {},
   "source": [
    " "
   ]
  },
  {
   "cell_type": "markdown",
   "metadata": {},
   "source": [
    "### Visualizations of the data set"
   ]
  },
  {
   "cell_type": "markdown",
   "metadata": {},
   "source": [
    "#### Distribution of the number of bathrooms by assessed tax - there are significant outliers for assessed taxes for houses with mean number of bathrooms"
   ]
  },
  {
   "cell_type": "code",
   "execution_count": 10,
   "metadata": {},
   "outputs": [
    {
     "data": {
      "image/png": "[encoded data removed]",
      "text/plain": [
       "<Figure size 1152x432 with 1 Axes>"
      ]
     },
     "metadata": {
      "needs_background": "light"
     },
     "output_type": "display_data"
    }
   ],
   "source": [
    "plt.figure(figsize=(16, 6))\n",
    "ax1 = sns.boxplot(x=df_z[\"Number of Bathrooms\"], y=df_z[\"Assessed Tax\"], data=df_z)\\\n",
    ".set_title('Distribution of the number of bathrooms by assessed tax', fontsize = 18)"
   ]
  },
  {
   "cell_type": "markdown",
   "metadata": {},
   "source": [
    " "
   ]
  },
  {
   "cell_type": "markdown",
   "metadata": {},
   "source": [
    "#### Distribution of the number of bedrooms by assessed tax - there are significant outliers for assessed taxes for houses with mean number of bedrooms"
   ]
  },
  {
   "cell_type": "code",
   "execution_count": 11,
   "metadata": {},
   "outputs": [
    {
     "data": {
      "image/png": "[encoded data removed]",
      "text/plain": [
       "<Figure size 1152x432 with 1 Axes>"
      ]
     },
     "metadata": {
      "needs_background": "light"
     },
     "output_type": "display_data"
    }
   ],
   "source": [
    "plt.figure(figsize=(16, 6))\n",
    "ax2 = sns.boxplot(x=df_z[\"Number of Bedrooms\"], y=df_z[\"Assessed Tax\"], data=df_z)\\\n",
    ".set_title('Distribution of the number of bedrooms by assessed tax', fontsize = 18)"
   ]
  },
  {
   "cell_type": "markdown",
   "metadata": {},
   "source": [
    " "
   ]
  },
  {
   "cell_type": "markdown",
   "metadata": {},
   "source": [
    "#### Histogram of the single-unit square footage - this is a fairly normal distribution with a long tail for mansions"
   ]
  },
  {
   "cell_type": "code",
   "execution_count": 12,
   "metadata": {},
   "outputs": [
    {
     "data": {
      "image/png": "[encoded data removed]",
      "text/plain": [
       "<Figure size 1152x432 with 1 Axes>"
      ]
     },
     "metadata": {
      "needs_background": "light"
     },
     "output_type": "display_data"
    }
   ],
   "source": [
    "plt.figure(figsize=(16, 6))\n",
    "ax3 = sns.distplot(df_z['Square Feet'])\\\n",
    ".set_title('Histogram of the single-unit square footage', fontsize = 18)"
   ]
  },
  {
   "cell_type": "markdown",
   "metadata": {},
   "source": [
    " "
   ]
  },
  {
   "cell_type": "markdown",
   "metadata": {},
   "source": [
    "### Split variables into X and y, then train and test"
   ]
  },
  {
   "cell_type": "markdown",
   "metadata": {},
   "source": [
    " #### Remove columns of data not necessary for this phase of the analysis and create a new dataframe for the y variable"
   ]
  },
  {
   "cell_type": "code",
   "execution_count": 13,
   "metadata": {},
   "outputs": [],
   "source": [
    "X = df_z.drop(columns=['Property Description', 'Tax Appraised Value', 'Assessed Tax', 'County Number'])\n",
    "y=df_z[['Tax Appraised Value']]"
   ]
  },
  {
   "cell_type": "markdown",
   "metadata": {},
   "source": [
    " "
   ]
  },
  {
   "cell_type": "markdown",
   "metadata": {},
   "source": [
    "#### Split the modified/new variables into train and test, with 80% of data rows in the two train variables."
   ]
  },
  {
   "cell_type": "code",
   "execution_count": 14,
   "metadata": {},
   "outputs": [],
   "source": [
    "x_train, x_test, y_train, y_test = z_split_scale.split_my_data(X,y)"
   ]
  },
  {
   "cell_type": "markdown",
   "metadata": {},
   "source": [
    " "
   ]
  },
  {
   "cell_type": "markdown",
   "metadata": {},
   "source": [
    "#### Sample of x_train data to verify split and column changes occured"
   ]
  },
  {
   "cell_type": "code",
   "execution_count": 15,
   "metadata": {},
   "outputs": [
    {
     "data": {
      "text/html": [
       "<div>\n",
       "<style scoped>\n",
       "    .dataframe tbody tr th:only-of-type {\n",
       "        vertical-align: middle;\n",
       "    }\n",
       "\n",
       "    .dataframe tbody tr th {\n",
       "        vertical-align: top;\n",
       "    }\n",
       "\n",
       "    .dataframe thead th {\n",
       "        text-align: right;\n",
       "    }\n",
       "</style>\n",
       "<table border=\"1\" class=\"dataframe\">\n",
       "  <thead>\n",
       "    <tr style=\"text-align: right;\">\n",
       "      <th></th>\n",
       "      <th>Number of Bathrooms</th>\n",
       "      <th>Number of Bedrooms</th>\n",
       "      <th>Square Feet</th>\n",
       "    </tr>\n",
       "  </thead>\n",
       "  <tbody>\n",
       "    <tr>\n",
       "      <th>8609</th>\n",
       "      <td>2.5</td>\n",
       "      <td>3</td>\n",
       "      <td>2248</td>\n",
       "    </tr>\n",
       "    <tr>\n",
       "      <th>639</th>\n",
       "      <td>3.0</td>\n",
       "      <td>4</td>\n",
       "      <td>1596</td>\n",
       "    </tr>\n",
       "  </tbody>\n",
       "</table>\n",
       "</div>"
      ],
      "text/plain": [
       "      Number of Bathrooms  Number of Bedrooms  Square Feet\n",
       "8609                  2.5                   3         2248\n",
       "639                   3.0                   4         1596"
      ]
     },
     "execution_count": 15,
     "metadata": {},
     "output_type": "execute_result"
    }
   ],
   "source": [
    "x_train.sample(2)"
   ]
  },
  {
   "cell_type": "markdown",
   "metadata": {},
   "source": [
    " "
   ]
  },
  {
   "cell_type": "markdown",
   "metadata": {},
   "source": [
    "#### Sample of y_test data to verify new column was created and the split occured"
   ]
  },
  {
   "cell_type": "code",
   "execution_count": 38,
   "metadata": {},
   "outputs": [
    {
     "data": {
      "text/html": [
       "<div>\n",
       "<style scoped>\n",
       "    .dataframe tbody tr th:only-of-type {\n",
       "        vertical-align: middle;\n",
       "    }\n",
       "\n",
       "    .dataframe tbody tr th {\n",
       "        vertical-align: top;\n",
       "    }\n",
       "\n",
       "    .dataframe thead th {\n",
       "        text-align: right;\n",
       "    }\n",
       "</style>\n",
       "<table border=\"1\" class=\"dataframe\">\n",
       "  <thead>\n",
       "    <tr style=\"text-align: right;\">\n",
       "      <th></th>\n",
       "      <th>Tax Appraised Value</th>\n",
       "    </tr>\n",
       "  </thead>\n",
       "  <tbody>\n",
       "    <tr>\n",
       "      <th>2768</th>\n",
       "      <td>605492</td>\n",
       "    </tr>\n",
       "    <tr>\n",
       "      <th>2644</th>\n",
       "      <td>7766509</td>\n",
       "    </tr>\n",
       "  </tbody>\n",
       "</table>\n",
       "</div>"
      ],
      "text/plain": [
       "      Tax Appraised Value\n",
       "2768               605492\n",
       "2644              7766509"
      ]
     },
     "execution_count": 38,
     "metadata": {},
     "output_type": "execute_result"
    }
   ],
   "source": [
    "y_train.sample(2)"
   ]
  },
  {
   "cell_type": "markdown",
   "metadata": {},
   "source": [
    " "
   ]
  },
  {
   "cell_type": "markdown",
   "metadata": {},
   "source": [
    "### Visualization of the split x variable"
   ]
  },
  {
   "cell_type": "markdown",
   "metadata": {},
   "source": [
    "#### Pair plot showing histogram and scatter plot of each combination of x_train variable (i.e. bathrooms, bathrooms and square feet)"
   ]
  },
  {
   "cell_type": "code",
   "execution_count": 17,
   "metadata": {},
   "outputs": [
    {
     "data": {
      "text/plain": [
       "Text(0.5, 0.98, 'Histogram and scatter plot for every combinaiton of x_train variable')"
      ]
     },
     "execution_count": 17,
     "metadata": {},
     "output_type": "execute_result"
    },
    {
     "data": {
      "image/png": "[encoded data removed]",
      "text/plain": [
       "<Figure size 540x540 with 12 Axes>"
      ]
     },
     "metadata": {
      "needs_background": "light"
     },
     "output_type": "display_data"
    }
   ],
   "source": [
    "g = sns.PairGrid(x_train)\n",
    "g.map_diag(plt.hist)\n",
    "g.map_offdiag(plt.scatter)\n",
    "g.fig.suptitle('Histogram and scatter plot for every combinaiton of x_train variable', fontsize = 16)"
   ]
  },
  {
   "cell_type": "markdown",
   "metadata": {},
   "source": [
    " "
   ]
  },
  {
   "cell_type": "markdown",
   "metadata": {},
   "source": [
    "## Apply standard scaler to x_train and x_test"
   ]
  },
  {
   "cell_type": "markdown",
   "metadata": {},
   "source": [
    "#### Because of assumption that the x (dependent) variables are normally distributed, the standard scaler will be used."
   ]
  },
  {
   "cell_type": "code",
   "execution_count": 18,
   "metadata": {},
   "outputs": [],
   "source": [
    "train_x_scaled_data, test_x_scaled_data,scaler_x_train, scaler_x_test = z_split_scale.standard_scaler(x_train,x_test)"
   ]
  },
  {
   "cell_type": "markdown",
   "metadata": {},
   "source": [
    " "
   ]
  },
  {
   "cell_type": "markdown",
   "metadata": {},
   "source": [
    "#### Verify data scaler has transformed independent variables to harmonize the scales among the variables"
   ]
  },
  {
   "cell_type": "code",
   "execution_count": 19,
   "metadata": {},
   "outputs": [
    {
     "data": {
      "text/html": [
       "<div>\n",
       "<style scoped>\n",
       "    .dataframe tbody tr th:only-of-type {\n",
       "        vertical-align: middle;\n",
       "    }\n",
       "\n",
       "    .dataframe tbody tr th {\n",
       "        vertical-align: top;\n",
       "    }\n",
       "\n",
       "    .dataframe thead th {\n",
       "        text-align: right;\n",
       "    }\n",
       "</style>\n",
       "<table border=\"1\" class=\"dataframe\">\n",
       "  <thead>\n",
       "    <tr style=\"text-align: right;\">\n",
       "      <th></th>\n",
       "      <th>Number of Bathrooms</th>\n",
       "      <th>Number of Bedrooms</th>\n",
       "      <th>Square Feet</th>\n",
       "    </tr>\n",
       "  </thead>\n",
       "  <tbody>\n",
       "    <tr>\n",
       "      <th>8477</th>\n",
       "      <td>0.278822</td>\n",
       "      <td>-0.262844</td>\n",
       "      <td>-0.054008</td>\n",
       "    </tr>\n",
       "    <tr>\n",
       "      <th>10275</th>\n",
       "      <td>-0.207660</td>\n",
       "      <td>0.783780</td>\n",
       "      <td>0.016880</td>\n",
       "    </tr>\n",
       "  </tbody>\n",
       "</table>\n",
       "</div>"
      ],
      "text/plain": [
       "       Number of Bathrooms  Number of Bedrooms  Square Feet\n",
       "8477              0.278822           -0.262844    -0.054008\n",
       "10275            -0.207660            0.783780     0.016880"
      ]
     },
     "execution_count": 19,
     "metadata": {},
     "output_type": "execute_result"
    }
   ],
   "source": [
    "train_x_scaled_data.head(2)"
   ]
  },
  {
   "cell_type": "markdown",
   "metadata": {},
   "source": [
    " "
   ]
  },
  {
   "cell_type": "markdown",
   "metadata": {},
   "source": [
    " "
   ]
  },
  {
   "cell_type": "markdown",
   "metadata": {},
   "source": [
    "# Data modeling"
   ]
  },
  {
   "cell_type": "markdown",
   "metadata": {},
   "source": [
    "## Run regression on baseline model and 3 models"
   ]
  },
  {
   "cell_type": "markdown",
   "metadata": {},
   "source": [
    " "
   ]
  },
  {
   "cell_type": "code",
   "execution_count": null,
   "metadata": {},
   "outputs": [],
   "source": []
  },
  {
   "cell_type": "code",
   "execution_count": null,
   "metadata": {},
   "outputs": [],
   "source": []
  },
  {
   "cell_type": "markdown",
   "metadata": {},
   "source": []
  },
  {
   "cell_type": "markdown",
   "metadata": {},
   "source": [
    " "
   ]
  },
  {
   "cell_type": "markdown",
   "metadata": {},
   "source": [
    " "
   ]
  },
  {
   "cell_type": "code",
   "execution_count": 20,
   "metadata": {},
   "outputs": [
    {
     "data": {
      "text/html": [
       "<div>\n",
       "<style scoped>\n",
       "    .dataframe tbody tr th:only-of-type {\n",
       "        vertical-align: middle;\n",
       "    }\n",
       "\n",
       "    .dataframe tbody tr th {\n",
       "        vertical-align: top;\n",
       "    }\n",
       "\n",
       "    .dataframe thead th {\n",
       "        text-align: right;\n",
       "    }\n",
       "</style>\n",
       "<table border=\"1\" class=\"dataframe\">\n",
       "  <thead>\n",
       "    <tr style=\"text-align: right;\">\n",
       "      <th></th>\n",
       "      <th>actual</th>\n",
       "      <th>lm1</th>\n",
       "      <th>lm2</th>\n",
       "      <th>lm3</th>\n",
       "      <th>baseline</th>\n",
       "    </tr>\n",
       "  </thead>\n",
       "  <tbody>\n",
       "    <tr>\n",
       "      <th>0</th>\n",
       "      <td>378038</td>\n",
       "      <td>489000.394632</td>\n",
       "      <td>439752.591875</td>\n",
       "      <td>597899.189244</td>\n",
       "      <td>462043.629601</td>\n",
       "    </tr>\n",
       "    <tr>\n",
       "      <th>1</th>\n",
       "      <td>600000</td>\n",
       "      <td>350635.071116</td>\n",
       "      <td>469010.509667</td>\n",
       "      <td>308978.373883</td>\n",
       "      <td>462043.629601</td>\n",
       "    </tr>\n",
       "    <tr>\n",
       "      <th>2</th>\n",
       "      <td>274121</td>\n",
       "      <td>544289.115431</td>\n",
       "      <td>860648.637825</td>\n",
       "      <td>517427.056179</td>\n",
       "      <td>462043.629601</td>\n",
       "    </tr>\n",
       "    <tr>\n",
       "      <th>3</th>\n",
       "      <td>190192</td>\n",
       "      <td>173113.494416</td>\n",
       "      <td>223661.970469</td>\n",
       "      <td>8181.454481</td>\n",
       "      <td>462043.629601</td>\n",
       "    </tr>\n",
       "    <tr>\n",
       "      <th>4</th>\n",
       "      <td>282036</td>\n",
       "      <td>472055.385009</td>\n",
       "      <td>448529.967213</td>\n",
       "      <td>401326.610990</td>\n",
       "      <td>462043.629601</td>\n",
       "    </tr>\n",
       "  </tbody>\n",
       "</table>\n",
       "</div>"
      ],
      "text/plain": [
       "   actual            lm1            lm2            lm3       baseline\n",
       "0  378038  489000.394632  439752.591875  597899.189244  462043.629601\n",
       "1  600000  350635.071116  469010.509667  308978.373883  462043.629601\n",
       "2  274121  544289.115431  860648.637825  517427.056179  462043.629601\n",
       "3  190192  173113.494416  223661.970469    8181.454481  462043.629601\n",
       "4  282036  472055.385009  448529.967213  401326.610990  462043.629601"
      ]
     },
     "execution_count": 20,
     "metadata": {},
     "output_type": "execute_result"
    }
   ],
   "source": [
    "predictions=pd.DataFrame({'actual':y_train['Tax Appraised Value']}).reset_index(drop=True)\n",
    "\n",
    "#model 1 - all 3 variables\n",
    "lm1=LinearRegression()\n",
    "lm1.fit(train_x_scaled_data[['Number of Bathrooms', 'Number of Bedrooms', 'Square Feet']],y_train)\n",
    "lm1_predictions=lm1.predict(train_x_scaled_data[['Number of Bathrooms', 'Number of Bedrooms', 'Square Feet']])\n",
    "predictions['lm1']=lm1_predictions\n",
    "\n",
    "#model 2 - just square feet\n",
    "lm2=LinearRegression()\n",
    "lm2.fit(train_x_scaled_data[['Square Feet']],y_train)\n",
    "lm2_predictions=lm2.predict(train_x_scaled_data[['Square Feet']])\n",
    "predictions['lm2']=lm2_predictions\n",
    "\n",
    "#model 3 - only number of bedrooms and bathrooms\n",
    "lm3=LinearRegression()\n",
    "lm3.fit(train_x_scaled_data[['Number of Bathrooms', 'Number of Bedrooms']],y_train)\n",
    "lm3_predictions=lm3.predict(train_x_scaled_data[['Number of Bathrooms', 'Number of Bedrooms']])\n",
    "predictions['lm3']=lm3_predictions\n",
    "\n",
    "#baseline model (mean)\n",
    "predictions['baseline'] = y_train.mean()[0]\n",
    "predictions.head()\n",
    "\n",
    "#print(lm1.intercept_,lm1.coef_)"
   ]
  },
  {
   "cell_type": "markdown",
   "metadata": {},
   "source": [
    "#### Evaluate baseline and 3 models"
   ]
  },
  {
   "cell_type": "code",
   "execution_count": 21,
   "metadata": {},
   "outputs": [
    {
     "name": "stdout",
     "output_type": "stream",
     "text": [
      "MSE baseline: 420928611175.0658\n",
      "SSE baseline: 5375258364705590.0\n",
      "RMSE baseline: 648790.1133456534\n",
      "R2 baseline: 0.0\n"
     ]
    }
   ],
   "source": [
    "#Baseline\n",
    "MSE_baseline = mean_squared_error(predictions.actual, predictions.baseline)\n",
    "SSE_baseline = MSE_baseline*len(predictions.actual)\n",
    "RMSE_baseline = sqrt(MSE_baseline)\n",
    "r2_baseline = r2_score(predictions.actual, predictions.baseline)\n",
    "print('MSE baseline:', MSE_baseline)\n",
    "print('SSE baseline:', SSE_baseline)\n",
    "print('RMSE baseline:', RMSE_baseline)\n",
    "print('R2 baseline:', r2_baseline)"
   ]
  },
  {
   "cell_type": "markdown",
   "metadata": {},
   "source": [
    " "
   ]
  },
  {
   "cell_type": "code",
   "execution_count": 22,
   "metadata": {},
   "outputs": [
    {
     "name": "stdout",
     "output_type": "stream",
     "text": [
      "MSE model 1: 240025152945.04852\n",
      "SSE model 1: 3065121203108269.5\n",
      "RMSE model 1: 489923.6195010897\n",
      "R2 model 1: 0.4297723020656794\n"
     ]
    }
   ],
   "source": [
    "#Model 1: number of bedrooms, number of bathrooms and square feet\n",
    "MSE_1 = mean_squared_error(predictions.actual, predictions.lm1)\n",
    "SSE_1 = MSE_1*len(predictions.actual)\n",
    "RMSE_1 = sqrt(MSE_1)\n",
    "r2_1 = r2_score(predictions.actual, predictions.lm1)\n",
    "print('MSE model 1:', MSE_1)\n",
    "print('SSE model 1:', SSE_1)\n",
    "print('RMSE model 1:', RMSE_1)\n",
    "print('R2 model 1:', r2_1)"
   ]
  },
  {
   "cell_type": "markdown",
   "metadata": {},
   "source": [
    " "
   ]
  },
  {
   "cell_type": "code",
   "execution_count": 23,
   "metadata": {},
   "outputs": [
    {
     "name": "stdout",
     "output_type": "stream",
     "text": [
      "MSE model 2: 250577596757.9224\n",
      "SSE model 2: 3199875910598669.0\n",
      "RMSE model 2: 500577.2635247454\n",
      "R2 model 2: 0.40470286384570275\n"
     ]
    }
   ],
   "source": [
    "#Model 2: square feet only\n",
    "MSE_2 = mean_squared_error(predictions.actual, predictions.lm2)\n",
    "SSE_2 = MSE_2*len(predictions.actual)\n",
    "RMSE_2 = sqrt(MSE_2)\n",
    "r2_2 = r2_score(predictions.actual, predictions.lm2)\n",
    "print('MSE model 2:', MSE_2)\n",
    "print('SSE model 2:', SSE_2)\n",
    "print('RMSE model 2:', RMSE_2)\n",
    "print('R2 model 2:', r2_2)"
   ]
  },
  {
   "cell_type": "markdown",
   "metadata": {},
   "source": [
    " "
   ]
  },
  {
   "cell_type": "code",
   "execution_count": 24,
   "metadata": {},
   "outputs": [
    {
     "name": "stdout",
     "output_type": "stream",
     "text": [
      "MSE model 3: 250577596757.9224\n",
      "SSE model 3: 3199875910598669.0\n",
      "RMSE model 3: 500577.2635247454\n",
      "R2 model 3: 0.2954275801853904\n"
     ]
    }
   ],
   "source": [
    "#Model 3: bedrooms and bathrooms only\n",
    "MSE_3 = mean_squared_error(predictions.actual, predictions.lm2)\n",
    "SSE_3 = MSE_3*len(predictions.actual)\n",
    "RMSE_3 = sqrt(MSE_3)\n",
    "r2_3 = r2_score(predictions.actual, predictions.lm3)\n",
    "print('MSE model 3:', MSE_3)\n",
    "print('SSE model 3:', SSE_3)\n",
    "print('RMSE model 3:', RMSE_3)\n",
    "print('R2 model 3:', r2_3)"
   ]
  },
  {
   "cell_type": "markdown",
   "metadata": {},
   "source": [
    "### *** The model with number of bedrooms/bathrooms and square feet performed the best. ***"
   ]
  },
  {
   "cell_type": "markdown",
   "metadata": {},
   "source": [
    " "
   ]
  },
  {
   "cell_type": "markdown",
   "metadata": {},
   "source": [
    "### Apply model to test data"
   ]
  },
  {
   "cell_type": "code",
   "execution_count": 39,
   "metadata": {},
   "outputs": [
    {
     "data": {
      "text/html": [
       "<div>\n",
       "<style scoped>\n",
       "    .dataframe tbody tr th:only-of-type {\n",
       "        vertical-align: middle;\n",
       "    }\n",
       "\n",
       "    .dataframe tbody tr th {\n",
       "        vertical-align: top;\n",
       "    }\n",
       "\n",
       "    .dataframe thead th {\n",
       "        text-align: right;\n",
       "    }\n",
       "</style>\n",
       "<table border=\"1\" class=\"dataframe\">\n",
       "  <thead>\n",
       "    <tr style=\"text-align: right;\">\n",
       "      <th></th>\n",
       "      <th>predictions</th>\n",
       "      <th>Tax Appraised Value</th>\n",
       "    </tr>\n",
       "  </thead>\n",
       "  <tbody>\n",
       "    <tr>\n",
       "      <th>0</th>\n",
       "      <td>106165.483511</td>\n",
       "      <td>208546</td>\n",
       "    </tr>\n",
       "    <tr>\n",
       "      <th>1</th>\n",
       "      <td>43677.550912</td>\n",
       "      <td>137176</td>\n",
       "    </tr>\n",
       "    <tr>\n",
       "      <th>2</th>\n",
       "      <td>610147.127835</td>\n",
       "      <td>227220</td>\n",
       "    </tr>\n",
       "    <tr>\n",
       "      <th>3</th>\n",
       "      <td>774899.441594</td>\n",
       "      <td>220308</td>\n",
       "    </tr>\n",
       "    <tr>\n",
       "      <th>4</th>\n",
       "      <td>73182.027680</td>\n",
       "      <td>395686</td>\n",
       "    </tr>\n",
       "  </tbody>\n",
       "</table>\n",
       "</div>"
      ],
      "text/plain": [
       "     predictions  Tax Appraised Value\n",
       "0  106165.483511               208546\n",
       "1   43677.550912               137176\n",
       "2  610147.127835               227220\n",
       "3  774899.441594               220308\n",
       "4   73182.027680               395686"
      ]
     },
     "execution_count": 39,
     "metadata": {},
     "output_type": "execute_result"
    }
   ],
   "source": [
    "model=lm1.predict(test_x_scaled_data[['Number of Bathrooms', 'Number of Bedrooms', 'Square Feet']])\n",
    "model=model.ravel().reshape(3193)\n",
    "y_test1=np.array(y_test).ravel().reshape(3193)\n",
    "best_model=pd.DataFrame({'predictions':model,'Tax Appraised Value':y_test1})\n",
    "\n",
    "best_model.head()"
   ]
  },
  {
   "cell_type": "markdown",
   "metadata": {},
   "source": [
    "### Function that creates the model object, fits and predicts, given X_train, X_test, y_train, y_test"
   ]
  },
  {
   "cell_type": "code",
   "execution_count": 49,
   "metadata": {},
   "outputs": [],
   "source": [
    "X_train1 = train_x_scaled_data[['Number of Bathrooms', 'Number of Bedrooms', 'Square Feet']]\n",
    "X_test1 = test_x_scaled_data[['Number of Bathrooms', 'Number of Bedrooms', 'Square Feet']]\n",
    "def modeling_function(X_train1, X_test1,y_train,y_test):\n",
    "    predictions_train=pd.DataFrame({'actual': y_train[\"Tax Appraised Value\"]}).reset_index(drop=True)\n",
    "    print(predictions_train)\n",
    "    predictions_test=pd.DataFrame({'actual': y_test[\"Tax Appraised Value\"]}).reset_index(drop=True)\n",
    "        \n",
    "    #model 1\n",
    "    lm1=LinearRegression()\n",
    "    lm1.fit(train_x_scaled_data,y_train)\n",
    "    lm1_predictions=lm1.predict(train_x_scaled_data)\n",
    "    predictions_train['lm1']=lm1_predictions\n",
    "\n",
    "    #model 2\n",
    "    lm2=LinearRegression()\n",
    "    lm2.fit(test_x_scaled_data,y_test)\n",
    "    lm2_predictions=lm2.predict(test_x_scaled_data)\n",
    "    predictions_test['lm2']=lm2_predictions\n",
    "    \n",
    "    #model 3\n",
    "    lm3=LinearRegression()\n",
    "    lm3.fit(test_x_scaled_data,y_test)\n",
    "    lm3_predictions=lm3.predict(test_x_scaled_data)\n",
    "    predictions_test['lm3']=lm3_predictions\n",
    "    \n",
    "    return predictions_train,predictions_test"
   ]
  },
  {
   "cell_type": "code",
   "execution_count": null,
   "metadata": {},
   "outputs": [],
   "source": []
  },
  {
   "cell_type": "markdown",
   "metadata": {},
   "source": [
    " "
   ]
  },
  {
   "cell_type": "code",
   "execution_count": 53,
   "metadata": {},
   "outputs": [
    {
     "name": "stdout",
     "output_type": "stream",
     "text": [
      "        actual\n",
      "0       378038\n",
      "1       600000\n",
      "2       274121\n",
      "3       190192\n",
      "4       282036\n",
      "5        91911\n",
      "6       712558\n",
      "7       235895\n",
      "8       108060\n",
      "9       393900\n",
      "10      320414\n",
      "11      164352\n",
      "12      463417\n",
      "13      249654\n",
      "14      207901\n",
      "15      582000\n",
      "16      299690\n",
      "17      266321\n",
      "18       87019\n",
      "19      847409\n",
      "20     1748575\n",
      "21      304716\n",
      "22      330455\n",
      "23      490682\n",
      "24      226328\n",
      "25      201000\n",
      "26      299860\n",
      "27      475330\n",
      "28      343953\n",
      "29      244037\n",
      "...        ...\n",
      "12740   417622\n",
      "12741    22520\n",
      "12742    79222\n",
      "12743   290733\n",
      "12744   468122\n",
      "12745   102809\n",
      "12746   122876\n",
      "12747   259935\n",
      "12748   517938\n",
      "12749   285007\n",
      "12750    51872\n",
      "12751    67463\n",
      "12752   763725\n",
      "12753   318218\n",
      "12754   610262\n",
      "12755   440247\n",
      "12756   115029\n",
      "12757   563463\n",
      "12758   372923\n",
      "12759   215765\n",
      "12760   227199\n",
      "12761    51476\n",
      "12762   221331\n",
      "12763   347259\n",
      "12764   101068\n",
      "12765   455620\n",
      "12766   104266\n",
      "12767    80102\n",
      "12768   126286\n",
      "12769   297133\n",
      "\n",
      "[12770 rows x 1 columns]\n"
     ]
    }
   ],
   "source": [
    "model_train, model_test = modeling_function(X_train1, X_test1, y_train, y_test)"
   ]
  },
  {
   "cell_type": "markdown",
   "metadata": {},
   "source": [
    " "
   ]
  },
  {
   "cell_type": "code",
   "execution_count": 54,
   "metadata": {},
   "outputs": [
    {
     "name": "stdout",
     "output_type": "stream",
     "text": [
      "   actual            lm1\n",
      "0  378038  489000.394632\n",
      "1  600000  350635.071116\n",
      "   actual            lm2            lm3\n",
      "0  208546  110335.050975  110335.050975\n",
      "1  137176   69330.714266   69330.714266\n"
     ]
    }
   ],
   "source": [
    "print(model_train.head(2))\n",
    "print(model_test.head(2))"
   ]
  },
  {
   "cell_type": "markdown",
   "metadata": {},
   "source": [
    "Predicted values for y_train given the linear regression model"
   ]
  },
  {
   "cell_type": "code",
   "execution_count": null,
   "metadata": {},
   "outputs": [],
   "source": [
    "y_pred_lm1 = lm1.predict(train_x_scaled_data)\n",
    "y_pred_lm1"
   ]
  },
  {
   "cell_type": "markdown",
   "metadata": {},
   "source": [
    " "
   ]
  },
  {
   "cell_type": "code",
   "execution_count": null,
   "metadata": {},
   "outputs": [],
   "source": []
  },
  {
   "cell_type": "code",
   "execution_count": null,
   "metadata": {
    "scrolled": true
   },
   "outputs": [],
   "source": []
  },
  {
   "cell_type": "code",
   "execution_count": null,
   "metadata": {},
   "outputs": [],
   "source": [
    "res = sm.OLS(y_test, test_x_scaled_data).fit()\n",
    "res.summary()"
   ]
  },
  {
   "cell_type": "markdown",
   "metadata": {},
   "source": [
    "## Distribution of tax rates for each county"
   ]
  },
  {
   "cell_type": "code",
   "execution_count": null,
   "metadata": {},
   "outputs": [],
   "source": [
    "df_z['County Tax Rates'] = df_z['Assessed Tax']/df_z['Tax Appraised Value']"
   ]
  },
  {
   "cell_type": "code",
   "execution_count": null,
   "metadata": {},
   "outputs": [],
   "source": [
    "df_z.head()"
   ]
  },
  {
   "cell_type": "code",
   "execution_count": null,
   "metadata": {},
   "outputs": [],
   "source": [
    "v = df_z[df_z['County Number'] == 6111]\n",
    "l = df_z[df_z['County Number'] == 6037]\n",
    "o = df_z[df_z['County Number'] == 6059]"
   ]
  },
  {
   "cell_type": "code",
   "execution_count": null,
   "metadata": {},
   "outputs": [],
   "source": [
    "plt.figure(figsize=(16, 6))\n",
    "plt.suptitle('Distribution of Tax Rates by County (per $ of Assessed Value)', fontsize=14)\n",
    "\n",
    "plt.subplot(331)\n",
    "sns.distplot(l['County Tax Rates'])\n",
    "plt.title('Los Angeles')\n",
    "\n",
    "plt.subplot(332)\n",
    "sns.distplot(o['County Tax Rates'])\n",
    "plt.title('Orange')\n",
    "\n",
    "plt.subplot(333)\n",
    "sns.distplot(v['County Tax Rates'])\n",
    "plt.title('Ventura')\n",
    "plt.show()"
   ]
  },
  {
   "cell_type": "code",
   "execution_count": null,
   "metadata": {},
   "outputs": [],
   "source": [
    "Los_Angeles_County = l.describe()\n",
    "Los_Angeles_County"
   ]
  },
  {
   "cell_type": "code",
   "execution_count": null,
   "metadata": {},
   "outputs": [],
   "source": [
    "Orange_County = o.describe()\n",
    "Orange_County"
   ]
  },
  {
   "cell_type": "code",
   "execution_count": null,
   "metadata": {},
   "outputs": [],
   "source": [
    "Ventura_County = v.describe()\n",
    "Ventura_County"
   ]
  },
  {
   "cell_type": "code",
   "execution_count": null,
   "metadata": {},
   "outputs": [],
   "source": []
  }
 ],
 "metadata": {
  "kernelspec": {
   "display_name": "Python 3",
   "language": "python",
   "name": "python3"
  },
  "language_info": {
   "codemirror_mode": {
    "name": "ipython",
    "version": 3
   },
   "file_extension": ".py",
   "mimetype": "text/x-python",
   "name": "python",
   "nbconvert_exporter": "python",
   "pygments_lexer": "ipython3",
   "version": "3.7.3"
  }
 },
 "nbformat": 4,
 "nbformat_minor": 2
}
