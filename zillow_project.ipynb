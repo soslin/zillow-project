{
 "cells": [
  {
   "cell_type": "markdown",
   "metadata": {},
   "source": [
    "# Analysis of Zillow Data"
   ]
  },
  {
   "cell_type": "markdown",
   "metadata": {},
   "source": [
    "### Project goal"
   ]
  },
  {
   "cell_type": "markdown",
   "metadata": {},
   "source": [
    "The project goal was to predict the values of single unit properties that the tax district assesses using the property data from those whose last transaction was during the \"hot months\" (in terms of real estate demand) of May and June in 2017."
   ]
  },
  {
   "cell_type": "markdown",
   "metadata": {},
   "source": [
    "### Acquiring data"
   ]
  },
  {
   "cell_type": "markdown",
   "metadata": {},
   "source": [
    "The sole data source was the Zillow database. Data was wrangled using MySQL and Python. For detailed information on data preparation........."
   ]
  },
  {
   "cell_type": "code",
   "execution_count": 3,
   "metadata": {},
   "outputs": [],
   "source": [
    "import pandas as pd\n",
    "import numpy as np\n",
    "import matplotlib.pyplot as plt\n",
    "import seaborn as sns\n",
    "from sklearn.model_selection import train_test_split\n",
    "from sklearn.preprocessing import StandardScaler\n",
    "from sklearn.metrics import mean_squared_error, r2_score, explained_variance_score\n",
    "from sklearn.feature_selection import f_regression \n",
    "from sklearn.linear_model import LinearRegression\n",
    "from math import sqrt\n",
    "import statsmodels.api as sm\n",
    "import warnings\n",
    "warnings.filterwarnings(\"ignore\")\n",
    "\n",
    "import env\n",
    "import wrangle_z\n",
    "import z_split_scale"
   ]
  },
  {
   "cell_type": "code",
   "execution_count": 4,
   "metadata": {},
   "outputs": [],
   "source": [
    "df_z = wrangle_z.wrangle_zillow()"
   ]
  },
  {
   "cell_type": "markdown",
   "metadata": {},
   "source": [
    "## Descriptive statistics"
   ]
  },
  {
   "cell_type": "code",
   "execution_count": 7,
   "metadata": {},
   "outputs": [
    {
     "data": {
      "text/html": [
       "<div>\n",
       "<style scoped>\n",
       "    .dataframe tbody tr th:only-of-type {\n",
       "        vertical-align: middle;\n",
       "    }\n",
       "\n",
       "    .dataframe tbody tr th {\n",
       "        vertical-align: top;\n",
       "    }\n",
       "\n",
       "    .dataframe thead th {\n",
       "        text-align: right;\n",
       "    }\n",
       "</style>\n",
       "<table border=\"1\" class=\"dataframe\">\n",
       "  <thead>\n",
       "    <tr style=\"text-align: right;\">\n",
       "      <th></th>\n",
       "      <th>Property Description</th>\n",
       "      <th>Number of Bathrooms</th>\n",
       "      <th>Number of Bedrooms</th>\n",
       "      <th>Square Feet</th>\n",
       "      <th>Tax Appraised Value</th>\n",
       "      <th>Assessed Tax</th>\n",
       "      <th>County Number</th>\n",
       "    </tr>\n",
       "  </thead>\n",
       "  <tbody>\n",
       "    <tr>\n",
       "      <th>5446</th>\n",
       "      <td>Single Family Residential</td>\n",
       "      <td>1.0</td>\n",
       "      <td>2.0</td>\n",
       "      <td>848.0</td>\n",
       "      <td>220212.0</td>\n",
       "      <td>2860.35</td>\n",
       "      <td>6037.0</td>\n",
       "    </tr>\n",
       "    <tr>\n",
       "      <th>6310</th>\n",
       "      <td>Single Family Residential</td>\n",
       "      <td>4.0</td>\n",
       "      <td>4.0</td>\n",
       "      <td>3720.0</td>\n",
       "      <td>390365.0</td>\n",
       "      <td>4744.86</td>\n",
       "      <td>6037.0</td>\n",
       "    </tr>\n",
       "    <tr>\n",
       "      <th>4224</th>\n",
       "      <td>Single Family Residential</td>\n",
       "      <td>3.0</td>\n",
       "      <td>3.0</td>\n",
       "      <td>1654.0</td>\n",
       "      <td>427490.0</td>\n",
       "      <td>5147.46</td>\n",
       "      <td>6037.0</td>\n",
       "    </tr>\n",
       "    <tr>\n",
       "      <th>5324</th>\n",
       "      <td>Single Family Residential</td>\n",
       "      <td>2.0</td>\n",
       "      <td>3.0</td>\n",
       "      <td>1473.0</td>\n",
       "      <td>266738.0</td>\n",
       "      <td>3330.86</td>\n",
       "      <td>6037.0</td>\n",
       "    </tr>\n",
       "    <tr>\n",
       "      <th>15284</th>\n",
       "      <td>Single Family Residential</td>\n",
       "      <td>1.0</td>\n",
       "      <td>2.0</td>\n",
       "      <td>1117.0</td>\n",
       "      <td>605000.0</td>\n",
       "      <td>7245.81</td>\n",
       "      <td>6037.0</td>\n",
       "    </tr>\n",
       "  </tbody>\n",
       "</table>\n",
       "</div>"
      ],
      "text/plain": [
       "            Property Description  Number of Bathrooms  Number of Bedrooms  \\\n",
       "5446   Single Family Residential                  1.0                 2.0   \n",
       "6310   Single Family Residential                  4.0                 4.0   \n",
       "4224   Single Family Residential                  3.0                 3.0   \n",
       "5324   Single Family Residential                  2.0                 3.0   \n",
       "15284  Single Family Residential                  1.0                 2.0   \n",
       "\n",
       "       Square Feet  Tax Appraised Value  Assessed Tax  County Number  \n",
       "5446         848.0             220212.0       2860.35         6037.0  \n",
       "6310        3720.0             390365.0       4744.86         6037.0  \n",
       "4224        1654.0             427490.0       5147.46         6037.0  \n",
       "5324        1473.0             266738.0       3330.86         6037.0  \n",
       "15284       1117.0             605000.0       7245.81         6037.0  "
      ]
     },
     "execution_count": 7,
     "metadata": {},
     "output_type": "execute_result"
    }
   ],
   "source": [
    "df_z.sample(5)"
   ]
  },
  {
   "cell_type": "code",
   "execution_count": 8,
   "metadata": {},
   "outputs": [
    {
     "data": {
      "text/html": [
       "<div>\n",
       "<style scoped>\n",
       "    .dataframe tbody tr th:only-of-type {\n",
       "        vertical-align: middle;\n",
       "    }\n",
       "\n",
       "    .dataframe tbody tr th {\n",
       "        vertical-align: top;\n",
       "    }\n",
       "\n",
       "    .dataframe thead th {\n",
       "        text-align: right;\n",
       "    }\n",
       "</style>\n",
       "<table border=\"1\" class=\"dataframe\">\n",
       "  <thead>\n",
       "    <tr style=\"text-align: right;\">\n",
       "      <th></th>\n",
       "      <th>Number of Bathrooms</th>\n",
       "      <th>Number of Bedrooms</th>\n",
       "      <th>Square Feet</th>\n",
       "      <th>Tax Appraised Value</th>\n",
       "      <th>Assessed Tax</th>\n",
       "      <th>County Number</th>\n",
       "    </tr>\n",
       "  </thead>\n",
       "  <tbody>\n",
       "    <tr>\n",
       "      <th>count</th>\n",
       "      <td>15963.000000</td>\n",
       "      <td>15963.000000</td>\n",
       "      <td>15963.000000</td>\n",
       "      <td>1.596300e+04</td>\n",
       "      <td>15963.000000</td>\n",
       "      <td>15963.000000</td>\n",
       "    </tr>\n",
       "    <tr>\n",
       "      <th>mean</th>\n",
       "      <td>2.215749</td>\n",
       "      <td>3.252835</td>\n",
       "      <td>1837.059199</td>\n",
       "      <td>4.633165e+05</td>\n",
       "      <td>5680.536779</td>\n",
       "      <td>6044.516758</td>\n",
       "    </tr>\n",
       "    <tr>\n",
       "      <th>std</th>\n",
       "      <td>1.026447</td>\n",
       "      <td>0.949797</td>\n",
       "      <td>984.656553</td>\n",
       "      <td>6.432976e+05</td>\n",
       "      <td>7465.277971</td>\n",
       "      <td>17.335701</td>\n",
       "    </tr>\n",
       "    <tr>\n",
       "      <th>min</th>\n",
       "      <td>1.000000</td>\n",
       "      <td>1.000000</td>\n",
       "      <td>320.000000</td>\n",
       "      <td>1.216800e+04</td>\n",
       "      <td>49.180000</td>\n",
       "      <td>6037.000000</td>\n",
       "    </tr>\n",
       "    <tr>\n",
       "      <th>25%</th>\n",
       "      <td>2.000000</td>\n",
       "      <td>3.000000</td>\n",
       "      <td>1233.000000</td>\n",
       "      <td>1.820635e+05</td>\n",
       "      <td>2495.545000</td>\n",
       "      <td>6037.000000</td>\n",
       "    </tr>\n",
       "    <tr>\n",
       "      <th>50%</th>\n",
       "      <td>2.000000</td>\n",
       "      <td>3.000000</td>\n",
       "      <td>1592.000000</td>\n",
       "      <td>3.204320e+05</td>\n",
       "      <td>4063.980000</td>\n",
       "      <td>6037.000000</td>\n",
       "    </tr>\n",
       "    <tr>\n",
       "      <th>75%</th>\n",
       "      <td>3.000000</td>\n",
       "      <td>4.000000</td>\n",
       "      <td>2162.500000</td>\n",
       "      <td>5.284255e+05</td>\n",
       "      <td>6408.970000</td>\n",
       "      <td>6037.000000</td>\n",
       "    </tr>\n",
       "    <tr>\n",
       "      <th>max</th>\n",
       "      <td>20.000000</td>\n",
       "      <td>25.000000</td>\n",
       "      <td>26345.000000</td>\n",
       "      <td>1.912982e+07</td>\n",
       "      <td>228999.210000</td>\n",
       "      <td>6111.000000</td>\n",
       "    </tr>\n",
       "  </tbody>\n",
       "</table>\n",
       "</div>"
      ],
      "text/plain": [
       "       Number of Bathrooms  Number of Bedrooms   Square Feet  \\\n",
       "count         15963.000000        15963.000000  15963.000000   \n",
       "mean              2.215749            3.252835   1837.059199   \n",
       "std               1.026447            0.949797    984.656553   \n",
       "min               1.000000            1.000000    320.000000   \n",
       "25%               2.000000            3.000000   1233.000000   \n",
       "50%               2.000000            3.000000   1592.000000   \n",
       "75%               3.000000            4.000000   2162.500000   \n",
       "max              20.000000           25.000000  26345.000000   \n",
       "\n",
       "       Tax Appraised Value   Assessed Tax  County Number  \n",
       "count         1.596300e+04   15963.000000   15963.000000  \n",
       "mean          4.633165e+05    5680.536779    6044.516758  \n",
       "std           6.432976e+05    7465.277971      17.335701  \n",
       "min           1.216800e+04      49.180000    6037.000000  \n",
       "25%           1.820635e+05    2495.545000    6037.000000  \n",
       "50%           3.204320e+05    4063.980000    6037.000000  \n",
       "75%           5.284255e+05    6408.970000    6037.000000  \n",
       "max           1.912982e+07  228999.210000    6111.000000  "
      ]
     },
     "execution_count": 8,
     "metadata": {},
     "output_type": "execute_result"
    }
   ],
   "source": [
    "df_z.describe()"
   ]
  },
  {
   "cell_type": "code",
   "execution_count": 10,
   "metadata": {},
   "outputs": [
    {
     "name": "stdout",
     "output_type": "stream",
     "text": [
      "<class 'pandas.core.frame.DataFrame'>\n",
      "Int64Index: 15963 entries, 0 to 15962\n",
      "Data columns (total 7 columns):\n",
      "Property Description    15963 non-null object\n",
      "Number of Bathrooms     15963 non-null float64\n",
      "Number of Bedrooms      15963 non-null float64\n",
      "Square Feet             15963 non-null float64\n",
      "Tax Appraised Value     15963 non-null float64\n",
      "Assessed Tax            15963 non-null float64\n",
      "County Number           15963 non-null float64\n",
      "dtypes: float64(6), object(1)\n",
      "memory usage: 997.7+ KB\n"
     ]
    }
   ],
   "source": [
    "df_z.info() "
   ]
  },
  {
   "cell_type": "code",
   "execution_count": 11,
   "metadata": {},
   "outputs": [
    {
     "data": {
      "text/plain": [
       "Property Description    0\n",
       "Number of Bathrooms     0\n",
       "Number of Bedrooms      0\n",
       "Square Feet             0\n",
       "Tax Appraised Value     0\n",
       "Assessed Tax            0\n",
       "County Number           0\n",
       "dtype: int64"
      ]
     },
     "execution_count": 11,
     "metadata": {},
     "output_type": "execute_result"
    }
   ],
   "source": [
    "df_z.isnull().sum()"
   ]
  },
  {
   "cell_type": "code",
   "execution_count": null,
   "metadata": {},
   "outputs": [],
   "source": []
  },
  {
   "cell_type": "markdown",
   "metadata": {},
   "source": [
    "## Split variables into X and y, then train and test"
   ]
  },
  {
   "cell_type": "code",
   "execution_count": 12,
   "metadata": {},
   "outputs": [],
   "source": [
    "X = df_z.drop(columns=['Property Description', 'Tax Appraised Value', 'Assessed Tax', 'County Number'])\n",
    "y=df_z[['Tax Appraised Value']]"
   ]
  },
  {
   "cell_type": "code",
   "execution_count": 13,
   "metadata": {},
   "outputs": [],
   "source": [
    "x_train, x_test, y_train, y_test = z_split_scale.split_my_data(X,y)"
   ]
  },
  {
   "cell_type": "code",
   "execution_count": 14,
   "metadata": {},
   "outputs": [
    {
     "name": "stdout",
     "output_type": "stream",
     "text": [
      "<class 'pandas.core.frame.DataFrame'>\n",
      "Int64Index: 12770 entries, 8477 to 3582\n",
      "Data columns (total 3 columns):\n",
      "Number of Bathrooms    12770 non-null float64\n",
      "Number of Bedrooms     12770 non-null float64\n",
      "Square Feet            12770 non-null float64\n",
      "dtypes: float64(3)\n",
      "memory usage: 399.1 KB\n"
     ]
    }
   ],
   "source": [
    "x_train.info()"
   ]
  },
  {
   "cell_type": "code",
   "execution_count": 15,
   "metadata": {},
   "outputs": [
    {
     "data": {
      "text/html": [
       "<div>\n",
       "<style scoped>\n",
       "    .dataframe tbody tr th:only-of-type {\n",
       "        vertical-align: middle;\n",
       "    }\n",
       "\n",
       "    .dataframe tbody tr th {\n",
       "        vertical-align: top;\n",
       "    }\n",
       "\n",
       "    .dataframe thead th {\n",
       "        text-align: right;\n",
       "    }\n",
       "</style>\n",
       "<table border=\"1\" class=\"dataframe\">\n",
       "  <thead>\n",
       "    <tr style=\"text-align: right;\">\n",
       "      <th></th>\n",
       "      <th>Number of Bathrooms</th>\n",
       "      <th>Number of Bedrooms</th>\n",
       "      <th>Square Feet</th>\n",
       "    </tr>\n",
       "  </thead>\n",
       "  <tbody>\n",
       "    <tr>\n",
       "      <th>8477</th>\n",
       "      <td>2.5</td>\n",
       "      <td>3.0</td>\n",
       "      <td>1781.0</td>\n",
       "    </tr>\n",
       "    <tr>\n",
       "      <th>10275</th>\n",
       "      <td>2.0</td>\n",
       "      <td>4.0</td>\n",
       "      <td>1851.0</td>\n",
       "    </tr>\n",
       "    <tr>\n",
       "      <th>1659</th>\n",
       "      <td>3.0</td>\n",
       "      <td>6.0</td>\n",
       "      <td>2788.0</td>\n",
       "    </tr>\n",
       "    <tr>\n",
       "      <th>13290</th>\n",
       "      <td>1.0</td>\n",
       "      <td>3.0</td>\n",
       "      <td>1264.0</td>\n",
       "    </tr>\n",
       "    <tr>\n",
       "      <th>7209</th>\n",
       "      <td>2.0</td>\n",
       "      <td>3.0</td>\n",
       "      <td>1802.0</td>\n",
       "    </tr>\n",
       "  </tbody>\n",
       "</table>\n",
       "</div>"
      ],
      "text/plain": [
       "       Number of Bathrooms  Number of Bedrooms  Square Feet\n",
       "8477                   2.5                 3.0       1781.0\n",
       "10275                  2.0                 4.0       1851.0\n",
       "1659                   3.0                 6.0       2788.0\n",
       "13290                  1.0                 3.0       1264.0\n",
       "7209                   2.0                 3.0       1802.0"
      ]
     },
     "execution_count": 15,
     "metadata": {},
     "output_type": "execute_result"
    }
   ],
   "source": [
    "x_train.head()"
   ]
  },
  {
   "cell_type": "code",
   "execution_count": 16,
   "metadata": {},
   "outputs": [
    {
     "name": "stdout",
     "output_type": "stream",
     "text": [
      "<class 'pandas.core.frame.DataFrame'>\n",
      "Int64Index: 3193 entries, 10657 to 3305\n",
      "Data columns (total 1 columns):\n",
      "Tax Appraised Value    3193 non-null float64\n",
      "dtypes: float64(1)\n",
      "memory usage: 49.9 KB\n"
     ]
    }
   ],
   "source": [
    "y_test.info()"
   ]
  },
  {
   "cell_type": "code",
   "execution_count": 17,
   "metadata": {},
   "outputs": [
    {
     "data": {
      "text/html": [
       "<div>\n",
       "<style scoped>\n",
       "    .dataframe tbody tr th:only-of-type {\n",
       "        vertical-align: middle;\n",
       "    }\n",
       "\n",
       "    .dataframe tbody tr th {\n",
       "        vertical-align: top;\n",
       "    }\n",
       "\n",
       "    .dataframe thead th {\n",
       "        text-align: right;\n",
       "    }\n",
       "</style>\n",
       "<table border=\"1\" class=\"dataframe\">\n",
       "  <thead>\n",
       "    <tr style=\"text-align: right;\">\n",
       "      <th></th>\n",
       "      <th>Tax Appraised Value</th>\n",
       "    </tr>\n",
       "  </thead>\n",
       "  <tbody>\n",
       "    <tr>\n",
       "      <th>10657</th>\n",
       "      <td>208546.0</td>\n",
       "    </tr>\n",
       "    <tr>\n",
       "      <th>5788</th>\n",
       "      <td>137176.0</td>\n",
       "    </tr>\n",
       "    <tr>\n",
       "      <th>1185</th>\n",
       "      <td>227220.0</td>\n",
       "    </tr>\n",
       "    <tr>\n",
       "      <th>9415</th>\n",
       "      <td>220308.0</td>\n",
       "    </tr>\n",
       "    <tr>\n",
       "      <th>6987</th>\n",
       "      <td>395686.0</td>\n",
       "    </tr>\n",
       "  </tbody>\n",
       "</table>\n",
       "</div>"
      ],
      "text/plain": [
       "       Tax Appraised Value\n",
       "10657             208546.0\n",
       "5788              137176.0\n",
       "1185              227220.0\n",
       "9415              220308.0\n",
       "6987              395686.0"
      ]
     },
     "execution_count": 17,
     "metadata": {},
     "output_type": "execute_result"
    }
   ],
   "source": [
    "y_test.head()"
   ]
  },
  {
   "cell_type": "code",
   "execution_count": 36,
   "metadata": {},
   "outputs": [
    {
     "data": {
      "image/png": "[encoded data removed]",
      "text/plain": [
       "<Figure size 540x540 with 12 Axes>"
      ]
     },
     "metadata": {
      "needs_background": "light"
     },
     "output_type": "display_data"
    }
   ],
   "source": [
    "g = sns.PairGrid(x_train)\n",
    "g.map_diag(plt.hist)\n",
    "g.map_offdiag(plt.scatter);"
   ]
  },
  {
   "cell_type": "code",
   "execution_count": null,
   "metadata": {},
   "outputs": [],
   "source": []
  },
  {
   "cell_type": "markdown",
   "metadata": {},
   "source": [
    "## Apply standard scaler to x_train and x_test"
   ]
  },
  {
   "cell_type": "code",
   "execution_count": 18,
   "metadata": {},
   "outputs": [],
   "source": [
    "train_x_scaled_data, test_x_scaled_data,scaler_x_train, scaler_x_test = z_split_scale.standard_scaler(x_train,x_test)"
   ]
  },
  {
   "cell_type": "code",
   "execution_count": 19,
   "metadata": {},
   "outputs": [
    {
     "data": {
      "text/html": [
       "<div>\n",
       "<style scoped>\n",
       "    .dataframe tbody tr th:only-of-type {\n",
       "        vertical-align: middle;\n",
       "    }\n",
       "\n",
       "    .dataframe tbody tr th {\n",
       "        vertical-align: top;\n",
       "    }\n",
       "\n",
       "    .dataframe thead th {\n",
       "        text-align: right;\n",
       "    }\n",
       "</style>\n",
       "<table border=\"1\" class=\"dataframe\">\n",
       "  <thead>\n",
       "    <tr style=\"text-align: right;\">\n",
       "      <th></th>\n",
       "      <th>Number of Bathrooms</th>\n",
       "      <th>Number of Bedrooms</th>\n",
       "      <th>Square Feet</th>\n",
       "    </tr>\n",
       "  </thead>\n",
       "  <tbody>\n",
       "    <tr>\n",
       "      <th>8477</th>\n",
       "      <td>0.278822</td>\n",
       "      <td>-0.262844</td>\n",
       "      <td>-0.054008</td>\n",
       "    </tr>\n",
       "    <tr>\n",
       "      <th>10275</th>\n",
       "      <td>-0.207660</td>\n",
       "      <td>0.783780</td>\n",
       "      <td>0.016880</td>\n",
       "    </tr>\n",
       "    <tr>\n",
       "      <th>1659</th>\n",
       "      <td>0.765304</td>\n",
       "      <td>2.877028</td>\n",
       "      <td>0.965763</td>\n",
       "    </tr>\n",
       "    <tr>\n",
       "      <th>13290</th>\n",
       "      <td>-1.180624</td>\n",
       "      <td>-0.262844</td>\n",
       "      <td>-0.577564</td>\n",
       "    </tr>\n",
       "    <tr>\n",
       "      <th>7209</th>\n",
       "      <td>-0.207660</td>\n",
       "      <td>-0.262844</td>\n",
       "      <td>-0.032742</td>\n",
       "    </tr>\n",
       "  </tbody>\n",
       "</table>\n",
       "</div>"
      ],
      "text/plain": [
       "       Number of Bathrooms  Number of Bedrooms  Square Feet\n",
       "8477              0.278822           -0.262844    -0.054008\n",
       "10275            -0.207660            0.783780     0.016880\n",
       "1659              0.765304            2.877028     0.965763\n",
       "13290            -1.180624           -0.262844    -0.577564\n",
       "7209             -0.207660           -0.262844    -0.032742"
      ]
     },
     "execution_count": 19,
     "metadata": {},
     "output_type": "execute_result"
    }
   ],
   "source": [
    "train_x_scaled_data.head()"
   ]
  },
  {
   "cell_type": "code",
   "execution_count": 20,
   "metadata": {},
   "outputs": [
    {
     "data": {
      "text/html": [
       "<div>\n",
       "<style scoped>\n",
       "    .dataframe tbody tr th:only-of-type {\n",
       "        vertical-align: middle;\n",
       "    }\n",
       "\n",
       "    .dataframe tbody tr th {\n",
       "        vertical-align: top;\n",
       "    }\n",
       "\n",
       "    .dataframe thead th {\n",
       "        text-align: right;\n",
       "    }\n",
       "</style>\n",
       "<table border=\"1\" class=\"dataframe\">\n",
       "  <thead>\n",
       "    <tr style=\"text-align: right;\">\n",
       "      <th></th>\n",
       "      <th>Number of Bathrooms</th>\n",
       "      <th>Number of Bedrooms</th>\n",
       "      <th>Square Feet</th>\n",
       "    </tr>\n",
       "  </thead>\n",
       "  <tbody>\n",
       "    <tr>\n",
       "      <th>10657</th>\n",
       "      <td>-1.199997</td>\n",
       "      <td>-1.359338</td>\n",
       "      <td>-1.057453</td>\n",
       "    </tr>\n",
       "    <tr>\n",
       "      <th>5788</th>\n",
       "      <td>-1.199997</td>\n",
       "      <td>-0.280182</td>\n",
       "      <td>-0.867332</td>\n",
       "    </tr>\n",
       "    <tr>\n",
       "      <th>1185</th>\n",
       "      <td>0.759144</td>\n",
       "      <td>-0.280182</td>\n",
       "      <td>0.151103</td>\n",
       "    </tr>\n",
       "    <tr>\n",
       "      <th>9415</th>\n",
       "      <td>0.759144</td>\n",
       "      <td>0.798974</td>\n",
       "      <td>0.844789</td>\n",
       "    </tr>\n",
       "    <tr>\n",
       "      <th>6987</th>\n",
       "      <td>-0.710212</td>\n",
       "      <td>-0.280182</td>\n",
       "      <td>-0.861165</td>\n",
       "    </tr>\n",
       "  </tbody>\n",
       "</table>\n",
       "</div>"
      ],
      "text/plain": [
       "       Number of Bathrooms  Number of Bedrooms  Square Feet\n",
       "10657            -1.199997           -1.359338    -1.057453\n",
       "5788             -1.199997           -0.280182    -0.867332\n",
       "1185              0.759144           -0.280182     0.151103\n",
       "9415              0.759144            0.798974     0.844789\n",
       "6987             -0.710212           -0.280182    -0.861165"
      ]
     },
     "execution_count": 20,
     "metadata": {},
     "output_type": "execute_result"
    }
   ],
   "source": [
    "test_x_scaled_data.head()"
   ]
  },
  {
   "cell_type": "code",
   "execution_count": null,
   "metadata": {},
   "outputs": [],
   "source": []
  },
  {
   "cell_type": "markdown",
   "metadata": {},
   "source": [
    "## Run regression model on data and baseline"
   ]
  },
  {
   "cell_type": "code",
   "execution_count": 21,
   "metadata": {},
   "outputs": [],
   "source": [
    "lm1 = LinearRegression()"
   ]
  },
  {
   "cell_type": "code",
   "execution_count": 22,
   "metadata": {},
   "outputs": [
    {
     "name": "stdout",
     "output_type": "stream",
     "text": [
      "Linear Model: LinearRegression(copy_X=True, fit_intercept=True, n_jobs=None, normalize=False)\n",
      "intercept:  [462043.62960063]\n",
      "coefficients:  [[  54558.47376137 -137406.19237539  451263.14727761]]\n"
     ]
    }
   ],
   "source": [
    "lm1.fit(train_x_scaled_data, y_train)\n",
    "print(\"Linear Model:\", lm1)\n",
    "\n",
    "lm1_y_intercept = lm1.intercept_\n",
    "print(\"intercept: \", lm1_y_intercept)\n",
    "\n",
    "lm1_coefficients = lm1.coef_\n",
    "print(\"coefficients: \", lm1_coefficients)\n"
   ]
  },
  {
   "cell_type": "code",
   "execution_count": 23,
   "metadata": {},
   "outputs": [
    {
     "data": {
      "text/plain": [
       "array([[489000.3946324 ],\n",
       "       [350635.07111573],\n",
       "       [544289.11543087],\n",
       "       ...,\n",
       "       [364555.6651571 ],\n",
       "       [302651.54268246],\n",
       "       [663497.55574983]])"
      ]
     },
     "execution_count": 23,
     "metadata": {},
     "output_type": "execute_result"
    }
   ],
   "source": [
    "y_pred_lm1 = lm1.predict(train_x_scaled_data)\n",
    "y_pred_lm1"
   ]
  },
  {
   "cell_type": "code",
   "execution_count": 24,
   "metadata": {},
   "outputs": [
    {
     "name": "stdout",
     "output_type": "stream",
     "text": [
      "linear model\n",
      "  mean squared error: 2.4e+11\n",
      "  42.98% of the variance in the tax value can be explained by the model.\n"
     ]
    }
   ],
   "source": [
    "mse_lm1 = mean_squared_error(y_train, y_pred_lm1)\n",
    "print(\"linear model\\n  mean squared error: {:.3}\".format(mse_lm1)) \n",
    "\n",
    "r2_lm1 = r2_score(y_train, y_pred_lm1)\n",
    "print('  {:.2%} of the variance in the tax value can be explained by the model.'.format(r2_lm1))"
   ]
  },
  {
   "cell_type": "code",
   "execution_count": 25,
   "metadata": {
    "scrolled": true
   },
   "outputs": [
    {
     "name": "stdout",
     "output_type": "stream",
     "text": [
      "baseline model\n",
      "  mean squared error: 4.2093e+11\n",
      "  0.00% of the variance in the tax value can be explained by the baseline (average) model.\n"
     ]
    }
   ],
   "source": [
    "y_pred_baseline = np.array([y_train.mean()[0]]*len(y_train))\n",
    "MSE = mean_squared_error(y_train, y_pred_baseline)\n",
    "SSE = MSE*len(y_train)\n",
    "RMSE = sqrt(MSE)\n",
    "\n",
    "evs = explained_variance_score(y_train, y_pred_baseline)\n",
    "\n",
    "print('baseline model\\n  mean squared error: {:.5}'.format(MSE))\n",
    "print('  {:.2%} of the variance in the tax value can be explained by the baseline (average) model.'.format(evs))"
   ]
  },
  {
   "cell_type": "code",
   "execution_count": 32,
   "metadata": {},
   "outputs": [],
   "source": []
  },
  {
   "cell_type": "markdown",
   "metadata": {},
   "source": [
    "## Distribution of tax rates for each county"
   ]
  },
  {
   "cell_type": "code",
   "execution_count": 33,
   "metadata": {},
   "outputs": [],
   "source": [
    "df_z['County Tax Rates'] = df_z['Assessed Tax']/df_z['Tax Appraised Value']"
   ]
  },
  {
   "cell_type": "code",
   "execution_count": 34,
   "metadata": {},
   "outputs": [
    {
     "data": {
      "text/html": [
       "<div>\n",
       "<style scoped>\n",
       "    .dataframe tbody tr th:only-of-type {\n",
       "        vertical-align: middle;\n",
       "    }\n",
       "\n",
       "    .dataframe tbody tr th {\n",
       "        vertical-align: top;\n",
       "    }\n",
       "\n",
       "    .dataframe thead th {\n",
       "        text-align: right;\n",
       "    }\n",
       "</style>\n",
       "<table border=\"1\" class=\"dataframe\">\n",
       "  <thead>\n",
       "    <tr style=\"text-align: right;\">\n",
       "      <th></th>\n",
       "      <th>Property Description</th>\n",
       "      <th>Number of Bathrooms</th>\n",
       "      <th>Number of Bedrooms</th>\n",
       "      <th>Square Feet</th>\n",
       "      <th>Tax Appraised Value</th>\n",
       "      <th>Assessed Tax</th>\n",
       "      <th>County Number</th>\n",
       "      <th>County Tax Rates</th>\n",
       "    </tr>\n",
       "  </thead>\n",
       "  <tbody>\n",
       "    <tr>\n",
       "      <th>0</th>\n",
       "      <td>Single Family Residential</td>\n",
       "      <td>2.0</td>\n",
       "      <td>4.0</td>\n",
       "      <td>1604.0</td>\n",
       "      <td>498347.0</td>\n",
       "      <td>6089.82</td>\n",
       "      <td>6037.0</td>\n",
       "      <td>0.012220</td>\n",
       "    </tr>\n",
       "    <tr>\n",
       "      <th>1</th>\n",
       "      <td>Single Family Residential</td>\n",
       "      <td>3.0</td>\n",
       "      <td>3.0</td>\n",
       "      <td>2384.0</td>\n",
       "      <td>549917.0</td>\n",
       "      <td>6679.55</td>\n",
       "      <td>6037.0</td>\n",
       "      <td>0.012146</td>\n",
       "    </tr>\n",
       "    <tr>\n",
       "      <th>2</th>\n",
       "      <td>Single Family Residential</td>\n",
       "      <td>2.0</td>\n",
       "      <td>3.0</td>\n",
       "      <td>1574.0</td>\n",
       "      <td>235272.0</td>\n",
       "      <td>3876.31</td>\n",
       "      <td>6037.0</td>\n",
       "      <td>0.016476</td>\n",
       "    </tr>\n",
       "    <tr>\n",
       "      <th>3</th>\n",
       "      <td>Single Family Residential</td>\n",
       "      <td>2.0</td>\n",
       "      <td>2.0</td>\n",
       "      <td>1619.0</td>\n",
       "      <td>340000.0</td>\n",
       "      <td>4206.15</td>\n",
       "      <td>6037.0</td>\n",
       "      <td>0.012371</td>\n",
       "    </tr>\n",
       "    <tr>\n",
       "      <th>4</th>\n",
       "      <td>Single Family Residential</td>\n",
       "      <td>3.0</td>\n",
       "      <td>2.0</td>\n",
       "      <td>2408.0</td>\n",
       "      <td>2017254.0</td>\n",
       "      <td>24353.42</td>\n",
       "      <td>6037.0</td>\n",
       "      <td>0.012073</td>\n",
       "    </tr>\n",
       "  </tbody>\n",
       "</table>\n",
       "</div>"
      ],
      "text/plain": [
       "        Property Description  Number of Bathrooms  Number of Bedrooms  \\\n",
       "0  Single Family Residential                  2.0                 4.0   \n",
       "1  Single Family Residential                  3.0                 3.0   \n",
       "2  Single Family Residential                  2.0                 3.0   \n",
       "3  Single Family Residential                  2.0                 2.0   \n",
       "4  Single Family Residential                  3.0                 2.0   \n",
       "\n",
       "   Square Feet  Tax Appraised Value  Assessed Tax  County Number  \\\n",
       "0       1604.0             498347.0       6089.82         6037.0   \n",
       "1       2384.0             549917.0       6679.55         6037.0   \n",
       "2       1574.0             235272.0       3876.31         6037.0   \n",
       "3       1619.0             340000.0       4206.15         6037.0   \n",
       "4       2408.0            2017254.0      24353.42         6037.0   \n",
       "\n",
       "   County Tax Rates  \n",
       "0          0.012220  \n",
       "1          0.012146  \n",
       "2          0.016476  \n",
       "3          0.012371  \n",
       "4          0.012073  "
      ]
     },
     "execution_count": 34,
     "metadata": {},
     "output_type": "execute_result"
    }
   ],
   "source": [
    "df_z.head()"
   ]
  },
  {
   "cell_type": "code",
   "execution_count": 46,
   "metadata": {},
   "outputs": [],
   "source": [
    "v = df_z[df_z['County Number'] == 6111]\n",
    "l = df_z[df_z['County Number'] == 6037]\n",
    "o = df_z[df_z['County Number'] == 6059]"
   ]
  },
  {
   "cell_type": "code",
   "execution_count": 64,
   "metadata": {},
   "outputs": [
    {
     "data": {
      "image/png": "[encoded data removed]",
      "text/plain": [
       "<Figure size 1152x432 with 3 Axes>"
      ]
     },
     "metadata": {
      "needs_background": "light"
     },
     "output_type": "display_data"
    }
   ],
   "source": [
    "plt.figure(figsize=(16, 6))\n",
    "plt.suptitle('Distribution of Tax Rates by County (per $ of Assessed Value)', fontsize=14)\n",
    "plt.ylabel = 'Residence count'\n",
    "\n",
    "plt.subplot(331)\n",
    "sns.distplot(l['County Tax Rates'])\n",
    "plt.title('Los Angeles')\n",
    "\n",
    "plt.subplot(332)\n",
    "sns.distplot(o['County Tax Rates'])\n",
    "plt.title('Orange')\n",
    "\n",
    "plt.subplot(333)\n",
    "sns.distplot(v['County Tax Rates'])\n",
    "plt.title('Ventura')\n",
    "plt.show()"
   ]
  },
  {
   "cell_type": "code",
   "execution_count": 61,
   "metadata": {},
   "outputs": [
    {
     "data": {
      "text/html": [
       "<div>\n",
       "<style scoped>\n",
       "    .dataframe tbody tr th:only-of-type {\n",
       "        vertical-align: middle;\n",
       "    }\n",
       "\n",
       "    .dataframe tbody tr th {\n",
       "        vertical-align: top;\n",
       "    }\n",
       "\n",
       "    .dataframe thead th {\n",
       "        text-align: right;\n",
       "    }\n",
       "</style>\n",
       "<table border=\"1\" class=\"dataframe\">\n",
       "  <thead>\n",
       "    <tr style=\"text-align: right;\">\n",
       "      <th></th>\n",
       "      <th>Number of Bathrooms</th>\n",
       "      <th>Number of Bedrooms</th>\n",
       "      <th>Square Feet</th>\n",
       "      <th>Tax Appraised Value</th>\n",
       "      <th>Assessed Tax</th>\n",
       "      <th>County Number</th>\n",
       "      <th>County Tax Rates</th>\n",
       "    </tr>\n",
       "  </thead>\n",
       "  <tbody>\n",
       "    <tr>\n",
       "      <th>count</th>\n",
       "      <td>12388.000000</td>\n",
       "      <td>12388.000000</td>\n",
       "      <td>12388.000000</td>\n",
       "      <td>1.238800e+04</td>\n",
       "      <td>12388.000000</td>\n",
       "      <td>12388.0</td>\n",
       "      <td>12388.000000</td>\n",
       "    </tr>\n",
       "    <tr>\n",
       "      <th>mean</th>\n",
       "      <td>2.149661</td>\n",
       "      <td>3.177510</td>\n",
       "      <td>1772.191637</td>\n",
       "      <td>4.464855e+05</td>\n",
       "      <td>5611.552369</td>\n",
       "      <td>6037.0</td>\n",
       "      <td>0.013736</td>\n",
       "    </tr>\n",
       "    <tr>\n",
       "      <th>std</th>\n",
       "      <td>1.045680</td>\n",
       "      <td>0.956073</td>\n",
       "      <td>950.439448</td>\n",
       "      <td>6.415080e+05</td>\n",
       "      <td>7656.803041</td>\n",
       "      <td>0.0</td>\n",
       "      <td>0.003985</td>\n",
       "    </tr>\n",
       "    <tr>\n",
       "      <th>min</th>\n",
       "      <td>1.000000</td>\n",
       "      <td>1.000000</td>\n",
       "      <td>320.000000</td>\n",
       "      <td>1.216800e+04</td>\n",
       "      <td>125.950000</td>\n",
       "      <td>6037.0</td>\n",
       "      <td>0.000303</td>\n",
       "    </tr>\n",
       "    <tr>\n",
       "      <th>25%</th>\n",
       "      <td>1.000000</td>\n",
       "      <td>3.000000</td>\n",
       "      <td>1197.000000</td>\n",
       "      <td>1.700000e+05</td>\n",
       "      <td>2416.067500</td>\n",
       "      <td>6037.0</td>\n",
       "      <td>0.012147</td>\n",
       "    </tr>\n",
       "    <tr>\n",
       "      <th>50%</th>\n",
       "      <td>2.000000</td>\n",
       "      <td>3.000000</td>\n",
       "      <td>1532.000000</td>\n",
       "      <td>2.982050e+05</td>\n",
       "      <td>3911.960000</td>\n",
       "      <td>6037.0</td>\n",
       "      <td>0.012638</td>\n",
       "    </tr>\n",
       "    <tr>\n",
       "      <th>75%</th>\n",
       "      <td>3.000000</td>\n",
       "      <td>4.000000</td>\n",
       "      <td>2059.250000</td>\n",
       "      <td>4.944260e+05</td>\n",
       "      <td>6146.047500</td>\n",
       "      <td>6037.0</td>\n",
       "      <td>0.014012</td>\n",
       "    </tr>\n",
       "    <tr>\n",
       "      <th>max</th>\n",
       "      <td>20.000000</td>\n",
       "      <td>25.000000</td>\n",
       "      <td>14342.000000</td>\n",
       "      <td>1.912982e+07</td>\n",
       "      <td>228999.210000</td>\n",
       "      <td>6037.0</td>\n",
       "      <td>0.155072</td>\n",
       "    </tr>\n",
       "  </tbody>\n",
       "</table>\n",
       "</div>"
      ],
      "text/plain": [
       "       Number of Bathrooms  Number of Bedrooms   Square Feet  \\\n",
       "count         12388.000000        12388.000000  12388.000000   \n",
       "mean              2.149661            3.177510   1772.191637   \n",
       "std               1.045680            0.956073    950.439448   \n",
       "min               1.000000            1.000000    320.000000   \n",
       "25%               1.000000            3.000000   1197.000000   \n",
       "50%               2.000000            3.000000   1532.000000   \n",
       "75%               3.000000            4.000000   2059.250000   \n",
       "max              20.000000           25.000000  14342.000000   \n",
       "\n",
       "       Tax Appraised Value   Assessed Tax  County Number  County Tax Rates  \n",
       "count         1.238800e+04   12388.000000        12388.0      12388.000000  \n",
       "mean          4.464855e+05    5611.552369         6037.0          0.013736  \n",
       "std           6.415080e+05    7656.803041            0.0          0.003985  \n",
       "min           1.216800e+04     125.950000         6037.0          0.000303  \n",
       "25%           1.700000e+05    2416.067500         6037.0          0.012147  \n",
       "50%           2.982050e+05    3911.960000         6037.0          0.012638  \n",
       "75%           4.944260e+05    6146.047500         6037.0          0.014012  \n",
       "max           1.912982e+07  228999.210000         6037.0          0.155072  "
      ]
     },
     "execution_count": 61,
     "metadata": {},
     "output_type": "execute_result"
    }
   ],
   "source": [
    "Los_Angeles_County = l.describe()\n",
    "Los_Angeles_County"
   ]
  },
  {
   "cell_type": "code",
   "execution_count": 63,
   "metadata": {},
   "outputs": [
    {
     "data": {
      "text/html": [
       "<div>\n",
       "<style scoped>\n",
       "    .dataframe tbody tr th:only-of-type {\n",
       "        vertical-align: middle;\n",
       "    }\n",
       "\n",
       "    .dataframe tbody tr th {\n",
       "        vertical-align: top;\n",
       "    }\n",
       "\n",
       "    .dataframe thead th {\n",
       "        text-align: right;\n",
       "    }\n",
       "</style>\n",
       "<table border=\"1\" class=\"dataframe\">\n",
       "  <thead>\n",
       "    <tr style=\"text-align: right;\">\n",
       "      <th></th>\n",
       "      <th>Number of Bathrooms</th>\n",
       "      <th>Number of Bedrooms</th>\n",
       "      <th>Square Feet</th>\n",
       "      <th>Tax Appraised Value</th>\n",
       "      <th>Assessed Tax</th>\n",
       "      <th>County Number</th>\n",
       "      <th>County Tax Rates</th>\n",
       "    </tr>\n",
       "  </thead>\n",
       "  <tbody>\n",
       "    <tr>\n",
       "      <th>count</th>\n",
       "      <td>2780.000000</td>\n",
       "      <td>2780.000000</td>\n",
       "      <td>2780.000000</td>\n",
       "      <td>2.780000e+03</td>\n",
       "      <td>2780.000000</td>\n",
       "      <td>2780.0</td>\n",
       "      <td>2780.000000</td>\n",
       "    </tr>\n",
       "    <tr>\n",
       "      <th>mean</th>\n",
       "      <td>2.462050</td>\n",
       "      <td>3.498201</td>\n",
       "      <td>2075.428058</td>\n",
       "      <td>5.483000e+05</td>\n",
       "      <td>6233.562180</td>\n",
       "      <td>6059.0</td>\n",
       "      <td>0.012111</td>\n",
       "    </tr>\n",
       "    <tr>\n",
       "      <th>std</th>\n",
       "      <td>0.947383</td>\n",
       "      <td>0.886708</td>\n",
       "      <td>1109.588740</td>\n",
       "      <td>7.094007e+05</td>\n",
       "      <td>7386.973146</td>\n",
       "      <td>0.0</td>\n",
       "      <td>0.002231</td>\n",
       "    </tr>\n",
       "    <tr>\n",
       "      <th>min</th>\n",
       "      <td>1.000000</td>\n",
       "      <td>1.000000</td>\n",
       "      <td>388.000000</td>\n",
       "      <td>1.611900e+04</td>\n",
       "      <td>345.720000</td>\n",
       "      <td>6059.0</td>\n",
       "      <td>0.000032</td>\n",
       "    </tr>\n",
       "    <tr>\n",
       "      <th>25%</th>\n",
       "      <td>2.000000</td>\n",
       "      <td>3.000000</td>\n",
       "      <td>1415.000000</td>\n",
       "      <td>2.465898e+05</td>\n",
       "      <td>2908.670000</td>\n",
       "      <td>6059.0</td>\n",
       "      <td>0.010805</td>\n",
       "    </tr>\n",
       "    <tr>\n",
       "      <th>50%</th>\n",
       "      <td>2.500000</td>\n",
       "      <td>3.000000</td>\n",
       "      <td>1853.000000</td>\n",
       "      <td>4.091510e+05</td>\n",
       "      <td>4706.300000</td>\n",
       "      <td>6059.0</td>\n",
       "      <td>0.011702</td>\n",
       "    </tr>\n",
       "    <tr>\n",
       "      <th>75%</th>\n",
       "      <td>3.000000</td>\n",
       "      <td>4.000000</td>\n",
       "      <td>2467.750000</td>\n",
       "      <td>6.488870e+05</td>\n",
       "      <td>7248.965000</td>\n",
       "      <td>6059.0</td>\n",
       "      <td>0.012622</td>\n",
       "    </tr>\n",
       "    <tr>\n",
       "      <th>max</th>\n",
       "      <td>19.500000</td>\n",
       "      <td>10.000000</td>\n",
       "      <td>26345.000000</td>\n",
       "      <td>1.168967e+07</td>\n",
       "      <td>121161.260000</td>\n",
       "      <td>6059.0</td>\n",
       "      <td>0.046414</td>\n",
       "    </tr>\n",
       "  </tbody>\n",
       "</table>\n",
       "</div>"
      ],
      "text/plain": [
       "       Number of Bathrooms  Number of Bedrooms   Square Feet  \\\n",
       "count          2780.000000         2780.000000   2780.000000   \n",
       "mean              2.462050            3.498201   2075.428058   \n",
       "std               0.947383            0.886708   1109.588740   \n",
       "min               1.000000            1.000000    388.000000   \n",
       "25%               2.000000            3.000000   1415.000000   \n",
       "50%               2.500000            3.000000   1853.000000   \n",
       "75%               3.000000            4.000000   2467.750000   \n",
       "max              19.500000           10.000000  26345.000000   \n",
       "\n",
       "       Tax Appraised Value   Assessed Tax  County Number  County Tax Rates  \n",
       "count         2.780000e+03    2780.000000         2780.0       2780.000000  \n",
       "mean          5.483000e+05    6233.562180         6059.0          0.012111  \n",
       "std           7.094007e+05    7386.973146            0.0          0.002231  \n",
       "min           1.611900e+04     345.720000         6059.0          0.000032  \n",
       "25%           2.465898e+05    2908.670000         6059.0          0.010805  \n",
       "50%           4.091510e+05    4706.300000         6059.0          0.011702  \n",
       "75%           6.488870e+05    7248.965000         6059.0          0.012622  \n",
       "max           1.168967e+07  121161.260000         6059.0          0.046414  "
      ]
     },
     "execution_count": 63,
     "metadata": {},
     "output_type": "execute_result"
    }
   ],
   "source": [
    "Orange_County = o.describe()\n",
    "Orange_County"
   ]
  },
  {
   "cell_type": "code",
   "execution_count": 65,
   "metadata": {},
   "outputs": [
    {
     "data": {
      "text/html": [
       "<div>\n",
       "<style scoped>\n",
       "    .dataframe tbody tr th:only-of-type {\n",
       "        vertical-align: middle;\n",
       "    }\n",
       "\n",
       "    .dataframe tbody tr th {\n",
       "        vertical-align: top;\n",
       "    }\n",
       "\n",
       "    .dataframe thead th {\n",
       "        text-align: right;\n",
       "    }\n",
       "</style>\n",
       "<table border=\"1\" class=\"dataframe\">\n",
       "  <thead>\n",
       "    <tr style=\"text-align: right;\">\n",
       "      <th></th>\n",
       "      <th>Number of Bathrooms</th>\n",
       "      <th>Number of Bedrooms</th>\n",
       "      <th>Square Feet</th>\n",
       "      <th>Tax Appraised Value</th>\n",
       "      <th>Assessed Tax</th>\n",
       "      <th>County Number</th>\n",
       "      <th>County Tax Rates</th>\n",
       "    </tr>\n",
       "  </thead>\n",
       "  <tbody>\n",
       "    <tr>\n",
       "      <th>count</th>\n",
       "      <td>795.000000</td>\n",
       "      <td>795.000000</td>\n",
       "      <td>795.000000</td>\n",
       "      <td>7.950000e+02</td>\n",
       "      <td>795.000000</td>\n",
       "      <td>795.0</td>\n",
       "      <td>795.000000</td>\n",
       "    </tr>\n",
       "    <tr>\n",
       "      <th>mean</th>\n",
       "      <td>2.384277</td>\n",
       "      <td>3.568553</td>\n",
       "      <td>2014.309434</td>\n",
       "      <td>4.284085e+05</td>\n",
       "      <td>4821.628931</td>\n",
       "      <td>6111.0</td>\n",
       "      <td>0.011491</td>\n",
       "    </tr>\n",
       "    <tr>\n",
       "      <th>std</th>\n",
       "      <td>0.819591</td>\n",
       "      <td>0.850999</td>\n",
       "      <td>890.610077</td>\n",
       "      <td>3.268902e+05</td>\n",
       "      <td>3587.999743</td>\n",
       "      <td>0.0</td>\n",
       "      <td>0.001842</td>\n",
       "    </tr>\n",
       "    <tr>\n",
       "      <th>min</th>\n",
       "      <td>1.000000</td>\n",
       "      <td>1.000000</td>\n",
       "      <td>572.000000</td>\n",
       "      <td>1.678200e+04</td>\n",
       "      <td>49.180000</td>\n",
       "      <td>6111.0</td>\n",
       "      <td>0.000367</td>\n",
       "    </tr>\n",
       "    <tr>\n",
       "      <th>25%</th>\n",
       "      <td>2.000000</td>\n",
       "      <td>3.000000</td>\n",
       "      <td>1444.500000</td>\n",
       "      <td>2.372000e+05</td>\n",
       "      <td>2716.540000</td>\n",
       "      <td>6111.0</td>\n",
       "      <td>0.010695</td>\n",
       "    </tr>\n",
       "    <tr>\n",
       "      <th>50%</th>\n",
       "      <td>2.000000</td>\n",
       "      <td>4.000000</td>\n",
       "      <td>1826.000000</td>\n",
       "      <td>3.732460e+05</td>\n",
       "      <td>4299.460000</td>\n",
       "      <td>6111.0</td>\n",
       "      <td>0.011203</td>\n",
       "    </tr>\n",
       "    <tr>\n",
       "      <th>75%</th>\n",
       "      <td>3.000000</td>\n",
       "      <td>4.000000</td>\n",
       "      <td>2356.000000</td>\n",
       "      <td>5.423780e+05</td>\n",
       "      <td>6053.900000</td>\n",
       "      <td>6111.0</td>\n",
       "      <td>0.011782</td>\n",
       "    </tr>\n",
       "    <tr>\n",
       "      <th>max</th>\n",
       "      <td>7.500000</td>\n",
       "      <td>6.000000</td>\n",
       "      <td>12086.000000</td>\n",
       "      <td>3.631311e+06</td>\n",
       "      <td>38677.720000</td>\n",
       "      <td>6111.0</td>\n",
       "      <td>0.033626</td>\n",
       "    </tr>\n",
       "  </tbody>\n",
       "</table>\n",
       "</div>"
      ],
      "text/plain": [
       "       Number of Bathrooms  Number of Bedrooms   Square Feet  \\\n",
       "count           795.000000          795.000000    795.000000   \n",
       "mean              2.384277            3.568553   2014.309434   \n",
       "std               0.819591            0.850999    890.610077   \n",
       "min               1.000000            1.000000    572.000000   \n",
       "25%               2.000000            3.000000   1444.500000   \n",
       "50%               2.000000            4.000000   1826.000000   \n",
       "75%               3.000000            4.000000   2356.000000   \n",
       "max               7.500000            6.000000  12086.000000   \n",
       "\n",
       "       Tax Appraised Value  Assessed Tax  County Number  County Tax Rates  \n",
       "count         7.950000e+02    795.000000          795.0        795.000000  \n",
       "mean          4.284085e+05   4821.628931         6111.0          0.011491  \n",
       "std           3.268902e+05   3587.999743            0.0          0.001842  \n",
       "min           1.678200e+04     49.180000         6111.0          0.000367  \n",
       "25%           2.372000e+05   2716.540000         6111.0          0.010695  \n",
       "50%           3.732460e+05   4299.460000         6111.0          0.011203  \n",
       "75%           5.423780e+05   6053.900000         6111.0          0.011782  \n",
       "max           3.631311e+06  38677.720000         6111.0          0.033626  "
      ]
     },
     "execution_count": 65,
     "metadata": {},
     "output_type": "execute_result"
    }
   ],
   "source": [
    "Ventura_County = v.describe()\n",
    "Ventura_County"
   ]
  },
  {
   "cell_type": "code",
   "execution_count": null,
   "metadata": {},
   "outputs": [],
   "source": []
  }
 ],
 "metadata": {
  "kernelspec": {
   "display_name": "Python 3",
   "language": "python",
   "name": "python3"
  },
  "language_info": {
   "codemirror_mode": {
    "name": "ipython",
    "version": 3
   },
   "file_extension": ".py",
   "mimetype": "text/x-python",
   "name": "python",
   "nbconvert_exporter": "python",
   "pygments_lexer": "ipython3",
   "version": "3.7.3"
  }
 },
 "nbformat": 4,
 "nbformat_minor": 2
}
