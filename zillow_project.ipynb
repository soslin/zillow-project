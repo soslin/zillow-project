{
 "cells": [
  {
   "cell_type": "markdown",
   "metadata": {},
   "source": [
    "# How well do the number of bedrooms/bathrooms and square feet predict the tax-assessed value of single-unit residential properties in three Southern California counties during from May to June 2017?"
   ]
  },
  {
   "cell_type": "markdown",
   "metadata": {},
   "source": [
    "### Sean Oslin\n",
    "### October 21, 2019"
   ]
  },
  {
   "cell_type": "markdown",
   "metadata": {},
   "source": [
    "## Project planning phase"
   ]
  },
  {
   "cell_type": "markdown",
   "metadata": {},
   "source": [
    "### Project goal/research question"
   ]
  },
  {
   "cell_type": "markdown",
   "metadata": {},
   "source": [
    "To predict the values of single-unit properties that the tax district assesses using the property data from those whose last transaction was during the \"hot months\" (in terms of real estate demand) of May and June in 2017."
   ]
  },
  {
   "cell_type": "markdown",
   "metadata": {},
   "source": [
    "### Deliverables"
   ]
  },
  {
   "cell_type": "markdown",
   "metadata": {},
   "source": [
    "1. Presentation of the analysis findings usable by management for decision making\n",
    "2. MySQL notebook with database queries that were imported into Python for analysis\n",
    "3. Data definitions and analysis notes\n",
    "4. Data analysis in a Jupyter Notebook that will allow for replication of analysis\n",
    "5. Github repository holding the analysis and supporting materials"
   ]
  },
  {
   "cell_type": "markdown",
   "metadata": {},
   "source": [
    "### Minimum viable product"
   ]
  },
  {
   "cell_type": "markdown",
   "metadata": {},
   "source": [
    "Analysis of how 3 variables (bedroom count, bathroom count and square feet), singlely and in combination predict the tax assessment value for three counties in Southern California as compared to the baseline."
   ]
  },
  {
   "cell_type": "markdown",
   "metadata": {},
   "source": [
    "### Null and alternative hypotheses"
   ]
  },
  {
   "cell_type": "markdown",
   "metadata": {},
   "source": [
    "H<sub>0</sub> : The number of bathrooms, bedrooms and number of square feet in a single-unit residence do not predict the assessed tax value\n",
    "\n",
    "H<sub>a</sub> : The number of bathrooms, bedrooms and number of square feet in a single-unit residence predict the assessed tax value"
   ]
  },
  {
   "cell_type": "markdown",
   "metadata": {},
   "source": [
    "## Data acquisition and preparation phases"
   ]
  },
  {
   "cell_type": "markdown",
   "metadata": {},
   "source": [
    "The sole data source was the Zillow relational database. Data was cleaned and prepared using MySQL and then uploaded to Python for additional preparation and analysis. For detailed information on data preparation please see........."
   ]
  },
  {
   "cell_type": "markdown",
   "metadata": {},
   "source": [
    "### Python libraries used for analysis"
   ]
  },
  {
   "cell_type": "code",
   "execution_count": 142,
   "metadata": {},
   "outputs": [],
   "source": [
    "import pandas as pd\n",
    "import numpy as np\n",
    "import matplotlib.pyplot as plt\n",
    "%matplotlib inline\n",
    "import seaborn as sns\n",
    "from sklearn.model_selection import train_test_split\n",
    "from sklearn.preprocessing import StandardScaler\n",
    "from sklearn.metrics import mean_squared_error, r2_score, explained_variance_score\n",
    "from sklearn.feature_selection import f_regression \n",
    "from sklearn.linear_model import LinearRegression\n",
    "from math import sqrt\n",
    "import statsmodels.api as sm\n",
    "import warnings\n",
    "warnings.filterwarnings(\"ignore\")"
   ]
  },
  {
   "cell_type": "markdown",
   "metadata": {},
   "source": [
    "### Python programming for this analysis imported from a text editor"
   ]
  },
  {
   "cell_type": "code",
   "execution_count": null,
   "metadata": {},
   "outputs": [],
   "source": [
    "import env\n",
    "import wrangle_z\n",
    "import z_split_scale"
   ]
  },
  {
   "cell_type": "markdown",
   "metadata": {},
   "source": [
    "### Import of prepared Zillow data from the text editor to this notebook"
   ]
  },
  {
   "cell_type": "code",
   "execution_count": 67,
   "metadata": {},
   "outputs": [],
   "source": [
    "df_z = wrangle_z.wrangle_zillow()"
   ]
  },
  {
   "cell_type": "markdown",
   "metadata": {},
   "source": [
    "### Verification that all null values have been removed"
   ]
  },
  {
   "cell_type": "code",
   "execution_count": 78,
   "metadata": {},
   "outputs": [
    {
     "data": {
      "text/plain": [
       "Property Description    0\n",
       "Number of Bathrooms     0\n",
       "Number of Bedrooms      0\n",
       "Square Feet             0\n",
       "Tax Appraised Value     0\n",
       "Assessed Tax            0\n",
       "County Number           0\n",
       "dtype: int64"
      ]
     },
     "execution_count": 78,
     "metadata": {},
     "output_type": "execute_result"
    }
   ],
   "source": [
    "df_z.isnull().sum()"
   ]
  },
  {
   "cell_type": "markdown",
   "metadata": {},
   "source": [
    "### Data types adjusted to best suit each variable"
   ]
  },
  {
   "cell_type": "code",
   "execution_count": 74,
   "metadata": {},
   "outputs": [],
   "source": [
    "df_z['County Number'] = df_z['County Number'].astype('int64')\n",
    "df_z['Tax Appraised Value'] = df_z['Tax Appraised Value'].astype('int64')\n",
    "df_z['Square Feet'] = df_z['Square Feet'].astype('int64')\n",
    "df_z['Number of Bedrooms'] = df_z['Number of Bedrooms'].astype('int64')"
   ]
  },
  {
   "cell_type": "markdown",
   "metadata": {},
   "source": [
    "### Summary of data types, numbers of rows (individual real estate properties) and data columns"
   ]
  },
  {
   "cell_type": "code",
   "execution_count": 77,
   "metadata": {},
   "outputs": [
    {
     "name": "stdout",
     "output_type": "stream",
     "text": [
      "<class 'pandas.core.frame.DataFrame'>\n",
      "Int64Index: 15963 entries, 0 to 15962\n",
      "Data columns (total 7 columns):\n",
      "Property Description    15963 non-null object\n",
      "Number of Bathrooms     15963 non-null float64\n",
      "Number of Bedrooms      15963 non-null int64\n",
      "Square Feet             15963 non-null int64\n",
      "Tax Appraised Value     15963 non-null int64\n",
      "Assessed Tax            15963 non-null float64\n",
      "County Number           15963 non-null int64\n",
      "dtypes: float64(2), int64(4), object(1)\n",
      "memory usage: 997.7+ KB\n"
     ]
    }
   ],
   "source": [
    "df_z.info() "
   ]
  },
  {
   "cell_type": "markdown",
   "metadata": {},
   "source": [
    "## Data exploration and pre-processing phases"
   ]
  },
  {
   "cell_type": "markdown",
   "metadata": {},
   "source": [
    "### Random sample of data"
   ]
  },
  {
   "cell_type": "code",
   "execution_count": 76,
   "metadata": {},
   "outputs": [
    {
     "data": {
      "text/html": [
       "<div>\n",
       "<style scoped>\n",
       "    .dataframe tbody tr th:only-of-type {\n",
       "        vertical-align: middle;\n",
       "    }\n",
       "\n",
       "    .dataframe tbody tr th {\n",
       "        vertical-align: top;\n",
       "    }\n",
       "\n",
       "    .dataframe thead th {\n",
       "        text-align: right;\n",
       "    }\n",
       "</style>\n",
       "<table border=\"1\" class=\"dataframe\">\n",
       "  <thead>\n",
       "    <tr style=\"text-align: right;\">\n",
       "      <th></th>\n",
       "      <th>Property Description</th>\n",
       "      <th>Number of Bathrooms</th>\n",
       "      <th>Number of Bedrooms</th>\n",
       "      <th>Square Feet</th>\n",
       "      <th>Tax Appraised Value</th>\n",
       "      <th>Assessed Tax</th>\n",
       "      <th>County Number</th>\n",
       "    </tr>\n",
       "  </thead>\n",
       "  <tbody>\n",
       "    <tr>\n",
       "      <th>14672</th>\n",
       "      <td>Single Family Residential</td>\n",
       "      <td>2.0</td>\n",
       "      <td>3</td>\n",
       "      <td>1846</td>\n",
       "      <td>171760</td>\n",
       "      <td>2532.13</td>\n",
       "      <td>6037</td>\n",
       "    </tr>\n",
       "    <tr>\n",
       "      <th>8811</th>\n",
       "      <td>Single Family Residential</td>\n",
       "      <td>2.5</td>\n",
       "      <td>3</td>\n",
       "      <td>2723</td>\n",
       "      <td>862000</td>\n",
       "      <td>8670.72</td>\n",
       "      <td>6059</td>\n",
       "    </tr>\n",
       "    <tr>\n",
       "      <th>14781</th>\n",
       "      <td>Single Family Residential</td>\n",
       "      <td>1.0</td>\n",
       "      <td>2</td>\n",
       "      <td>1045</td>\n",
       "      <td>156323</td>\n",
       "      <td>2296.84</td>\n",
       "      <td>6037</td>\n",
       "    </tr>\n",
       "    <tr>\n",
       "      <th>15360</th>\n",
       "      <td>Single Family Residential</td>\n",
       "      <td>2.0</td>\n",
       "      <td>4</td>\n",
       "      <td>1479</td>\n",
       "      <td>227572</td>\n",
       "      <td>3289.43</td>\n",
       "      <td>6037</td>\n",
       "    </tr>\n",
       "  </tbody>\n",
       "</table>\n",
       "</div>"
      ],
      "text/plain": [
       "            Property Description  Number of Bathrooms  Number of Bedrooms  \\\n",
       "14672  Single Family Residential                  2.0                   3   \n",
       "8811   Single Family Residential                  2.5                   3   \n",
       "14781  Single Family Residential                  1.0                   2   \n",
       "15360  Single Family Residential                  2.0                   4   \n",
       "\n",
       "       Square Feet  Tax Appraised Value  Assessed Tax  County Number  \n",
       "14672         1846               171760       2532.13           6037  \n",
       "8811          2723               862000       8670.72           6059  \n",
       "14781         1045               156323       2296.84           6037  \n",
       "15360         1479               227572       3289.43           6037  "
      ]
     },
     "execution_count": 76,
     "metadata": {},
     "output_type": "execute_result"
    }
   ],
   "source": [
    "df_z.sample(4)"
   ]
  },
  {
   "cell_type": "markdown",
   "metadata": {},
   "source": [
    "### Descriptive statistics"
   ]
  },
  {
   "cell_type": "code",
   "execution_count": 79,
   "metadata": {},
   "outputs": [
    {
     "data": {
      "text/html": [
       "<div>\n",
       "<style scoped>\n",
       "    .dataframe tbody tr th:only-of-type {\n",
       "        vertical-align: middle;\n",
       "    }\n",
       "\n",
       "    .dataframe tbody tr th {\n",
       "        vertical-align: top;\n",
       "    }\n",
       "\n",
       "    .dataframe thead th {\n",
       "        text-align: right;\n",
       "    }\n",
       "</style>\n",
       "<table border=\"1\" class=\"dataframe\">\n",
       "  <thead>\n",
       "    <tr style=\"text-align: right;\">\n",
       "      <th></th>\n",
       "      <th>Number of Bathrooms</th>\n",
       "      <th>Number of Bedrooms</th>\n",
       "      <th>Square Feet</th>\n",
       "      <th>Tax Appraised Value</th>\n",
       "      <th>Assessed Tax</th>\n",
       "      <th>County Number</th>\n",
       "    </tr>\n",
       "  </thead>\n",
       "  <tbody>\n",
       "    <tr>\n",
       "      <th>count</th>\n",
       "      <td>15963.000000</td>\n",
       "      <td>15963.000000</td>\n",
       "      <td>15963.000000</td>\n",
       "      <td>1.596300e+04</td>\n",
       "      <td>15963.000000</td>\n",
       "      <td>15963.000000</td>\n",
       "    </tr>\n",
       "    <tr>\n",
       "      <th>mean</th>\n",
       "      <td>2.215749</td>\n",
       "      <td>3.252835</td>\n",
       "      <td>1837.059199</td>\n",
       "      <td>4.633165e+05</td>\n",
       "      <td>5680.536779</td>\n",
       "      <td>6044.516758</td>\n",
       "    </tr>\n",
       "    <tr>\n",
       "      <th>std</th>\n",
       "      <td>1.026447</td>\n",
       "      <td>0.949797</td>\n",
       "      <td>984.656553</td>\n",
       "      <td>6.432976e+05</td>\n",
       "      <td>7465.277971</td>\n",
       "      <td>17.335701</td>\n",
       "    </tr>\n",
       "    <tr>\n",
       "      <th>min</th>\n",
       "      <td>1.000000</td>\n",
       "      <td>1.000000</td>\n",
       "      <td>320.000000</td>\n",
       "      <td>1.216800e+04</td>\n",
       "      <td>49.180000</td>\n",
       "      <td>6037.000000</td>\n",
       "    </tr>\n",
       "    <tr>\n",
       "      <th>25%</th>\n",
       "      <td>2.000000</td>\n",
       "      <td>3.000000</td>\n",
       "      <td>1233.000000</td>\n",
       "      <td>1.820635e+05</td>\n",
       "      <td>2495.545000</td>\n",
       "      <td>6037.000000</td>\n",
       "    </tr>\n",
       "    <tr>\n",
       "      <th>50%</th>\n",
       "      <td>2.000000</td>\n",
       "      <td>3.000000</td>\n",
       "      <td>1592.000000</td>\n",
       "      <td>3.204320e+05</td>\n",
       "      <td>4063.980000</td>\n",
       "      <td>6037.000000</td>\n",
       "    </tr>\n",
       "    <tr>\n",
       "      <th>75%</th>\n",
       "      <td>3.000000</td>\n",
       "      <td>4.000000</td>\n",
       "      <td>2162.500000</td>\n",
       "      <td>5.284255e+05</td>\n",
       "      <td>6408.970000</td>\n",
       "      <td>6037.000000</td>\n",
       "    </tr>\n",
       "    <tr>\n",
       "      <th>max</th>\n",
       "      <td>20.000000</td>\n",
       "      <td>25.000000</td>\n",
       "      <td>26345.000000</td>\n",
       "      <td>1.912982e+07</td>\n",
       "      <td>228999.210000</td>\n",
       "      <td>6111.000000</td>\n",
       "    </tr>\n",
       "  </tbody>\n",
       "</table>\n",
       "</div>"
      ],
      "text/plain": [
       "       Number of Bathrooms  Number of Bedrooms   Square Feet  \\\n",
       "count         15963.000000        15963.000000  15963.000000   \n",
       "mean              2.215749            3.252835   1837.059199   \n",
       "std               1.026447            0.949797    984.656553   \n",
       "min               1.000000            1.000000    320.000000   \n",
       "25%               2.000000            3.000000   1233.000000   \n",
       "50%               2.000000            3.000000   1592.000000   \n",
       "75%               3.000000            4.000000   2162.500000   \n",
       "max              20.000000           25.000000  26345.000000   \n",
       "\n",
       "       Tax Appraised Value   Assessed Tax  County Number  \n",
       "count         1.596300e+04   15963.000000   15963.000000  \n",
       "mean          4.633165e+05    5680.536779    6044.516758  \n",
       "std           6.432976e+05    7465.277971      17.335701  \n",
       "min           1.216800e+04      49.180000    6037.000000  \n",
       "25%           1.820635e+05    2495.545000    6037.000000  \n",
       "50%           3.204320e+05    4063.980000    6037.000000  \n",
       "75%           5.284255e+05    6408.970000    6037.000000  \n",
       "max           1.912982e+07  228999.210000    6111.000000  "
      ]
     },
     "execution_count": 79,
     "metadata": {},
     "output_type": "execute_result"
    }
   ],
   "source": [
    "df_z.describe()"
   ]
  },
  {
   "cell_type": "markdown",
   "metadata": {},
   "source": [
    "### Median values - mean and median values for bathrooms, bedrooms and square footage are close in value, allowing for an assumption of normality"
   ]
  },
  {
   "cell_type": "code",
   "execution_count": 117,
   "metadata": {},
   "outputs": [
    {
     "data": {
      "text/plain": [
       "Number of Bathrooms         2.00\n",
       "Number of Bedrooms          3.00\n",
       "Square Feet              1592.00\n",
       "Tax Appraised Value    320432.00\n",
       "Assessed Tax             4063.98\n",
       "County Number            6037.00\n",
       "dtype: float64"
      ]
     },
     "execution_count": 117,
     "metadata": {},
     "output_type": "execute_result"
    }
   ],
   "source": [
    "df_z.median()"
   ]
  },
  {
   "cell_type": "markdown",
   "metadata": {},
   "source": [
    "### Visualizations of the data set"
   ]
  },
  {
   "cell_type": "markdown",
   "metadata": {},
   "source": [
    "### Distribution of the number of bathrooms by assessed tax - there are significant outliers for assessed taxes for houses with mean number of bathrooms"
   ]
  },
  {
   "cell_type": "code",
   "execution_count": 150,
   "metadata": {},
   "outputs": [
    {
     "data": {
      "image/png": "[encoded data removed]",
      "text/plain": [
       "<Figure size 1152x432 with 1 Axes>"
      ]
     },
     "metadata": {
      "needs_background": "light"
     },
     "output_type": "display_data"
    }
   ],
   "source": [
    "plt.figure(figsize=(16, 6))\n",
    "ax1 = sns.boxplot(x=df_z[\"Number of Bathrooms\"], y=df_z[\"Assessed Tax\"], data=df_z)\\\n",
    ".set_title('Distribution of the number of bathrooms by assessed tax', fontsize = 18)"
   ]
  },
  {
   "cell_type": "markdown",
   "metadata": {},
   "source": [
    "### Distribution of the number of bedrooms by assessed tax - there are significant outliers for assessed taxes for houses with mean number of bathrooms"
   ]
  },
  {
   "cell_type": "code",
   "execution_count": 151,
   "metadata": {},
   "outputs": [
    {
     "data": {
      "image/png": "[encoded data removed]",
      "text/plain": [
       "<Figure size 1152x432 with 1 Axes>"
      ]
     },
     "metadata": {
      "needs_background": "light"
     },
     "output_type": "display_data"
    }
   ],
   "source": [
    "plt.figure(figsize=(16, 6))\n",
    "ax2 = sns.boxplot(x=df_z[\"Number of Bedrooms\"], y=df_z[\"Assessed Tax\"], data=df_z)\\\n",
    ".set_title('Distribution of the number of bedrooms by assessed tax', fontsize = 18)"
   ]
  },
  {
   "cell_type": "markdown",
   "metadata": {},
   "source": [
    "### Histogram of the single-unit square footage - this is a fairly normal distribution with a long tail for mansions"
   ]
  },
  {
   "cell_type": "code",
   "execution_count": 152,
   "metadata": {},
   "outputs": [
    {
     "data": {
      "image/png": "[encoded data removed]",
      "text/plain": [
       "<Figure size 1152x432 with 1 Axes>"
      ]
     },
     "metadata": {
      "needs_background": "light"
     },
     "output_type": "display_data"
    }
   ],
   "source": [
    "plt.figure(figsize=(16, 6))\n",
    "ax3 = sns.distplot(df_z['Square Feet'])\\\n",
    ".set_title('Histogram of the single-unit square footage', fontsize = 18)"
   ]
  },
  {
   "cell_type": "markdown",
   "metadata": {},
   "source": [
    " "
   ]
  },
  {
   "cell_type": "markdown",
   "metadata": {},
   "source": [
    "## Split variables into X and y, then train and test"
   ]
  },
  {
   "cell_type": "code",
   "execution_count": 110,
   "metadata": {},
   "outputs": [],
   "source": [
    "# Remove columns of data not necessary for this phase of the analysis and create a new dataframe for the y variable\n",
    "\n",
    "X = df_z.drop(columns=['Property Description', 'Tax Appraised Value', 'Assessed Tax', 'County Number'])\n",
    "y=df_z[['Tax Appraised Value']]"
   ]
  },
  {
   "cell_type": "code",
   "execution_count": null,
   "metadata": {},
   "outputs": [],
   "source": [
    "\n"
   ]
  },
  {
   "cell_type": "code",
   "execution_count": 81,
   "metadata": {},
   "outputs": [],
   "source": [
    "# Split the modified/new variables into train and test, with 80% of data rows in train.\n",
    "\n",
    "x_train, x_test, y_train, y_test = z_split_scale.split_my_data(X,y)"
   ]
  },
  {
   "cell_type": "code",
   "execution_count": null,
   "metadata": {},
   "outputs": [],
   "source": []
  },
  {
   "cell_type": "code",
   "execution_count": 85,
   "metadata": {},
   "outputs": [
    {
     "data": {
      "text/html": [
       "<div>\n",
       "<style scoped>\n",
       "    .dataframe tbody tr th:only-of-type {\n",
       "        vertical-align: middle;\n",
       "    }\n",
       "\n",
       "    .dataframe tbody tr th {\n",
       "        vertical-align: top;\n",
       "    }\n",
       "\n",
       "    .dataframe thead th {\n",
       "        text-align: right;\n",
       "    }\n",
       "</style>\n",
       "<table border=\"1\" class=\"dataframe\">\n",
       "  <thead>\n",
       "    <tr style=\"text-align: right;\">\n",
       "      <th></th>\n",
       "      <th>Number of Bathrooms</th>\n",
       "      <th>Number of Bedrooms</th>\n",
       "      <th>Square Feet</th>\n",
       "    </tr>\n",
       "  </thead>\n",
       "  <tbody>\n",
       "    <tr>\n",
       "      <th>3310</th>\n",
       "      <td>3.0</td>\n",
       "      <td>3</td>\n",
       "      <td>1968</td>\n",
       "    </tr>\n",
       "    <tr>\n",
       "      <th>4488</th>\n",
       "      <td>2.0</td>\n",
       "      <td>3</td>\n",
       "      <td>1211</td>\n",
       "    </tr>\n",
       "    <tr>\n",
       "      <th>2882</th>\n",
       "      <td>2.0</td>\n",
       "      <td>3</td>\n",
       "      <td>1219</td>\n",
       "    </tr>\n",
       "    <tr>\n",
       "      <th>6900</th>\n",
       "      <td>2.0</td>\n",
       "      <td>4</td>\n",
       "      <td>1651</td>\n",
       "    </tr>\n",
       "  </tbody>\n",
       "</table>\n",
       "</div>"
      ],
      "text/plain": [
       "      Number of Bathrooms  Number of Bedrooms  Square Feet\n",
       "3310                  3.0                   3         1968\n",
       "4488                  2.0                   3         1211\n",
       "2882                  2.0                   3         1219\n",
       "6900                  2.0                   4         1651"
      ]
     },
     "execution_count": 85,
     "metadata": {},
     "output_type": "execute_result"
    }
   ],
   "source": [
    "# Sample of x_train data \n",
    "\n",
    "x_train.sample(4)"
   ]
  },
  {
   "cell_type": "code",
   "execution_count": 88,
   "metadata": {},
   "outputs": [
    {
     "data": {
      "text/html": [
       "<div>\n",
       "<style scoped>\n",
       "    .dataframe tbody tr th:only-of-type {\n",
       "        vertical-align: middle;\n",
       "    }\n",
       "\n",
       "    .dataframe tbody tr th {\n",
       "        vertical-align: top;\n",
       "    }\n",
       "\n",
       "    .dataframe thead th {\n",
       "        text-align: right;\n",
       "    }\n",
       "</style>\n",
       "<table border=\"1\" class=\"dataframe\">\n",
       "  <thead>\n",
       "    <tr style=\"text-align: right;\">\n",
       "      <th></th>\n",
       "      <th>Tax Appraised Value</th>\n",
       "    </tr>\n",
       "  </thead>\n",
       "  <tbody>\n",
       "    <tr>\n",
       "      <th>11503</th>\n",
       "      <td>404068</td>\n",
       "    </tr>\n",
       "    <tr>\n",
       "      <th>6633</th>\n",
       "      <td>744849</td>\n",
       "    </tr>\n",
       "    <tr>\n",
       "      <th>9877</th>\n",
       "      <td>464000</td>\n",
       "    </tr>\n",
       "    <tr>\n",
       "      <th>13788</th>\n",
       "      <td>554784</td>\n",
       "    </tr>\n",
       "  </tbody>\n",
       "</table>\n",
       "</div>"
      ],
      "text/plain": [
       "       Tax Appraised Value\n",
       "11503               404068\n",
       "6633                744849\n",
       "9877                464000\n",
       "13788               554784"
      ]
     },
     "execution_count": 88,
     "metadata": {},
     "output_type": "execute_result"
    }
   ],
   "source": [
    "# Sample of y_test data \n",
    "\n",
    "y_test.sample(4)"
   ]
  },
  {
   "cell_type": "code",
   "execution_count": null,
   "metadata": {},
   "outputs": [],
   "source": []
  },
  {
   "cell_type": "code",
   "execution_count": 145,
   "metadata": {},
   "outputs": [
    {
     "data": {
      "text/plain": [
       "Text(0.5, 0.98, 'Histogram and scatter plot for every combinaiton of x_train variable')"
      ]
     },
     "execution_count": 145,
     "metadata": {},
     "output_type": "execute_result"
    },
    {
     "data": {
      "image/png": "[encoded data removed]",
      "text/plain": [
       "<Figure size 540x540 with 12 Axes>"
      ]
     },
     "metadata": {
      "needs_background": "light"
     },
     "output_type": "display_data"
    }
   ],
   "source": [
    "# Pair plot showing histogram and scatter plot of each combination of x_train variable \n",
    "# (i.e. bathrooms, bathrooms and square feet)\n",
    "\n",
    "g = sns.PairGrid(x_train)\n",
    "g.map_diag(plt.hist)\n",
    "g.map_offdiag(plt.scatter)\n",
    "g.fig.suptitle('Histogram and scatter plot for every combinaiton of x_train variable')\n"
   ]
  },
  {
   "cell_type": "code",
   "execution_count": null,
   "metadata": {},
   "outputs": [],
   "source": []
  },
  {
   "cell_type": "markdown",
   "metadata": {},
   "source": [
    "## Apply standard scaler to x_train and x_test"
   ]
  },
  {
   "cell_type": "code",
   "execution_count": 18,
   "metadata": {},
   "outputs": [],
   "source": [
    "train_x_scaled_data, test_x_scaled_data,scaler_x_train, scaler_x_test = z_split_scale.standard_scaler(x_train,x_test)"
   ]
  },
  {
   "cell_type": "code",
   "execution_count": 19,
   "metadata": {},
   "outputs": [
    {
     "data": {
      "text/html": [
       "<div>\n",
       "<style scoped>\n",
       "    .dataframe tbody tr th:only-of-type {\n",
       "        vertical-align: middle;\n",
       "    }\n",
       "\n",
       "    .dataframe tbody tr th {\n",
       "        vertical-align: top;\n",
       "    }\n",
       "\n",
       "    .dataframe thead th {\n",
       "        text-align: right;\n",
       "    }\n",
       "</style>\n",
       "<table border=\"1\" class=\"dataframe\">\n",
       "  <thead>\n",
       "    <tr style=\"text-align: right;\">\n",
       "      <th></th>\n",
       "      <th>Number of Bathrooms</th>\n",
       "      <th>Number of Bedrooms</th>\n",
       "      <th>Square Feet</th>\n",
       "    </tr>\n",
       "  </thead>\n",
       "  <tbody>\n",
       "    <tr>\n",
       "      <th>8477</th>\n",
       "      <td>0.278822</td>\n",
       "      <td>-0.262844</td>\n",
       "      <td>-0.054008</td>\n",
       "    </tr>\n",
       "    <tr>\n",
       "      <th>10275</th>\n",
       "      <td>-0.207660</td>\n",
       "      <td>0.783780</td>\n",
       "      <td>0.016880</td>\n",
       "    </tr>\n",
       "    <tr>\n",
       "      <th>1659</th>\n",
       "      <td>0.765304</td>\n",
       "      <td>2.877028</td>\n",
       "      <td>0.965763</td>\n",
       "    </tr>\n",
       "    <tr>\n",
       "      <th>13290</th>\n",
       "      <td>-1.180624</td>\n",
       "      <td>-0.262844</td>\n",
       "      <td>-0.577564</td>\n",
       "    </tr>\n",
       "    <tr>\n",
       "      <th>7209</th>\n",
       "      <td>-0.207660</td>\n",
       "      <td>-0.262844</td>\n",
       "      <td>-0.032742</td>\n",
       "    </tr>\n",
       "  </tbody>\n",
       "</table>\n",
       "</div>"
      ],
      "text/plain": [
       "       Number of Bathrooms  Number of Bedrooms  Square Feet\n",
       "8477              0.278822           -0.262844    -0.054008\n",
       "10275            -0.207660            0.783780     0.016880\n",
       "1659              0.765304            2.877028     0.965763\n",
       "13290            -1.180624           -0.262844    -0.577564\n",
       "7209             -0.207660           -0.262844    -0.032742"
      ]
     },
     "execution_count": 19,
     "metadata": {},
     "output_type": "execute_result"
    }
   ],
   "source": [
    "train_x_scaled_data.head()"
   ]
  },
  {
   "cell_type": "code",
   "execution_count": 20,
   "metadata": {},
   "outputs": [
    {
     "data": {
      "text/html": [
       "<div>\n",
       "<style scoped>\n",
       "    .dataframe tbody tr th:only-of-type {\n",
       "        vertical-align: middle;\n",
       "    }\n",
       "\n",
       "    .dataframe tbody tr th {\n",
       "        vertical-align: top;\n",
       "    }\n",
       "\n",
       "    .dataframe thead th {\n",
       "        text-align: right;\n",
       "    }\n",
       "</style>\n",
       "<table border=\"1\" class=\"dataframe\">\n",
       "  <thead>\n",
       "    <tr style=\"text-align: right;\">\n",
       "      <th></th>\n",
       "      <th>Number of Bathrooms</th>\n",
       "      <th>Number of Bedrooms</th>\n",
       "      <th>Square Feet</th>\n",
       "    </tr>\n",
       "  </thead>\n",
       "  <tbody>\n",
       "    <tr>\n",
       "      <th>10657</th>\n",
       "      <td>-1.199997</td>\n",
       "      <td>-1.359338</td>\n",
       "      <td>-1.057453</td>\n",
       "    </tr>\n",
       "    <tr>\n",
       "      <th>5788</th>\n",
       "      <td>-1.199997</td>\n",
       "      <td>-0.280182</td>\n",
       "      <td>-0.867332</td>\n",
       "    </tr>\n",
       "    <tr>\n",
       "      <th>1185</th>\n",
       "      <td>0.759144</td>\n",
       "      <td>-0.280182</td>\n",
       "      <td>0.151103</td>\n",
       "    </tr>\n",
       "    <tr>\n",
       "      <th>9415</th>\n",
       "      <td>0.759144</td>\n",
       "      <td>0.798974</td>\n",
       "      <td>0.844789</td>\n",
       "    </tr>\n",
       "    <tr>\n",
       "      <th>6987</th>\n",
       "      <td>-0.710212</td>\n",
       "      <td>-0.280182</td>\n",
       "      <td>-0.861165</td>\n",
       "    </tr>\n",
       "  </tbody>\n",
       "</table>\n",
       "</div>"
      ],
      "text/plain": [
       "       Number of Bathrooms  Number of Bedrooms  Square Feet\n",
       "10657            -1.199997           -1.359338    -1.057453\n",
       "5788             -1.199997           -0.280182    -0.867332\n",
       "1185              0.759144           -0.280182     0.151103\n",
       "9415              0.759144            0.798974     0.844789\n",
       "6987             -0.710212           -0.280182    -0.861165"
      ]
     },
     "execution_count": 20,
     "metadata": {},
     "output_type": "execute_result"
    }
   ],
   "source": [
    "test_x_scaled_data.head()"
   ]
  },
  {
   "cell_type": "code",
   "execution_count": null,
   "metadata": {},
   "outputs": [],
   "source": []
  },
  {
   "cell_type": "markdown",
   "metadata": {},
   "source": [
    "## Run regression model on data and baseline"
   ]
  },
  {
   "cell_type": "code",
   "execution_count": 21,
   "metadata": {},
   "outputs": [],
   "source": [
    "lm1 = LinearRegression()"
   ]
  },
  {
   "cell_type": "code",
   "execution_count": 22,
   "metadata": {},
   "outputs": [
    {
     "name": "stdout",
     "output_type": "stream",
     "text": [
      "Linear Model: LinearRegression(copy_X=True, fit_intercept=True, n_jobs=None, normalize=False)\n",
      "intercept:  [462043.62960063]\n",
      "coefficients:  [[  54558.47376137 -137406.19237539  451263.14727761]]\n"
     ]
    }
   ],
   "source": [
    "lm1.fit(train_x_scaled_data, y_train)\n",
    "print(\"Linear Model:\", lm1)\n",
    "\n",
    "lm1_y_intercept = lm1.intercept_\n",
    "print(\"intercept: \", lm1_y_intercept)\n",
    "\n",
    "lm1_coefficients = lm1.coef_\n",
    "print(\"coefficients: \", lm1_coefficients)\n"
   ]
  },
  {
   "cell_type": "code",
   "execution_count": 23,
   "metadata": {},
   "outputs": [
    {
     "data": {
      "text/plain": [
       "array([[489000.3946324 ],\n",
       "       [350635.07111573],\n",
       "       [544289.11543087],\n",
       "       ...,\n",
       "       [364555.6651571 ],\n",
       "       [302651.54268246],\n",
       "       [663497.55574983]])"
      ]
     },
     "execution_count": 23,
     "metadata": {},
     "output_type": "execute_result"
    }
   ],
   "source": [
    "y_pred_lm1 = lm1.predict(train_x_scaled_data)\n",
    "y_pred_lm1"
   ]
  },
  {
   "cell_type": "code",
   "execution_count": 24,
   "metadata": {},
   "outputs": [
    {
     "name": "stdout",
     "output_type": "stream",
     "text": [
      "linear model\n",
      "  mean squared error: 2.4e+11\n",
      "  42.98% of the variance in the tax value can be explained by the model.\n"
     ]
    }
   ],
   "source": [
    "mse_lm1 = mean_squared_error(y_train, y_pred_lm1)\n",
    "print(\"linear model\\n  mean squared error: {:.3}\".format(mse_lm1)) \n",
    "\n",
    "r2_lm1 = r2_score(y_train, y_pred_lm1)\n",
    "print('  {:.2%} of the variance in the tax value can be explained by the model.'.format(r2_lm1))"
   ]
  },
  {
   "cell_type": "code",
   "execution_count": 25,
   "metadata": {
    "scrolled": true
   },
   "outputs": [
    {
     "name": "stdout",
     "output_type": "stream",
     "text": [
      "baseline model\n",
      "  mean squared error: 4.2093e+11\n",
      "  0.00% of the variance in the tax value can be explained by the baseline (average) model.\n"
     ]
    }
   ],
   "source": [
    "y_pred_baseline = np.array([y_train.mean()[0]]*len(y_train))\n",
    "MSE = mean_squared_error(y_train, y_pred_baseline)\n",
    "SSE = MSE*len(y_train)\n",
    "RMSE = sqrt(MSE)\n",
    "\n",
    "evs = explained_variance_score(y_train, y_pred_baseline)\n",
    "\n",
    "print('baseline model\\n  mean squared error: {:.5}'.format(MSE))\n",
    "print('  {:.2%} of the variance in the tax value can be explained by the baseline (average) model.'.format(evs))"
   ]
  },
  {
   "cell_type": "code",
   "execution_count": 32,
   "metadata": {},
   "outputs": [],
   "source": []
  },
  {
   "cell_type": "markdown",
   "metadata": {},
   "source": [
    "## Distribution of tax rates for each county"
   ]
  },
  {
   "cell_type": "code",
   "execution_count": 33,
   "metadata": {},
   "outputs": [],
   "source": [
    "df_z['County Tax Rates'] = df_z['Assessed Tax']/df_z['Tax Appraised Value']"
   ]
  },
  {
   "cell_type": "code",
   "execution_count": 34,
   "metadata": {},
   "outputs": [
    {
     "data": {
      "text/html": [
       "<div>\n",
       "<style scoped>\n",
       "    .dataframe tbody tr th:only-of-type {\n",
       "        vertical-align: middle;\n",
       "    }\n",
       "\n",
       "    .dataframe tbody tr th {\n",
       "        vertical-align: top;\n",
       "    }\n",
       "\n",
       "    .dataframe thead th {\n",
       "        text-align: right;\n",
       "    }\n",
       "</style>\n",
       "<table border=\"1\" class=\"dataframe\">\n",
       "  <thead>\n",
       "    <tr style=\"text-align: right;\">\n",
       "      <th></th>\n",
       "      <th>Property Description</th>\n",
       "      <th>Number of Bathrooms</th>\n",
       "      <th>Number of Bedrooms</th>\n",
       "      <th>Square Feet</th>\n",
       "      <th>Tax Appraised Value</th>\n",
       "      <th>Assessed Tax</th>\n",
       "      <th>County Number</th>\n",
       "      <th>County Tax Rates</th>\n",
       "    </tr>\n",
       "  </thead>\n",
       "  <tbody>\n",
       "    <tr>\n",
       "      <th>0</th>\n",
       "      <td>Single Family Residential</td>\n",
       "      <td>2.0</td>\n",
       "      <td>4.0</td>\n",
       "      <td>1604.0</td>\n",
       "      <td>498347.0</td>\n",
       "      <td>6089.82</td>\n",
       "      <td>6037.0</td>\n",
       "      <td>0.012220</td>\n",
       "    </tr>\n",
       "    <tr>\n",
       "      <th>1</th>\n",
       "      <td>Single Family Residential</td>\n",
       "      <td>3.0</td>\n",
       "      <td>3.0</td>\n",
       "      <td>2384.0</td>\n",
       "      <td>549917.0</td>\n",
       "      <td>6679.55</td>\n",
       "      <td>6037.0</td>\n",
       "      <td>0.012146</td>\n",
       "    </tr>\n",
       "    <tr>\n",
       "      <th>2</th>\n",
       "      <td>Single Family Residential</td>\n",
       "      <td>2.0</td>\n",
       "      <td>3.0</td>\n",
       "      <td>1574.0</td>\n",
       "      <td>235272.0</td>\n",
       "      <td>3876.31</td>\n",
       "      <td>6037.0</td>\n",
       "      <td>0.016476</td>\n",
       "    </tr>\n",
       "    <tr>\n",
       "      <th>3</th>\n",
       "      <td>Single Family Residential</td>\n",
       "      <td>2.0</td>\n",
       "      <td>2.0</td>\n",
       "      <td>1619.0</td>\n",
       "      <td>340000.0</td>\n",
       "      <td>4206.15</td>\n",
       "      <td>6037.0</td>\n",
       "      <td>0.012371</td>\n",
       "    </tr>\n",
       "    <tr>\n",
       "      <th>4</th>\n",
       "      <td>Single Family Residential</td>\n",
       "      <td>3.0</td>\n",
       "      <td>2.0</td>\n",
       "      <td>2408.0</td>\n",
       "      <td>2017254.0</td>\n",
       "      <td>24353.42</td>\n",
       "      <td>6037.0</td>\n",
       "      <td>0.012073</td>\n",
       "    </tr>\n",
       "  </tbody>\n",
       "</table>\n",
       "</div>"
      ],
      "text/plain": [
       "        Property Description  Number of Bathrooms  Number of Bedrooms  \\\n",
       "0  Single Family Residential                  2.0                 4.0   \n",
       "1  Single Family Residential                  3.0                 3.0   \n",
       "2  Single Family Residential                  2.0                 3.0   \n",
       "3  Single Family Residential                  2.0                 2.0   \n",
       "4  Single Family Residential                  3.0                 2.0   \n",
       "\n",
       "   Square Feet  Tax Appraised Value  Assessed Tax  County Number  \\\n",
       "0       1604.0             498347.0       6089.82         6037.0   \n",
       "1       2384.0             549917.0       6679.55         6037.0   \n",
       "2       1574.0             235272.0       3876.31         6037.0   \n",
       "3       1619.0             340000.0       4206.15         6037.0   \n",
       "4       2408.0            2017254.0      24353.42         6037.0   \n",
       "\n",
       "   County Tax Rates  \n",
       "0          0.012220  \n",
       "1          0.012146  \n",
       "2          0.016476  \n",
       "3          0.012371  \n",
       "4          0.012073  "
      ]
     },
     "execution_count": 34,
     "metadata": {},
     "output_type": "execute_result"
    }
   ],
   "source": [
    "df_z.head()"
   ]
  },
  {
   "cell_type": "code",
   "execution_count": 46,
   "metadata": {},
   "outputs": [],
   "source": [
    "v = df_z[df_z['County Number'] == 6111]\n",
    "l = df_z[df_z['County Number'] == 6037]\n",
    "o = df_z[df_z['County Number'] == 6059]"
   ]
  },
  {
   "cell_type": "code",
   "execution_count": 130,
   "metadata": {},
   "outputs": [
    {
     "data": {
      "image/png": "[encoded data removed]",
      "text/plain": [
       "<Figure size 1152x432 with 3 Axes>"
      ]
     },
     "metadata": {},
     "output_type": "display_data"
    }
   ],
   "source": [
    "plt.figure(figsize=(16, 6))\n",
    "plt.suptitle('Distribution of Tax Rates by County (per $ of Assessed Value)', fontsize=14)\n",
    "\n",
    "plt.subplot(331)\n",
    "sns.distplot(l['County Tax Rates'])\n",
    "plt.title('Los Angeles')\n",
    "\n",
    "plt.subplot(332)\n",
    "sns.distplot(o['County Tax Rates'])\n",
    "plt.title('Orange')\n",
    "\n",
    "plt.subplot(333)\n",
    "sns.distplot(v['County Tax Rates'])\n",
    "plt.title('Ventura')\n",
    "plt.show()"
   ]
  },
  {
   "cell_type": "code",
   "execution_count": 61,
   "metadata": {},
   "outputs": [
    {
     "data": {
      "text/html": [
       "<div>\n",
       "<style scoped>\n",
       "    .dataframe tbody tr th:only-of-type {\n",
       "        vertical-align: middle;\n",
       "    }\n",
       "\n",
       "    .dataframe tbody tr th {\n",
       "        vertical-align: top;\n",
       "    }\n",
       "\n",
       "    .dataframe thead th {\n",
       "        text-align: right;\n",
       "    }\n",
       "</style>\n",
       "<table border=\"1\" class=\"dataframe\">\n",
       "  <thead>\n",
       "    <tr style=\"text-align: right;\">\n",
       "      <th></th>\n",
       "      <th>Number of Bathrooms</th>\n",
       "      <th>Number of Bedrooms</th>\n",
       "      <th>Square Feet</th>\n",
       "      <th>Tax Appraised Value</th>\n",
       "      <th>Assessed Tax</th>\n",
       "      <th>County Number</th>\n",
       "      <th>County Tax Rates</th>\n",
       "    </tr>\n",
       "  </thead>\n",
       "  <tbody>\n",
       "    <tr>\n",
       "      <th>count</th>\n",
       "      <td>12388.000000</td>\n",
       "      <td>12388.000000</td>\n",
       "      <td>12388.000000</td>\n",
       "      <td>1.238800e+04</td>\n",
       "      <td>12388.000000</td>\n",
       "      <td>12388.0</td>\n",
       "      <td>12388.000000</td>\n",
       "    </tr>\n",
       "    <tr>\n",
       "      <th>mean</th>\n",
       "      <td>2.149661</td>\n",
       "      <td>3.177510</td>\n",
       "      <td>1772.191637</td>\n",
       "      <td>4.464855e+05</td>\n",
       "      <td>5611.552369</td>\n",
       "      <td>6037.0</td>\n",
       "      <td>0.013736</td>\n",
       "    </tr>\n",
       "    <tr>\n",
       "      <th>std</th>\n",
       "      <td>1.045680</td>\n",
       "      <td>0.956073</td>\n",
       "      <td>950.439448</td>\n",
       "      <td>6.415080e+05</td>\n",
       "      <td>7656.803041</td>\n",
       "      <td>0.0</td>\n",
       "      <td>0.003985</td>\n",
       "    </tr>\n",
       "    <tr>\n",
       "      <th>min</th>\n",
       "      <td>1.000000</td>\n",
       "      <td>1.000000</td>\n",
       "      <td>320.000000</td>\n",
       "      <td>1.216800e+04</td>\n",
       "      <td>125.950000</td>\n",
       "      <td>6037.0</td>\n",
       "      <td>0.000303</td>\n",
       "    </tr>\n",
       "    <tr>\n",
       "      <th>25%</th>\n",
       "      <td>1.000000</td>\n",
       "      <td>3.000000</td>\n",
       "      <td>1197.000000</td>\n",
       "      <td>1.700000e+05</td>\n",
       "      <td>2416.067500</td>\n",
       "      <td>6037.0</td>\n",
       "      <td>0.012147</td>\n",
       "    </tr>\n",
       "    <tr>\n",
       "      <th>50%</th>\n",
       "      <td>2.000000</td>\n",
       "      <td>3.000000</td>\n",
       "      <td>1532.000000</td>\n",
       "      <td>2.982050e+05</td>\n",
       "      <td>3911.960000</td>\n",
       "      <td>6037.0</td>\n",
       "      <td>0.012638</td>\n",
       "    </tr>\n",
       "    <tr>\n",
       "      <th>75%</th>\n",
       "      <td>3.000000</td>\n",
       "      <td>4.000000</td>\n",
       "      <td>2059.250000</td>\n",
       "      <td>4.944260e+05</td>\n",
       "      <td>6146.047500</td>\n",
       "      <td>6037.0</td>\n",
       "      <td>0.014012</td>\n",
       "    </tr>\n",
       "    <tr>\n",
       "      <th>max</th>\n",
       "      <td>20.000000</td>\n",
       "      <td>25.000000</td>\n",
       "      <td>14342.000000</td>\n",
       "      <td>1.912982e+07</td>\n",
       "      <td>228999.210000</td>\n",
       "      <td>6037.0</td>\n",
       "      <td>0.155072</td>\n",
       "    </tr>\n",
       "  </tbody>\n",
       "</table>\n",
       "</div>"
      ],
      "text/plain": [
       "       Number of Bathrooms  Number of Bedrooms   Square Feet  \\\n",
       "count         12388.000000        12388.000000  12388.000000   \n",
       "mean              2.149661            3.177510   1772.191637   \n",
       "std               1.045680            0.956073    950.439448   \n",
       "min               1.000000            1.000000    320.000000   \n",
       "25%               1.000000            3.000000   1197.000000   \n",
       "50%               2.000000            3.000000   1532.000000   \n",
       "75%               3.000000            4.000000   2059.250000   \n",
       "max              20.000000           25.000000  14342.000000   \n",
       "\n",
       "       Tax Appraised Value   Assessed Tax  County Number  County Tax Rates  \n",
       "count         1.238800e+04   12388.000000        12388.0      12388.000000  \n",
       "mean          4.464855e+05    5611.552369         6037.0          0.013736  \n",
       "std           6.415080e+05    7656.803041            0.0          0.003985  \n",
       "min           1.216800e+04     125.950000         6037.0          0.000303  \n",
       "25%           1.700000e+05    2416.067500         6037.0          0.012147  \n",
       "50%           2.982050e+05    3911.960000         6037.0          0.012638  \n",
       "75%           4.944260e+05    6146.047500         6037.0          0.014012  \n",
       "max           1.912982e+07  228999.210000         6037.0          0.155072  "
      ]
     },
     "execution_count": 61,
     "metadata": {},
     "output_type": "execute_result"
    }
   ],
   "source": [
    "Los_Angeles_County = l.describe()\n",
    "Los_Angeles_County"
   ]
  },
  {
   "cell_type": "code",
   "execution_count": 63,
   "metadata": {},
   "outputs": [
    {
     "data": {
      "text/html": [
       "<div>\n",
       "<style scoped>\n",
       "    .dataframe tbody tr th:only-of-type {\n",
       "        vertical-align: middle;\n",
       "    }\n",
       "\n",
       "    .dataframe tbody tr th {\n",
       "        vertical-align: top;\n",
       "    }\n",
       "\n",
       "    .dataframe thead th {\n",
       "        text-align: right;\n",
       "    }\n",
       "</style>\n",
       "<table border=\"1\" class=\"dataframe\">\n",
       "  <thead>\n",
       "    <tr style=\"text-align: right;\">\n",
       "      <th></th>\n",
       "      <th>Number of Bathrooms</th>\n",
       "      <th>Number of Bedrooms</th>\n",
       "      <th>Square Feet</th>\n",
       "      <th>Tax Appraised Value</th>\n",
       "      <th>Assessed Tax</th>\n",
       "      <th>County Number</th>\n",
       "      <th>County Tax Rates</th>\n",
       "    </tr>\n",
       "  </thead>\n",
       "  <tbody>\n",
       "    <tr>\n",
       "      <th>count</th>\n",
       "      <td>2780.000000</td>\n",
       "      <td>2780.000000</td>\n",
       "      <td>2780.000000</td>\n",
       "      <td>2.780000e+03</td>\n",
       "      <td>2780.000000</td>\n",
       "      <td>2780.0</td>\n",
       "      <td>2780.000000</td>\n",
       "    </tr>\n",
       "    <tr>\n",
       "      <th>mean</th>\n",
       "      <td>2.462050</td>\n",
       "      <td>3.498201</td>\n",
       "      <td>2075.428058</td>\n",
       "      <td>5.483000e+05</td>\n",
       "      <td>6233.562180</td>\n",
       "      <td>6059.0</td>\n",
       "      <td>0.012111</td>\n",
       "    </tr>\n",
       "    <tr>\n",
       "      <th>std</th>\n",
       "      <td>0.947383</td>\n",
       "      <td>0.886708</td>\n",
       "      <td>1109.588740</td>\n",
       "      <td>7.094007e+05</td>\n",
       "      <td>7386.973146</td>\n",
       "      <td>0.0</td>\n",
       "      <td>0.002231</td>\n",
       "    </tr>\n",
       "    <tr>\n",
       "      <th>min</th>\n",
       "      <td>1.000000</td>\n",
       "      <td>1.000000</td>\n",
       "      <td>388.000000</td>\n",
       "      <td>1.611900e+04</td>\n",
       "      <td>345.720000</td>\n",
       "      <td>6059.0</td>\n",
       "      <td>0.000032</td>\n",
       "    </tr>\n",
       "    <tr>\n",
       "      <th>25%</th>\n",
       "      <td>2.000000</td>\n",
       "      <td>3.000000</td>\n",
       "      <td>1415.000000</td>\n",
       "      <td>2.465898e+05</td>\n",
       "      <td>2908.670000</td>\n",
       "      <td>6059.0</td>\n",
       "      <td>0.010805</td>\n",
       "    </tr>\n",
       "    <tr>\n",
       "      <th>50%</th>\n",
       "      <td>2.500000</td>\n",
       "      <td>3.000000</td>\n",
       "      <td>1853.000000</td>\n",
       "      <td>4.091510e+05</td>\n",
       "      <td>4706.300000</td>\n",
       "      <td>6059.0</td>\n",
       "      <td>0.011702</td>\n",
       "    </tr>\n",
       "    <tr>\n",
       "      <th>75%</th>\n",
       "      <td>3.000000</td>\n",
       "      <td>4.000000</td>\n",
       "      <td>2467.750000</td>\n",
       "      <td>6.488870e+05</td>\n",
       "      <td>7248.965000</td>\n",
       "      <td>6059.0</td>\n",
       "      <td>0.012622</td>\n",
       "    </tr>\n",
       "    <tr>\n",
       "      <th>max</th>\n",
       "      <td>19.500000</td>\n",
       "      <td>10.000000</td>\n",
       "      <td>26345.000000</td>\n",
       "      <td>1.168967e+07</td>\n",
       "      <td>121161.260000</td>\n",
       "      <td>6059.0</td>\n",
       "      <td>0.046414</td>\n",
       "    </tr>\n",
       "  </tbody>\n",
       "</table>\n",
       "</div>"
      ],
      "text/plain": [
       "       Number of Bathrooms  Number of Bedrooms   Square Feet  \\\n",
       "count          2780.000000         2780.000000   2780.000000   \n",
       "mean              2.462050            3.498201   2075.428058   \n",
       "std               0.947383            0.886708   1109.588740   \n",
       "min               1.000000            1.000000    388.000000   \n",
       "25%               2.000000            3.000000   1415.000000   \n",
       "50%               2.500000            3.000000   1853.000000   \n",
       "75%               3.000000            4.000000   2467.750000   \n",
       "max              19.500000           10.000000  26345.000000   \n",
       "\n",
       "       Tax Appraised Value   Assessed Tax  County Number  County Tax Rates  \n",
       "count         2.780000e+03    2780.000000         2780.0       2780.000000  \n",
       "mean          5.483000e+05    6233.562180         6059.0          0.012111  \n",
       "std           7.094007e+05    7386.973146            0.0          0.002231  \n",
       "min           1.611900e+04     345.720000         6059.0          0.000032  \n",
       "25%           2.465898e+05    2908.670000         6059.0          0.010805  \n",
       "50%           4.091510e+05    4706.300000         6059.0          0.011702  \n",
       "75%           6.488870e+05    7248.965000         6059.0          0.012622  \n",
       "max           1.168967e+07  121161.260000         6059.0          0.046414  "
      ]
     },
     "execution_count": 63,
     "metadata": {},
     "output_type": "execute_result"
    }
   ],
   "source": [
    "Orange_County = o.describe()\n",
    "Orange_County"
   ]
  },
  {
   "cell_type": "code",
   "execution_count": 65,
   "metadata": {},
   "outputs": [
    {
     "data": {
      "text/html": [
       "<div>\n",
       "<style scoped>\n",
       "    .dataframe tbody tr th:only-of-type {\n",
       "        vertical-align: middle;\n",
       "    }\n",
       "\n",
       "    .dataframe tbody tr th {\n",
       "        vertical-align: top;\n",
       "    }\n",
       "\n",
       "    .dataframe thead th {\n",
       "        text-align: right;\n",
       "    }\n",
       "</style>\n",
       "<table border=\"1\" class=\"dataframe\">\n",
       "  <thead>\n",
       "    <tr style=\"text-align: right;\">\n",
       "      <th></th>\n",
       "      <th>Number of Bathrooms</th>\n",
       "      <th>Number of Bedrooms</th>\n",
       "      <th>Square Feet</th>\n",
       "      <th>Tax Appraised Value</th>\n",
       "      <th>Assessed Tax</th>\n",
       "      <th>County Number</th>\n",
       "      <th>County Tax Rates</th>\n",
       "    </tr>\n",
       "  </thead>\n",
       "  <tbody>\n",
       "    <tr>\n",
       "      <th>count</th>\n",
       "      <td>795.000000</td>\n",
       "      <td>795.000000</td>\n",
       "      <td>795.000000</td>\n",
       "      <td>7.950000e+02</td>\n",
       "      <td>795.000000</td>\n",
       "      <td>795.0</td>\n",
       "      <td>795.000000</td>\n",
       "    </tr>\n",
       "    <tr>\n",
       "      <th>mean</th>\n",
       "      <td>2.384277</td>\n",
       "      <td>3.568553</td>\n",
       "      <td>2014.309434</td>\n",
       "      <td>4.284085e+05</td>\n",
       "      <td>4821.628931</td>\n",
       "      <td>6111.0</td>\n",
       "      <td>0.011491</td>\n",
       "    </tr>\n",
       "    <tr>\n",
       "      <th>std</th>\n",
       "      <td>0.819591</td>\n",
       "      <td>0.850999</td>\n",
       "      <td>890.610077</td>\n",
       "      <td>3.268902e+05</td>\n",
       "      <td>3587.999743</td>\n",
       "      <td>0.0</td>\n",
       "      <td>0.001842</td>\n",
       "    </tr>\n",
       "    <tr>\n",
       "      <th>min</th>\n",
       "      <td>1.000000</td>\n",
       "      <td>1.000000</td>\n",
       "      <td>572.000000</td>\n",
       "      <td>1.678200e+04</td>\n",
       "      <td>49.180000</td>\n",
       "      <td>6111.0</td>\n",
       "      <td>0.000367</td>\n",
       "    </tr>\n",
       "    <tr>\n",
       "      <th>25%</th>\n",
       "      <td>2.000000</td>\n",
       "      <td>3.000000</td>\n",
       "      <td>1444.500000</td>\n",
       "      <td>2.372000e+05</td>\n",
       "      <td>2716.540000</td>\n",
       "      <td>6111.0</td>\n",
       "      <td>0.010695</td>\n",
       "    </tr>\n",
       "    <tr>\n",
       "      <th>50%</th>\n",
       "      <td>2.000000</td>\n",
       "      <td>4.000000</td>\n",
       "      <td>1826.000000</td>\n",
       "      <td>3.732460e+05</td>\n",
       "      <td>4299.460000</td>\n",
       "      <td>6111.0</td>\n",
       "      <td>0.011203</td>\n",
       "    </tr>\n",
       "    <tr>\n",
       "      <th>75%</th>\n",
       "      <td>3.000000</td>\n",
       "      <td>4.000000</td>\n",
       "      <td>2356.000000</td>\n",
       "      <td>5.423780e+05</td>\n",
       "      <td>6053.900000</td>\n",
       "      <td>6111.0</td>\n",
       "      <td>0.011782</td>\n",
       "    </tr>\n",
       "    <tr>\n",
       "      <th>max</th>\n",
       "      <td>7.500000</td>\n",
       "      <td>6.000000</td>\n",
       "      <td>12086.000000</td>\n",
       "      <td>3.631311e+06</td>\n",
       "      <td>38677.720000</td>\n",
       "      <td>6111.0</td>\n",
       "      <td>0.033626</td>\n",
       "    </tr>\n",
       "  </tbody>\n",
       "</table>\n",
       "</div>"
      ],
      "text/plain": [
       "       Number of Bathrooms  Number of Bedrooms   Square Feet  \\\n",
       "count           795.000000          795.000000    795.000000   \n",
       "mean              2.384277            3.568553   2014.309434   \n",
       "std               0.819591            0.850999    890.610077   \n",
       "min               1.000000            1.000000    572.000000   \n",
       "25%               2.000000            3.000000   1444.500000   \n",
       "50%               2.000000            4.000000   1826.000000   \n",
       "75%               3.000000            4.000000   2356.000000   \n",
       "max               7.500000            6.000000  12086.000000   \n",
       "\n",
       "       Tax Appraised Value  Assessed Tax  County Number  County Tax Rates  \n",
       "count         7.950000e+02    795.000000          795.0        795.000000  \n",
       "mean          4.284085e+05   4821.628931         6111.0          0.011491  \n",
       "std           3.268902e+05   3587.999743            0.0          0.001842  \n",
       "min           1.678200e+04     49.180000         6111.0          0.000367  \n",
       "25%           2.372000e+05   2716.540000         6111.0          0.010695  \n",
       "50%           3.732460e+05   4299.460000         6111.0          0.011203  \n",
       "75%           5.423780e+05   6053.900000         6111.0          0.011782  \n",
       "max           3.631311e+06  38677.720000         6111.0          0.033626  "
      ]
     },
     "execution_count": 65,
     "metadata": {},
     "output_type": "execute_result"
    }
   ],
   "source": [
    "Ventura_County = v.describe()\n",
    "Ventura_County"
   ]
  },
  {
   "cell_type": "code",
   "execution_count": null,
   "metadata": {},
   "outputs": [],
   "source": []
  }
 ],
 "metadata": {
  "kernelspec": {
   "display_name": "Python 3",
   "language": "python",
   "name": "python3"
  },
  "language_info": {
   "codemirror_mode": {
    "name": "ipython",
    "version": 3
   },
   "file_extension": ".py",
   "mimetype": "text/x-python",
   "name": "python",
   "nbconvert_exporter": "python",
   "pygments_lexer": "ipython3",
   "version": "3.7.3"
  }
 },
 "nbformat": 4,
 "nbformat_minor": 2
}
