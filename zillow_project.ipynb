{
 "cells": [
  {
   "cell_type": "code",
   "execution_count": 26,
   "metadata": {},
   "outputs": [],
   "source": [
    "import pandas as pd\n",
    "import numpy as np\n",
    "import matplotlib.pyplot as plt\n",
    "import seaborn as sns\n",
    "from sklearn.model_selection import train_test_split\n",
    "from sklearn.preprocessing import StandardScaler\n",
    "from sklearn.metrics import mean_squared_error, r2_score, explained_variance_score\n",
    "from sklearn.feature_selection import f_regression \n",
    "from sklearn.linear_model import LinearRegression\n",
    "from math import sqrt\n",
    "import statsmodels.api as sm\n",
    "import warnings\n",
    "warnings.filterwarnings(\"ignore\")\n",
    "\n",
    "import env\n",
    "import wrangle_z\n",
    "import z_split_scale"
   ]
  },
  {
   "cell_type": "code",
   "execution_count": 2,
   "metadata": {},
   "outputs": [],
   "source": [
    "df_z = wrangle_z.wrangle_zillow()"
   ]
  },
  {
   "cell_type": "markdown",
   "metadata": {},
   "source": [
    "## Descriptive statistics"
   ]
  },
  {
   "cell_type": "code",
   "execution_count": 3,
   "metadata": {},
   "outputs": [
    {
     "data": {
      "text/html": [
       "<div>\n",
       "<style scoped>\n",
       "    .dataframe tbody tr th:only-of-type {\n",
       "        vertical-align: middle;\n",
       "    }\n",
       "\n",
       "    .dataframe tbody tr th {\n",
       "        vertical-align: top;\n",
       "    }\n",
       "\n",
       "    .dataframe thead th {\n",
       "        text-align: right;\n",
       "    }\n",
       "</style>\n",
       "<table border=\"1\" class=\"dataframe\">\n",
       "  <thead>\n",
       "    <tr style=\"text-align: right;\">\n",
       "      <th></th>\n",
       "      <th>propertylandusedesc</th>\n",
       "      <th>bathroomcnt</th>\n",
       "      <th>bedroomcnt</th>\n",
       "      <th>calculatedfinishedsquarefeet</th>\n",
       "      <th>taxvaluedollarcnt</th>\n",
       "      <th>taxamount</th>\n",
       "      <th>fips</th>\n",
       "    </tr>\n",
       "  </thead>\n",
       "  <tbody>\n",
       "    <tr>\n",
       "      <th>0</th>\n",
       "      <td>Single Family Residential</td>\n",
       "      <td>2.0</td>\n",
       "      <td>4.0</td>\n",
       "      <td>1604.0</td>\n",
       "      <td>498347.0</td>\n",
       "      <td>6089.82</td>\n",
       "      <td>6037.0</td>\n",
       "    </tr>\n",
       "    <tr>\n",
       "      <th>1</th>\n",
       "      <td>Single Family Residential</td>\n",
       "      <td>3.0</td>\n",
       "      <td>3.0</td>\n",
       "      <td>2384.0</td>\n",
       "      <td>549917.0</td>\n",
       "      <td>6679.55</td>\n",
       "      <td>6037.0</td>\n",
       "    </tr>\n",
       "    <tr>\n",
       "      <th>2</th>\n",
       "      <td>Single Family Residential</td>\n",
       "      <td>2.0</td>\n",
       "      <td>3.0</td>\n",
       "      <td>1574.0</td>\n",
       "      <td>235272.0</td>\n",
       "      <td>3876.31</td>\n",
       "      <td>6037.0</td>\n",
       "    </tr>\n",
       "    <tr>\n",
       "      <th>3</th>\n",
       "      <td>Single Family Residential</td>\n",
       "      <td>2.0</td>\n",
       "      <td>2.0</td>\n",
       "      <td>1619.0</td>\n",
       "      <td>340000.0</td>\n",
       "      <td>4206.15</td>\n",
       "      <td>6037.0</td>\n",
       "    </tr>\n",
       "    <tr>\n",
       "      <th>4</th>\n",
       "      <td>Single Family Residential</td>\n",
       "      <td>3.0</td>\n",
       "      <td>2.0</td>\n",
       "      <td>2408.0</td>\n",
       "      <td>2017254.0</td>\n",
       "      <td>24353.42</td>\n",
       "      <td>6037.0</td>\n",
       "    </tr>\n",
       "  </tbody>\n",
       "</table>\n",
       "</div>"
      ],
      "text/plain": [
       "         propertylandusedesc  bathroomcnt  bedroomcnt  \\\n",
       "0  Single Family Residential          2.0         4.0   \n",
       "1  Single Family Residential          3.0         3.0   \n",
       "2  Single Family Residential          2.0         3.0   \n",
       "3  Single Family Residential          2.0         2.0   \n",
       "4  Single Family Residential          3.0         2.0   \n",
       "\n",
       "   calculatedfinishedsquarefeet  taxvaluedollarcnt  taxamount    fips  \n",
       "0                        1604.0           498347.0    6089.82  6037.0  \n",
       "1                        2384.0           549917.0    6679.55  6037.0  \n",
       "2                        1574.0           235272.0    3876.31  6037.0  \n",
       "3                        1619.0           340000.0    4206.15  6037.0  \n",
       "4                        2408.0          2017254.0   24353.42  6037.0  "
      ]
     },
     "execution_count": 3,
     "metadata": {},
     "output_type": "execute_result"
    }
   ],
   "source": [
    "df_z.head()"
   ]
  },
  {
   "cell_type": "code",
   "execution_count": 4,
   "metadata": {},
   "outputs": [
    {
     "data": {
      "text/html": [
       "<div>\n",
       "<style scoped>\n",
       "    .dataframe tbody tr th:only-of-type {\n",
       "        vertical-align: middle;\n",
       "    }\n",
       "\n",
       "    .dataframe tbody tr th {\n",
       "        vertical-align: top;\n",
       "    }\n",
       "\n",
       "    .dataframe thead th {\n",
       "        text-align: right;\n",
       "    }\n",
       "</style>\n",
       "<table border=\"1\" class=\"dataframe\">\n",
       "  <thead>\n",
       "    <tr style=\"text-align: right;\">\n",
       "      <th></th>\n",
       "      <th>propertylandusedesc</th>\n",
       "      <th>bathroomcnt</th>\n",
       "      <th>bedroomcnt</th>\n",
       "      <th>calculatedfinishedsquarefeet</th>\n",
       "      <th>taxvaluedollarcnt</th>\n",
       "      <th>taxamount</th>\n",
       "      <th>fips</th>\n",
       "    </tr>\n",
       "  </thead>\n",
       "  <tbody>\n",
       "    <tr>\n",
       "      <th>15953</th>\n",
       "      <td>Single Family Residential</td>\n",
       "      <td>2.0</td>\n",
       "      <td>3.0</td>\n",
       "      <td>1284.0</td>\n",
       "      <td>208601.0</td>\n",
       "      <td>2808.39</td>\n",
       "      <td>6037.0</td>\n",
       "    </tr>\n",
       "    <tr>\n",
       "      <th>15954</th>\n",
       "      <td>Single Family Residential</td>\n",
       "      <td>2.0</td>\n",
       "      <td>3.0</td>\n",
       "      <td>1284.0</td>\n",
       "      <td>364080.0</td>\n",
       "      <td>4647.69</td>\n",
       "      <td>6037.0</td>\n",
       "    </tr>\n",
       "    <tr>\n",
       "      <th>15955</th>\n",
       "      <td>Single Family Residential</td>\n",
       "      <td>5.0</td>\n",
       "      <td>6.0</td>\n",
       "      <td>2745.0</td>\n",
       "      <td>337869.0</td>\n",
       "      <td>5243.39</td>\n",
       "      <td>6037.0</td>\n",
       "    </tr>\n",
       "    <tr>\n",
       "      <th>15956</th>\n",
       "      <td>Single Family Residential</td>\n",
       "      <td>1.0</td>\n",
       "      <td>3.0</td>\n",
       "      <td>1357.0</td>\n",
       "      <td>192065.0</td>\n",
       "      <td>3124.43</td>\n",
       "      <td>6037.0</td>\n",
       "    </tr>\n",
       "    <tr>\n",
       "      <th>15957</th>\n",
       "      <td>Single Family Residential</td>\n",
       "      <td>1.0</td>\n",
       "      <td>2.0</td>\n",
       "      <td>872.0</td>\n",
       "      <td>59830.0</td>\n",
       "      <td>1084.21</td>\n",
       "      <td>6037.0</td>\n",
       "    </tr>\n",
       "    <tr>\n",
       "      <th>15958</th>\n",
       "      <td>Single Family Residential</td>\n",
       "      <td>2.0</td>\n",
       "      <td>3.0</td>\n",
       "      <td>2040.0</td>\n",
       "      <td>321351.0</td>\n",
       "      <td>4532.87</td>\n",
       "      <td>6037.0</td>\n",
       "    </tr>\n",
       "    <tr>\n",
       "      <th>15959</th>\n",
       "      <td>Single Family Residential</td>\n",
       "      <td>1.0</td>\n",
       "      <td>2.0</td>\n",
       "      <td>1292.0</td>\n",
       "      <td>32830.0</td>\n",
       "      <td>813.11</td>\n",
       "      <td>6037.0</td>\n",
       "    </tr>\n",
       "    <tr>\n",
       "      <th>15960</th>\n",
       "      <td>Single Family Residential</td>\n",
       "      <td>1.0</td>\n",
       "      <td>1.0</td>\n",
       "      <td>684.0</td>\n",
       "      <td>324000.0</td>\n",
       "      <td>4495.39</td>\n",
       "      <td>6037.0</td>\n",
       "    </tr>\n",
       "    <tr>\n",
       "      <th>15961</th>\n",
       "      <td>Single Family Residential</td>\n",
       "      <td>2.0</td>\n",
       "      <td>4.0</td>\n",
       "      <td>1536.0</td>\n",
       "      <td>284770.0</td>\n",
       "      <td>4014.27</td>\n",
       "      <td>6037.0</td>\n",
       "    </tr>\n",
       "    <tr>\n",
       "      <th>15962</th>\n",
       "      <td>Single Family Residential</td>\n",
       "      <td>2.0</td>\n",
       "      <td>4.0</td>\n",
       "      <td>1706.0</td>\n",
       "      <td>441000.0</td>\n",
       "      <td>6350.89</td>\n",
       "      <td>6037.0</td>\n",
       "    </tr>\n",
       "  </tbody>\n",
       "</table>\n",
       "</div>"
      ],
      "text/plain": [
       "             propertylandusedesc  bathroomcnt  bedroomcnt  \\\n",
       "15953  Single Family Residential          2.0         3.0   \n",
       "15954  Single Family Residential          2.0         3.0   \n",
       "15955  Single Family Residential          5.0         6.0   \n",
       "15956  Single Family Residential          1.0         3.0   \n",
       "15957  Single Family Residential          1.0         2.0   \n",
       "15958  Single Family Residential          2.0         3.0   \n",
       "15959  Single Family Residential          1.0         2.0   \n",
       "15960  Single Family Residential          1.0         1.0   \n",
       "15961  Single Family Residential          2.0         4.0   \n",
       "15962  Single Family Residential          2.0         4.0   \n",
       "\n",
       "       calculatedfinishedsquarefeet  taxvaluedollarcnt  taxamount    fips  \n",
       "15953                        1284.0           208601.0    2808.39  6037.0  \n",
       "15954                        1284.0           364080.0    4647.69  6037.0  \n",
       "15955                        2745.0           337869.0    5243.39  6037.0  \n",
       "15956                        1357.0           192065.0    3124.43  6037.0  \n",
       "15957                         872.0            59830.0    1084.21  6037.0  \n",
       "15958                        2040.0           321351.0    4532.87  6037.0  \n",
       "15959                        1292.0            32830.0     813.11  6037.0  \n",
       "15960                         684.0           324000.0    4495.39  6037.0  \n",
       "15961                        1536.0           284770.0    4014.27  6037.0  \n",
       "15962                        1706.0           441000.0    6350.89  6037.0  "
      ]
     },
     "execution_count": 4,
     "metadata": {},
     "output_type": "execute_result"
    }
   ],
   "source": [
    "df_z.tail(10)"
   ]
  },
  {
   "cell_type": "code",
   "execution_count": 5,
   "metadata": {},
   "outputs": [
    {
     "data": {
      "text/html": [
       "<div>\n",
       "<style scoped>\n",
       "    .dataframe tbody tr th:only-of-type {\n",
       "        vertical-align: middle;\n",
       "    }\n",
       "\n",
       "    .dataframe tbody tr th {\n",
       "        vertical-align: top;\n",
       "    }\n",
       "\n",
       "    .dataframe thead th {\n",
       "        text-align: right;\n",
       "    }\n",
       "</style>\n",
       "<table border=\"1\" class=\"dataframe\">\n",
       "  <thead>\n",
       "    <tr style=\"text-align: right;\">\n",
       "      <th></th>\n",
       "      <th>propertylandusedesc</th>\n",
       "      <th>bathroomcnt</th>\n",
       "      <th>bedroomcnt</th>\n",
       "      <th>calculatedfinishedsquarefeet</th>\n",
       "      <th>taxvaluedollarcnt</th>\n",
       "      <th>taxamount</th>\n",
       "      <th>fips</th>\n",
       "    </tr>\n",
       "  </thead>\n",
       "  <tbody>\n",
       "    <tr>\n",
       "      <th>14085</th>\n",
       "      <td>Single Family Residential</td>\n",
       "      <td>2.0</td>\n",
       "      <td>3.0</td>\n",
       "      <td>1229.0</td>\n",
       "      <td>550000.0</td>\n",
       "      <td>6625.01</td>\n",
       "      <td>6037.0</td>\n",
       "    </tr>\n",
       "    <tr>\n",
       "      <th>603</th>\n",
       "      <td>Single Family Residential</td>\n",
       "      <td>3.0</td>\n",
       "      <td>4.0</td>\n",
       "      <td>1748.0</td>\n",
       "      <td>101513.0</td>\n",
       "      <td>1358.66</td>\n",
       "      <td>6037.0</td>\n",
       "    </tr>\n",
       "    <tr>\n",
       "      <th>3701</th>\n",
       "      <td>Single Family Residential</td>\n",
       "      <td>1.0</td>\n",
       "      <td>2.0</td>\n",
       "      <td>814.0</td>\n",
       "      <td>117310.0</td>\n",
       "      <td>2476.13</td>\n",
       "      <td>6037.0</td>\n",
       "    </tr>\n",
       "    <tr>\n",
       "      <th>4136</th>\n",
       "      <td>Single Family Residential</td>\n",
       "      <td>2.0</td>\n",
       "      <td>4.0</td>\n",
       "      <td>1258.0</td>\n",
       "      <td>366879.0</td>\n",
       "      <td>4308.61</td>\n",
       "      <td>6037.0</td>\n",
       "    </tr>\n",
       "    <tr>\n",
       "      <th>11090</th>\n",
       "      <td>Single Family Residential</td>\n",
       "      <td>2.0</td>\n",
       "      <td>3.0</td>\n",
       "      <td>1874.0</td>\n",
       "      <td>229244.0</td>\n",
       "      <td>2950.49</td>\n",
       "      <td>6037.0</td>\n",
       "    </tr>\n",
       "  </tbody>\n",
       "</table>\n",
       "</div>"
      ],
      "text/plain": [
       "             propertylandusedesc  bathroomcnt  bedroomcnt  \\\n",
       "14085  Single Family Residential          2.0         3.0   \n",
       "603    Single Family Residential          3.0         4.0   \n",
       "3701   Single Family Residential          1.0         2.0   \n",
       "4136   Single Family Residential          2.0         4.0   \n",
       "11090  Single Family Residential          2.0         3.0   \n",
       "\n",
       "       calculatedfinishedsquarefeet  taxvaluedollarcnt  taxamount    fips  \n",
       "14085                        1229.0           550000.0    6625.01  6037.0  \n",
       "603                          1748.0           101513.0    1358.66  6037.0  \n",
       "3701                          814.0           117310.0    2476.13  6037.0  \n",
       "4136                         1258.0           366879.0    4308.61  6037.0  \n",
       "11090                        1874.0           229244.0    2950.49  6037.0  "
      ]
     },
     "execution_count": 5,
     "metadata": {},
     "output_type": "execute_result"
    }
   ],
   "source": [
    "df_z.sample(5)"
   ]
  },
  {
   "cell_type": "code",
   "execution_count": 6,
   "metadata": {},
   "outputs": [
    {
     "data": {
      "text/html": [
       "<div>\n",
       "<style scoped>\n",
       "    .dataframe tbody tr th:only-of-type {\n",
       "        vertical-align: middle;\n",
       "    }\n",
       "\n",
       "    .dataframe tbody tr th {\n",
       "        vertical-align: top;\n",
       "    }\n",
       "\n",
       "    .dataframe thead th {\n",
       "        text-align: right;\n",
       "    }\n",
       "</style>\n",
       "<table border=\"1\" class=\"dataframe\">\n",
       "  <thead>\n",
       "    <tr style=\"text-align: right;\">\n",
       "      <th></th>\n",
       "      <th>bathroomcnt</th>\n",
       "      <th>bedroomcnt</th>\n",
       "      <th>calculatedfinishedsquarefeet</th>\n",
       "      <th>taxvaluedollarcnt</th>\n",
       "      <th>taxamount</th>\n",
       "      <th>fips</th>\n",
       "    </tr>\n",
       "  </thead>\n",
       "  <tbody>\n",
       "    <tr>\n",
       "      <th>count</th>\n",
       "      <td>15963.000000</td>\n",
       "      <td>15963.000000</td>\n",
       "      <td>15963.000000</td>\n",
       "      <td>1.596300e+04</td>\n",
       "      <td>15963.000000</td>\n",
       "      <td>15963.000000</td>\n",
       "    </tr>\n",
       "    <tr>\n",
       "      <th>mean</th>\n",
       "      <td>2.215749</td>\n",
       "      <td>3.252835</td>\n",
       "      <td>1837.059199</td>\n",
       "      <td>4.633165e+05</td>\n",
       "      <td>5680.536779</td>\n",
       "      <td>6044.516758</td>\n",
       "    </tr>\n",
       "    <tr>\n",
       "      <th>std</th>\n",
       "      <td>1.026447</td>\n",
       "      <td>0.949797</td>\n",
       "      <td>984.656553</td>\n",
       "      <td>6.432976e+05</td>\n",
       "      <td>7465.277971</td>\n",
       "      <td>17.335701</td>\n",
       "    </tr>\n",
       "    <tr>\n",
       "      <th>min</th>\n",
       "      <td>1.000000</td>\n",
       "      <td>1.000000</td>\n",
       "      <td>320.000000</td>\n",
       "      <td>1.216800e+04</td>\n",
       "      <td>49.180000</td>\n",
       "      <td>6037.000000</td>\n",
       "    </tr>\n",
       "    <tr>\n",
       "      <th>25%</th>\n",
       "      <td>2.000000</td>\n",
       "      <td>3.000000</td>\n",
       "      <td>1233.000000</td>\n",
       "      <td>1.820635e+05</td>\n",
       "      <td>2495.545000</td>\n",
       "      <td>6037.000000</td>\n",
       "    </tr>\n",
       "    <tr>\n",
       "      <th>50%</th>\n",
       "      <td>2.000000</td>\n",
       "      <td>3.000000</td>\n",
       "      <td>1592.000000</td>\n",
       "      <td>3.204320e+05</td>\n",
       "      <td>4063.980000</td>\n",
       "      <td>6037.000000</td>\n",
       "    </tr>\n",
       "    <tr>\n",
       "      <th>75%</th>\n",
       "      <td>3.000000</td>\n",
       "      <td>4.000000</td>\n",
       "      <td>2162.500000</td>\n",
       "      <td>5.284255e+05</td>\n",
       "      <td>6408.970000</td>\n",
       "      <td>6037.000000</td>\n",
       "    </tr>\n",
       "    <tr>\n",
       "      <th>max</th>\n",
       "      <td>20.000000</td>\n",
       "      <td>25.000000</td>\n",
       "      <td>26345.000000</td>\n",
       "      <td>1.912982e+07</td>\n",
       "      <td>228999.210000</td>\n",
       "      <td>6111.000000</td>\n",
       "    </tr>\n",
       "  </tbody>\n",
       "</table>\n",
       "</div>"
      ],
      "text/plain": [
       "        bathroomcnt    bedroomcnt  calculatedfinishedsquarefeet  \\\n",
       "count  15963.000000  15963.000000                  15963.000000   \n",
       "mean       2.215749      3.252835                   1837.059199   \n",
       "std        1.026447      0.949797                    984.656553   \n",
       "min        1.000000      1.000000                    320.000000   \n",
       "25%        2.000000      3.000000                   1233.000000   \n",
       "50%        2.000000      3.000000                   1592.000000   \n",
       "75%        3.000000      4.000000                   2162.500000   \n",
       "max       20.000000     25.000000                  26345.000000   \n",
       "\n",
       "       taxvaluedollarcnt      taxamount          fips  \n",
       "count       1.596300e+04   15963.000000  15963.000000  \n",
       "mean        4.633165e+05    5680.536779   6044.516758  \n",
       "std         6.432976e+05    7465.277971     17.335701  \n",
       "min         1.216800e+04      49.180000   6037.000000  \n",
       "25%         1.820635e+05    2495.545000   6037.000000  \n",
       "50%         3.204320e+05    4063.980000   6037.000000  \n",
       "75%         5.284255e+05    6408.970000   6037.000000  \n",
       "max         1.912982e+07  228999.210000   6111.000000  "
      ]
     },
     "execution_count": 6,
     "metadata": {},
     "output_type": "execute_result"
    }
   ],
   "source": [
    "df_z.describe()"
   ]
  },
  {
   "cell_type": "code",
   "execution_count": 7,
   "metadata": {},
   "outputs": [
    {
     "data": {
      "text/plain": [
       "(15963, 7)"
      ]
     },
     "execution_count": 7,
     "metadata": {},
     "output_type": "execute_result"
    }
   ],
   "source": [
    "df_z.shape"
   ]
  },
  {
   "cell_type": "code",
   "execution_count": 8,
   "metadata": {},
   "outputs": [
    {
     "name": "stdout",
     "output_type": "stream",
     "text": [
      "<class 'pandas.core.frame.DataFrame'>\n",
      "Int64Index: 15963 entries, 0 to 15962\n",
      "Data columns (total 7 columns):\n",
      "propertylandusedesc             15963 non-null object\n",
      "bathroomcnt                     15963 non-null float64\n",
      "bedroomcnt                      15963 non-null float64\n",
      "calculatedfinishedsquarefeet    15963 non-null float64\n",
      "taxvaluedollarcnt               15963 non-null float64\n",
      "taxamount                       15963 non-null float64\n",
      "fips                            15963 non-null float64\n",
      "dtypes: float64(6), object(1)\n",
      "memory usage: 997.7+ KB\n"
     ]
    }
   ],
   "source": [
    "df_z.info() "
   ]
  },
  {
   "cell_type": "code",
   "execution_count": 9,
   "metadata": {},
   "outputs": [
    {
     "data": {
      "text/plain": [
       "propertylandusedesc             0\n",
       "bathroomcnt                     0\n",
       "bedroomcnt                      0\n",
       "calculatedfinishedsquarefeet    0\n",
       "taxvaluedollarcnt               0\n",
       "taxamount                       0\n",
       "fips                            0\n",
       "dtype: int64"
      ]
     },
     "execution_count": 9,
     "metadata": {},
     "output_type": "execute_result"
    }
   ],
   "source": [
    "df_z.isnull().sum()"
   ]
  },
  {
   "cell_type": "code",
   "execution_count": null,
   "metadata": {},
   "outputs": [],
   "source": []
  },
  {
   "cell_type": "markdown",
   "metadata": {},
   "source": [
    "## Split variables into X and y, then train and test"
   ]
  },
  {
   "cell_type": "code",
   "execution_count": 45,
   "metadata": {},
   "outputs": [],
   "source": [
    "X = df_z.drop(columns=['propertylandusedesc', 'taxvaluedollarcnt', 'taxamount', 'fips'])\n",
    "y=df_z[['taxvaluedollarcnt']]"
   ]
  },
  {
   "cell_type": "code",
   "execution_count": 46,
   "metadata": {},
   "outputs": [],
   "source": [
    "x_train, x_test, y_train, y_test = z_split_scale.split_my_data(X,y)"
   ]
  },
  {
   "cell_type": "code",
   "execution_count": 47,
   "metadata": {},
   "outputs": [
    {
     "name": "stdout",
     "output_type": "stream",
     "text": [
      "<class 'pandas.core.frame.DataFrame'>\n",
      "Int64Index: 12770 entries, 8477 to 3582\n",
      "Data columns (total 3 columns):\n",
      "bathroomcnt                     12770 non-null float64\n",
      "bedroomcnt                      12770 non-null float64\n",
      "calculatedfinishedsquarefeet    12770 non-null float64\n",
      "dtypes: float64(3)\n",
      "memory usage: 399.1 KB\n"
     ]
    }
   ],
   "source": [
    "x_train.info()"
   ]
  },
  {
   "cell_type": "code",
   "execution_count": 15,
   "metadata": {},
   "outputs": [
    {
     "data": {
      "text/html": [
       "<div>\n",
       "<style scoped>\n",
       "    .dataframe tbody tr th:only-of-type {\n",
       "        vertical-align: middle;\n",
       "    }\n",
       "\n",
       "    .dataframe tbody tr th {\n",
       "        vertical-align: top;\n",
       "    }\n",
       "\n",
       "    .dataframe thead th {\n",
       "        text-align: right;\n",
       "    }\n",
       "</style>\n",
       "<table border=\"1\" class=\"dataframe\">\n",
       "  <thead>\n",
       "    <tr style=\"text-align: right;\">\n",
       "      <th></th>\n",
       "      <th>bathroomcnt</th>\n",
       "      <th>bedroomcnt</th>\n",
       "      <th>calculatedfinishedsquarefeet</th>\n",
       "    </tr>\n",
       "  </thead>\n",
       "  <tbody>\n",
       "    <tr>\n",
       "      <th>8477</th>\n",
       "      <td>2.5</td>\n",
       "      <td>3.0</td>\n",
       "      <td>1781.0</td>\n",
       "    </tr>\n",
       "    <tr>\n",
       "      <th>10275</th>\n",
       "      <td>2.0</td>\n",
       "      <td>4.0</td>\n",
       "      <td>1851.0</td>\n",
       "    </tr>\n",
       "    <tr>\n",
       "      <th>1659</th>\n",
       "      <td>3.0</td>\n",
       "      <td>6.0</td>\n",
       "      <td>2788.0</td>\n",
       "    </tr>\n",
       "    <tr>\n",
       "      <th>13290</th>\n",
       "      <td>1.0</td>\n",
       "      <td>3.0</td>\n",
       "      <td>1264.0</td>\n",
       "    </tr>\n",
       "    <tr>\n",
       "      <th>7209</th>\n",
       "      <td>2.0</td>\n",
       "      <td>3.0</td>\n",
       "      <td>1802.0</td>\n",
       "    </tr>\n",
       "  </tbody>\n",
       "</table>\n",
       "</div>"
      ],
      "text/plain": [
       "       bathroomcnt  bedroomcnt  calculatedfinishedsquarefeet\n",
       "8477           2.5         3.0                        1781.0\n",
       "10275          2.0         4.0                        1851.0\n",
       "1659           3.0         6.0                        2788.0\n",
       "13290          1.0         3.0                        1264.0\n",
       "7209           2.0         3.0                        1802.0"
      ]
     },
     "execution_count": 15,
     "metadata": {},
     "output_type": "execute_result"
    }
   ],
   "source": [
    "x_train.head()"
   ]
  },
  {
   "cell_type": "code",
   "execution_count": 16,
   "metadata": {},
   "outputs": [
    {
     "name": "stdout",
     "output_type": "stream",
     "text": [
      "<class 'pandas.core.frame.DataFrame'>\n",
      "Int64Index: 3193 entries, 10657 to 3305\n",
      "Data columns (total 1 columns):\n",
      "taxvaluedollarcnt    3193 non-null float64\n",
      "dtypes: float64(1)\n",
      "memory usage: 49.9 KB\n"
     ]
    }
   ],
   "source": [
    "y_test.info()"
   ]
  },
  {
   "cell_type": "code",
   "execution_count": 17,
   "metadata": {},
   "outputs": [
    {
     "data": {
      "text/html": [
       "<div>\n",
       "<style scoped>\n",
       "    .dataframe tbody tr th:only-of-type {\n",
       "        vertical-align: middle;\n",
       "    }\n",
       "\n",
       "    .dataframe tbody tr th {\n",
       "        vertical-align: top;\n",
       "    }\n",
       "\n",
       "    .dataframe thead th {\n",
       "        text-align: right;\n",
       "    }\n",
       "</style>\n",
       "<table border=\"1\" class=\"dataframe\">\n",
       "  <thead>\n",
       "    <tr style=\"text-align: right;\">\n",
       "      <th></th>\n",
       "      <th>taxvaluedollarcnt</th>\n",
       "    </tr>\n",
       "  </thead>\n",
       "  <tbody>\n",
       "    <tr>\n",
       "      <th>10657</th>\n",
       "      <td>208546.0</td>\n",
       "    </tr>\n",
       "    <tr>\n",
       "      <th>5788</th>\n",
       "      <td>137176.0</td>\n",
       "    </tr>\n",
       "    <tr>\n",
       "      <th>1185</th>\n",
       "      <td>227220.0</td>\n",
       "    </tr>\n",
       "    <tr>\n",
       "      <th>9415</th>\n",
       "      <td>220308.0</td>\n",
       "    </tr>\n",
       "    <tr>\n",
       "      <th>6987</th>\n",
       "      <td>395686.0</td>\n",
       "    </tr>\n",
       "  </tbody>\n",
       "</table>\n",
       "</div>"
      ],
      "text/plain": [
       "       taxvaluedollarcnt\n",
       "10657           208546.0\n",
       "5788            137176.0\n",
       "1185            227220.0\n",
       "9415            220308.0\n",
       "6987            395686.0"
      ]
     },
     "execution_count": 17,
     "metadata": {},
     "output_type": "execute_result"
    }
   ],
   "source": [
    "y_test.head()"
   ]
  },
  {
   "cell_type": "code",
   "execution_count": null,
   "metadata": {},
   "outputs": [],
   "source": []
  },
  {
   "cell_type": "markdown",
   "metadata": {},
   "source": [
    "## Apply standard scaler to x_train and x_test"
   ]
  },
  {
   "cell_type": "code",
   "execution_count": 18,
   "metadata": {},
   "outputs": [],
   "source": [
    "train_x_scaled_data, test_x_scaled_data,scaler_x_train, scaler_x_test = z_split_scale.standard_scaler(x_train,x_test)"
   ]
  },
  {
   "cell_type": "code",
   "execution_count": 19,
   "metadata": {},
   "outputs": [
    {
     "data": {
      "text/html": [
       "<div>\n",
       "<style scoped>\n",
       "    .dataframe tbody tr th:only-of-type {\n",
       "        vertical-align: middle;\n",
       "    }\n",
       "\n",
       "    .dataframe tbody tr th {\n",
       "        vertical-align: top;\n",
       "    }\n",
       "\n",
       "    .dataframe thead th {\n",
       "        text-align: right;\n",
       "    }\n",
       "</style>\n",
       "<table border=\"1\" class=\"dataframe\">\n",
       "  <thead>\n",
       "    <tr style=\"text-align: right;\">\n",
       "      <th></th>\n",
       "      <th>bathroomcnt</th>\n",
       "      <th>bedroomcnt</th>\n",
       "      <th>calculatedfinishedsquarefeet</th>\n",
       "    </tr>\n",
       "  </thead>\n",
       "  <tbody>\n",
       "    <tr>\n",
       "      <th>8477</th>\n",
       "      <td>0.278822</td>\n",
       "      <td>-0.262844</td>\n",
       "      <td>-0.054008</td>\n",
       "    </tr>\n",
       "    <tr>\n",
       "      <th>10275</th>\n",
       "      <td>-0.207660</td>\n",
       "      <td>0.783780</td>\n",
       "      <td>0.016880</td>\n",
       "    </tr>\n",
       "    <tr>\n",
       "      <th>1659</th>\n",
       "      <td>0.765304</td>\n",
       "      <td>2.877028</td>\n",
       "      <td>0.965763</td>\n",
       "    </tr>\n",
       "    <tr>\n",
       "      <th>13290</th>\n",
       "      <td>-1.180624</td>\n",
       "      <td>-0.262844</td>\n",
       "      <td>-0.577564</td>\n",
       "    </tr>\n",
       "    <tr>\n",
       "      <th>7209</th>\n",
       "      <td>-0.207660</td>\n",
       "      <td>-0.262844</td>\n",
       "      <td>-0.032742</td>\n",
       "    </tr>\n",
       "  </tbody>\n",
       "</table>\n",
       "</div>"
      ],
      "text/plain": [
       "       bathroomcnt  bedroomcnt  calculatedfinishedsquarefeet\n",
       "8477      0.278822   -0.262844                     -0.054008\n",
       "10275    -0.207660    0.783780                      0.016880\n",
       "1659      0.765304    2.877028                      0.965763\n",
       "13290    -1.180624   -0.262844                     -0.577564\n",
       "7209     -0.207660   -0.262844                     -0.032742"
      ]
     },
     "execution_count": 19,
     "metadata": {},
     "output_type": "execute_result"
    }
   ],
   "source": [
    "train_x_scaled_data.head()"
   ]
  },
  {
   "cell_type": "code",
   "execution_count": 20,
   "metadata": {},
   "outputs": [
    {
     "data": {
      "text/html": [
       "<div>\n",
       "<style scoped>\n",
       "    .dataframe tbody tr th:only-of-type {\n",
       "        vertical-align: middle;\n",
       "    }\n",
       "\n",
       "    .dataframe tbody tr th {\n",
       "        vertical-align: top;\n",
       "    }\n",
       "\n",
       "    .dataframe thead th {\n",
       "        text-align: right;\n",
       "    }\n",
       "</style>\n",
       "<table border=\"1\" class=\"dataframe\">\n",
       "  <thead>\n",
       "    <tr style=\"text-align: right;\">\n",
       "      <th></th>\n",
       "      <th>bathroomcnt</th>\n",
       "      <th>bedroomcnt</th>\n",
       "      <th>calculatedfinishedsquarefeet</th>\n",
       "    </tr>\n",
       "  </thead>\n",
       "  <tbody>\n",
       "    <tr>\n",
       "      <th>10657</th>\n",
       "      <td>-1.199997</td>\n",
       "      <td>-1.359338</td>\n",
       "      <td>-1.057453</td>\n",
       "    </tr>\n",
       "    <tr>\n",
       "      <th>5788</th>\n",
       "      <td>-1.199997</td>\n",
       "      <td>-0.280182</td>\n",
       "      <td>-0.867332</td>\n",
       "    </tr>\n",
       "    <tr>\n",
       "      <th>1185</th>\n",
       "      <td>0.759144</td>\n",
       "      <td>-0.280182</td>\n",
       "      <td>0.151103</td>\n",
       "    </tr>\n",
       "    <tr>\n",
       "      <th>9415</th>\n",
       "      <td>0.759144</td>\n",
       "      <td>0.798974</td>\n",
       "      <td>0.844789</td>\n",
       "    </tr>\n",
       "    <tr>\n",
       "      <th>6987</th>\n",
       "      <td>-0.710212</td>\n",
       "      <td>-0.280182</td>\n",
       "      <td>-0.861165</td>\n",
       "    </tr>\n",
       "  </tbody>\n",
       "</table>\n",
       "</div>"
      ],
      "text/plain": [
       "       bathroomcnt  bedroomcnt  calculatedfinishedsquarefeet\n",
       "10657    -1.199997   -1.359338                     -1.057453\n",
       "5788     -1.199997   -0.280182                     -0.867332\n",
       "1185      0.759144   -0.280182                      0.151103\n",
       "9415      0.759144    0.798974                      0.844789\n",
       "6987     -0.710212   -0.280182                     -0.861165"
      ]
     },
     "execution_count": 20,
     "metadata": {},
     "output_type": "execute_result"
    }
   ],
   "source": [
    "test_x_scaled_data.head()"
   ]
  },
  {
   "cell_type": "code",
   "execution_count": null,
   "metadata": {},
   "outputs": [],
   "source": []
  },
  {
   "cell_type": "markdown",
   "metadata": {},
   "source": [
    "## Run regression model on data and baseline"
   ]
  },
  {
   "cell_type": "code",
   "execution_count": 21,
   "metadata": {},
   "outputs": [],
   "source": [
    "lm1 = LinearRegression()"
   ]
  },
  {
   "cell_type": "code",
   "execution_count": 28,
   "metadata": {},
   "outputs": [
    {
     "name": "stdout",
     "output_type": "stream",
     "text": [
      "Linear Model: LinearRegression(copy_X=True, fit_intercept=True, n_jobs=None, normalize=False)\n",
      "intercept:  [462043.62960063]\n",
      "coefficients:  [[  54558.47376137 -137406.19237539  451263.14727761]]\n"
     ]
    }
   ],
   "source": [
    "lm1.fit(train_x_scaled_data, y_train)\n",
    "print(\"Linear Model:\", lm1)\n",
    "\n",
    "lm1_y_intercept = lm1.intercept_\n",
    "print(\"intercept: \", lm1_y_intercept)\n",
    "\n",
    "lm1_coefficients = lm1.coef_\n",
    "print(\"coefficients: \", lm1_coefficients)\n"
   ]
  },
  {
   "cell_type": "code",
   "execution_count": 30,
   "metadata": {},
   "outputs": [
    {
     "data": {
      "text/plain": [
       "array([[489000.3946324 ],\n",
       "       [350635.07111573],\n",
       "       [544289.11543087],\n",
       "       ...,\n",
       "       [364555.6651571 ],\n",
       "       [302651.54268246],\n",
       "       [663497.55574983]])"
      ]
     },
     "execution_count": 30,
     "metadata": {},
     "output_type": "execute_result"
    }
   ],
   "source": [
    "y_pred_lm1 = lm1.predict(train_x_scaled_data)\n",
    "y_pred_lm1"
   ]
  },
  {
   "cell_type": "code",
   "execution_count": 25,
   "metadata": {},
   "outputs": [
    {
     "name": "stdout",
     "output_type": "stream",
     "text": [
      "linear model\n",
      "  mean squared error: 2.4e+11\n",
      "  42.98% of the variance in the tax value can be explained by the model.\n"
     ]
    }
   ],
   "source": [
    "mse_lm1 = mean_squared_error(y_train, y_pred_lm1)\n",
    "print(\"linear model\\n  mean squared error: {:.3}\".format(mse_lm1)) \n",
    "\n",
    "r2_lm1 = r2_score(y_train, y_pred_lm1)\n",
    "print('  {:.2%} of the variance in the tax value can be explained by the model.'.format(r2_lm1))"
   ]
  },
  {
   "cell_type": "code",
   "execution_count": 49,
   "metadata": {},
   "outputs": [
    {
     "name": "stdout",
     "output_type": "stream",
     "text": [
      "sum of squared errors\n",
      " model: 5.3753e+15\n",
      "  0.00% of the variance in the tax value can be explained by the baseline model.\n"
     ]
    }
   ],
   "source": [
    "y_pred_baseline = np.array([y_train.mean()[0]]*len(y_train))\n",
    "MSE = mean_squared_error(y_train, y_pred_baseline)\n",
    "SSE = MSE*len(y_train)\n",
    "RMSE = sqrt(MSE)\n",
    "\n",
    "evs = explained_variance_score(y_train, y_pred_baseline)\n",
    "\n",
    "print('sum of squared errors\\n model: {:.5}'.format(SSE))\n",
    "print('  {:.2%} of the variance in the tax value can be explained by the baseline model.'.format(evs))"
   ]
  },
  {
   "cell_type": "code",
   "execution_count": null,
   "metadata": {},
   "outputs": [],
   "source": []
  },
  {
   "cell_type": "code",
   "execution_count": null,
   "metadata": {},
   "outputs": [],
   "source": []
  },
  {
   "cell_type": "code",
   "execution_count": null,
   "metadata": {},
   "outputs": [],
   "source": []
  }
 ],
 "metadata": {
  "kernelspec": {
   "display_name": "Python 3",
   "language": "python",
   "name": "python3"
  },
  "language_info": {
   "codemirror_mode": {
    "name": "ipython",
    "version": 3
   },
   "file_extension": ".py",
   "mimetype": "text/x-python",
   "name": "python",
   "nbconvert_exporter": "python",
   "pygments_lexer": "ipython3",
   "version": "3.7.3"
  }
 },
 "nbformat": 4,
 "nbformat_minor": 2
}
