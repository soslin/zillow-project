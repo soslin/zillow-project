{
 "cells": [
  {
   "cell_type": "markdown",
   "metadata": {},
   "source": [
    "# How well do the number of bedrooms/bathrooms and square feet predict the tax-assessed value of single-unit residential properties in three Southern California counties from May to June 2017?"
   ]
  },
  {
   "cell_type": "markdown",
   "metadata": {},
   "source": [
    "#### Sean Oslin\n",
    "#### October 21, 2019"
   ]
  },
  {
   "cell_type": "markdown",
   "metadata": {},
   "source": [
    " "
   ]
  },
  {
   "cell_type": "markdown",
   "metadata": {},
   "source": [
    " "
   ]
  },
  {
   "cell_type": "markdown",
   "metadata": {},
   "source": [
    "## Project planning phase"
   ]
  },
  {
   "cell_type": "markdown",
   "metadata": {},
   "source": [
    "### Project goal/research question"
   ]
  },
  {
   "cell_type": "markdown",
   "metadata": {},
   "source": [
    "To predict the values of single-unit properties that the tax district assesses using the property data from those whose last transaction was during the \"hot months\" (in terms of real estate demand) of May and June in 2017."
   ]
  },
  {
   "cell_type": "markdown",
   "metadata": {},
   "source": [
    " "
   ]
  },
  {
   "cell_type": "markdown",
   "metadata": {},
   "source": [
    "### Deliverables"
   ]
  },
  {
   "cell_type": "markdown",
   "metadata": {},
   "source": [
    "1. Presentation of the analysis findings usable by management for decision making\n",
    "2. MySQL notebook with database queries that were imported into Python for analysis\n",
    "3. Data definitions and analysis notes\n",
    "4. Data analysis in a Jupyter Notebook that will allow for replication of analysis\n",
    "5. Github repository holding the analysis and supporting materials"
   ]
  },
  {
   "cell_type": "markdown",
   "metadata": {},
   "source": [
    " "
   ]
  },
  {
   "cell_type": "markdown",
   "metadata": {},
   "source": [
    "### Minimum viable product"
   ]
  },
  {
   "cell_type": "markdown",
   "metadata": {},
   "source": [
    "Analysis of how 3 variables (bedroom count, bathroom count and square feet), singlely and in combination predict the tax assessment value for three counties in Southern California as compared to the baseline."
   ]
  },
  {
   "cell_type": "markdown",
   "metadata": {},
   "source": [
    " "
   ]
  },
  {
   "cell_type": "markdown",
   "metadata": {},
   "source": [
    "### Null and alternative hypotheses"
   ]
  },
  {
   "cell_type": "markdown",
   "metadata": {},
   "source": [
    "H<sub>0</sub> : The number of bathrooms, bedrooms and number of square feet in a single-unit residence do not predict the assessed tax value\n",
    "\n",
    "H<sub>a</sub> : The number of bathrooms, bedrooms and number of square feet in a single-unit residence predict the assessed tax value"
   ]
  },
  {
   "cell_type": "markdown",
   "metadata": {},
   "source": [
    " "
   ]
  },
  {
   "cell_type": "markdown",
   "metadata": {},
   "source": [
    " "
   ]
  },
  {
   "cell_type": "markdown",
   "metadata": {},
   "source": [
    "## Data acquisition and preparation phases"
   ]
  },
  {
   "cell_type": "markdown",
   "metadata": {},
   "source": [
    "The sole data source was the Zillow relational database. Data was cleaned and prepared using MySQL and then uploaded to Python for additional preparation and analysis. For detailed information on data preparation please see\n",
    "https://docs.google.com/document/d/1SUEslxymvGYJ_lEWjufyO8jeRPfs-Z9FXlS1aftjKMQ/edit?usp=sharing"
   ]
  },
  {
   "cell_type": "markdown",
   "metadata": {},
   "source": [
    "### Python libraries used for analysis"
   ]
  },
  {
   "cell_type": "code",
   "execution_count": 60,
   "metadata": {},
   "outputs": [],
   "source": [
    "import pandas as pd\n",
    "import numpy as np\n",
    "import matplotlib.pyplot as plt\n",
    "%matplotlib inline\n",
    "import seaborn as sns\n",
    "from sklearn.model_selection import train_test_split\n",
    "from sklearn.preprocessing import StandardScaler\n",
    "from sklearn.metrics import mean_squared_error, r2_score, explained_variance_score\n",
    "from sklearn.feature_selection import f_regression \n",
    "from sklearn.linear_model import LinearRegression\n",
    "from math import sqrt\n",
    "import statsmodels.api as sm\n",
    "from statsmodels.sandbox.regression.predstd import wls_prediction_std\n",
    "import warnings\n",
    "warnings.filterwarnings(\"ignore\")\n",
    "from scipy import stats"
   ]
  },
  {
   "cell_type": "markdown",
   "metadata": {},
   "source": [
    "### Python programming for this analysis imported from a text editor"
   ]
  },
  {
   "cell_type": "code",
   "execution_count": 2,
   "metadata": {},
   "outputs": [],
   "source": [
    "import env\n",
    "import wrangle_z\n",
    "import z_split_scale"
   ]
  },
  {
   "cell_type": "markdown",
   "metadata": {},
   "source": [
    "### Import of prepared Zillow data from the text editor to this notebook"
   ]
  },
  {
   "cell_type": "code",
   "execution_count": 3,
   "metadata": {},
   "outputs": [],
   "source": [
    "df_z = wrangle_z.wrangle_zillow()"
   ]
  },
  {
   "cell_type": "markdown",
   "metadata": {},
   "source": [
    "### Verification that all null values have been removed"
   ]
  },
  {
   "cell_type": "code",
   "execution_count": 4,
   "metadata": {},
   "outputs": [
    {
     "data": {
      "text/plain": [
       "Property Description    0\n",
       "Number of Bathrooms     0\n",
       "Number of Bedrooms      0\n",
       "Square Feet             0\n",
       "Tax Appraised Value     0\n",
       "Assessed Tax            0\n",
       "County Number           0\n",
       "dtype: int64"
      ]
     },
     "execution_count": 4,
     "metadata": {},
     "output_type": "execute_result"
    }
   ],
   "source": [
    "df_z.isnull().sum()"
   ]
  },
  {
   "cell_type": "markdown",
   "metadata": {},
   "source": [
    "### Data types adjusted to best suit each variable"
   ]
  },
  {
   "cell_type": "code",
   "execution_count": 5,
   "metadata": {},
   "outputs": [],
   "source": [
    "df_z['County Number'] = df_z['County Number'].astype('int64')\n",
    "df_z['Tax Appraised Value'] = df_z['Tax Appraised Value'].astype('int64')\n",
    "df_z['Square Feet'] = df_z['Square Feet'].astype('int64')\n",
    "df_z['Number of Bedrooms'] = df_z['Number of Bedrooms'].astype('float')"
   ]
  },
  {
   "cell_type": "markdown",
   "metadata": {},
   "source": [
    "### Summary of data types, numbers of rows (individual real estate properties) and data columns"
   ]
  },
  {
   "cell_type": "code",
   "execution_count": 6,
   "metadata": {},
   "outputs": [
    {
     "name": "stdout",
     "output_type": "stream",
     "text": [
      "<class 'pandas.core.frame.DataFrame'>\n",
      "Int64Index: 15963 entries, 0 to 15962\n",
      "Data columns (total 7 columns):\n",
      "Property Description    15963 non-null object\n",
      "Number of Bathrooms     15963 non-null float64\n",
      "Number of Bedrooms      15963 non-null float64\n",
      "Square Feet             15963 non-null int64\n",
      "Tax Appraised Value     15963 non-null int64\n",
      "Assessed Tax            15963 non-null float64\n",
      "County Number           15963 non-null int64\n",
      "dtypes: float64(3), int64(3), object(1)\n",
      "memory usage: 997.7+ KB\n"
     ]
    }
   ],
   "source": [
    "df_z.info() "
   ]
  },
  {
   "cell_type": "markdown",
   "metadata": {},
   "source": [
    " "
   ]
  },
  {
   "cell_type": "markdown",
   "metadata": {},
   "source": [
    " "
   ]
  },
  {
   "cell_type": "markdown",
   "metadata": {},
   "source": [
    "## Data exploration and pre-processing phases"
   ]
  },
  {
   "cell_type": "markdown",
   "metadata": {},
   "source": [
    "### Random sample of data"
   ]
  },
  {
   "cell_type": "code",
   "execution_count": 7,
   "metadata": {},
   "outputs": [
    {
     "data": {
      "text/html": [
       "<div>\n",
       "<style scoped>\n",
       "    .dataframe tbody tr th:only-of-type {\n",
       "        vertical-align: middle;\n",
       "    }\n",
       "\n",
       "    .dataframe tbody tr th {\n",
       "        vertical-align: top;\n",
       "    }\n",
       "\n",
       "    .dataframe thead th {\n",
       "        text-align: right;\n",
       "    }\n",
       "</style>\n",
       "<table border=\"1\" class=\"dataframe\">\n",
       "  <thead>\n",
       "    <tr style=\"text-align: right;\">\n",
       "      <th></th>\n",
       "      <th>Property Description</th>\n",
       "      <th>Number of Bathrooms</th>\n",
       "      <th>Number of Bedrooms</th>\n",
       "      <th>Square Feet</th>\n",
       "      <th>Tax Appraised Value</th>\n",
       "      <th>Assessed Tax</th>\n",
       "      <th>County Number</th>\n",
       "    </tr>\n",
       "  </thead>\n",
       "  <tbody>\n",
       "    <tr>\n",
       "      <th>7430</th>\n",
       "      <td>Single Family Residential</td>\n",
       "      <td>2.0</td>\n",
       "      <td>3.0</td>\n",
       "      <td>1749</td>\n",
       "      <td>93806</td>\n",
       "      <td>1488.12</td>\n",
       "      <td>6059</td>\n",
       "    </tr>\n",
       "    <tr>\n",
       "      <th>3760</th>\n",
       "      <td>Single Family Residential</td>\n",
       "      <td>2.0</td>\n",
       "      <td>4.0</td>\n",
       "      <td>1737</td>\n",
       "      <td>405000</td>\n",
       "      <td>5593.73</td>\n",
       "      <td>6037</td>\n",
       "    </tr>\n",
       "    <tr>\n",
       "      <th>15368</th>\n",
       "      <td>Single Family Residential</td>\n",
       "      <td>2.0</td>\n",
       "      <td>3.0</td>\n",
       "      <td>1653</td>\n",
       "      <td>155160</td>\n",
       "      <td>2444.67</td>\n",
       "      <td>6037</td>\n",
       "    </tr>\n",
       "    <tr>\n",
       "      <th>8540</th>\n",
       "      <td>Single Family Residential</td>\n",
       "      <td>3.0</td>\n",
       "      <td>4.0</td>\n",
       "      <td>2202</td>\n",
       "      <td>329843</td>\n",
       "      <td>3356.50</td>\n",
       "      <td>6059</td>\n",
       "    </tr>\n",
       "  </tbody>\n",
       "</table>\n",
       "</div>"
      ],
      "text/plain": [
       "            Property Description  Number of Bathrooms  Number of Bedrooms  \\\n",
       "7430   Single Family Residential                  2.0                 3.0   \n",
       "3760   Single Family Residential                  2.0                 4.0   \n",
       "15368  Single Family Residential                  2.0                 3.0   \n",
       "8540   Single Family Residential                  3.0                 4.0   \n",
       "\n",
       "       Square Feet  Tax Appraised Value  Assessed Tax  County Number  \n",
       "7430          1749                93806       1488.12           6059  \n",
       "3760          1737               405000       5593.73           6037  \n",
       "15368         1653               155160       2444.67           6037  \n",
       "8540          2202               329843       3356.50           6059  "
      ]
     },
     "execution_count": 7,
     "metadata": {},
     "output_type": "execute_result"
    }
   ],
   "source": [
    "df_z.sample(4)"
   ]
  },
  {
   "cell_type": "markdown",
   "metadata": {},
   "source": [
    " "
   ]
  },
  {
   "cell_type": "markdown",
   "metadata": {},
   "source": [
    "### Descriptive statistics"
   ]
  },
  {
   "cell_type": "code",
   "execution_count": 8,
   "metadata": {},
   "outputs": [
    {
     "data": {
      "text/html": [
       "<div>\n",
       "<style scoped>\n",
       "    .dataframe tbody tr th:only-of-type {\n",
       "        vertical-align: middle;\n",
       "    }\n",
       "\n",
       "    .dataframe tbody tr th {\n",
       "        vertical-align: top;\n",
       "    }\n",
       "\n",
       "    .dataframe thead th {\n",
       "        text-align: right;\n",
       "    }\n",
       "</style>\n",
       "<table border=\"1\" class=\"dataframe\">\n",
       "  <thead>\n",
       "    <tr style=\"text-align: right;\">\n",
       "      <th></th>\n",
       "      <th>Number of Bathrooms</th>\n",
       "      <th>Number of Bedrooms</th>\n",
       "      <th>Square Feet</th>\n",
       "      <th>Tax Appraised Value</th>\n",
       "      <th>Assessed Tax</th>\n",
       "      <th>County Number</th>\n",
       "    </tr>\n",
       "  </thead>\n",
       "  <tbody>\n",
       "    <tr>\n",
       "      <th>count</th>\n",
       "      <td>15963.000000</td>\n",
       "      <td>15963.000000</td>\n",
       "      <td>15963.000000</td>\n",
       "      <td>1.596300e+04</td>\n",
       "      <td>15963.000000</td>\n",
       "      <td>15963.000000</td>\n",
       "    </tr>\n",
       "    <tr>\n",
       "      <th>mean</th>\n",
       "      <td>2.215749</td>\n",
       "      <td>3.252835</td>\n",
       "      <td>1837.059199</td>\n",
       "      <td>4.633165e+05</td>\n",
       "      <td>5680.536779</td>\n",
       "      <td>6044.516758</td>\n",
       "    </tr>\n",
       "    <tr>\n",
       "      <th>std</th>\n",
       "      <td>1.026447</td>\n",
       "      <td>0.949797</td>\n",
       "      <td>984.656553</td>\n",
       "      <td>6.432976e+05</td>\n",
       "      <td>7465.277971</td>\n",
       "      <td>17.335701</td>\n",
       "    </tr>\n",
       "    <tr>\n",
       "      <th>min</th>\n",
       "      <td>1.000000</td>\n",
       "      <td>1.000000</td>\n",
       "      <td>320.000000</td>\n",
       "      <td>1.216800e+04</td>\n",
       "      <td>49.180000</td>\n",
       "      <td>6037.000000</td>\n",
       "    </tr>\n",
       "    <tr>\n",
       "      <th>25%</th>\n",
       "      <td>2.000000</td>\n",
       "      <td>3.000000</td>\n",
       "      <td>1233.000000</td>\n",
       "      <td>1.820635e+05</td>\n",
       "      <td>2495.545000</td>\n",
       "      <td>6037.000000</td>\n",
       "    </tr>\n",
       "    <tr>\n",
       "      <th>50%</th>\n",
       "      <td>2.000000</td>\n",
       "      <td>3.000000</td>\n",
       "      <td>1592.000000</td>\n",
       "      <td>3.204320e+05</td>\n",
       "      <td>4063.980000</td>\n",
       "      <td>6037.000000</td>\n",
       "    </tr>\n",
       "    <tr>\n",
       "      <th>75%</th>\n",
       "      <td>3.000000</td>\n",
       "      <td>4.000000</td>\n",
       "      <td>2162.500000</td>\n",
       "      <td>5.284255e+05</td>\n",
       "      <td>6408.970000</td>\n",
       "      <td>6037.000000</td>\n",
       "    </tr>\n",
       "    <tr>\n",
       "      <th>max</th>\n",
       "      <td>20.000000</td>\n",
       "      <td>25.000000</td>\n",
       "      <td>26345.000000</td>\n",
       "      <td>1.912982e+07</td>\n",
       "      <td>228999.210000</td>\n",
       "      <td>6111.000000</td>\n",
       "    </tr>\n",
       "  </tbody>\n",
       "</table>\n",
       "</div>"
      ],
      "text/plain": [
       "       Number of Bathrooms  Number of Bedrooms   Square Feet  \\\n",
       "count         15963.000000        15963.000000  15963.000000   \n",
       "mean              2.215749            3.252835   1837.059199   \n",
       "std               1.026447            0.949797    984.656553   \n",
       "min               1.000000            1.000000    320.000000   \n",
       "25%               2.000000            3.000000   1233.000000   \n",
       "50%               2.000000            3.000000   1592.000000   \n",
       "75%               3.000000            4.000000   2162.500000   \n",
       "max              20.000000           25.000000  26345.000000   \n",
       "\n",
       "       Tax Appraised Value   Assessed Tax  County Number  \n",
       "count         1.596300e+04   15963.000000   15963.000000  \n",
       "mean          4.633165e+05    5680.536779    6044.516758  \n",
       "std           6.432976e+05    7465.277971      17.335701  \n",
       "min           1.216800e+04      49.180000    6037.000000  \n",
       "25%           1.820635e+05    2495.545000    6037.000000  \n",
       "50%           3.204320e+05    4063.980000    6037.000000  \n",
       "75%           5.284255e+05    6408.970000    6037.000000  \n",
       "max           1.912982e+07  228999.210000    6111.000000  "
      ]
     },
     "execution_count": 8,
     "metadata": {},
     "output_type": "execute_result"
    }
   ],
   "source": [
    "df_z.describe()"
   ]
  },
  {
   "cell_type": "markdown",
   "metadata": {},
   "source": [
    "### Median values"
   ]
  },
  {
   "cell_type": "code",
   "execution_count": 9,
   "metadata": {},
   "outputs": [
    {
     "data": {
      "text/plain": [
       "Number of Bathrooms         2.00\n",
       "Number of Bedrooms          3.00\n",
       "Square Feet              1592.00\n",
       "Tax Appraised Value    320432.00\n",
       "Assessed Tax             4063.98\n",
       "County Number            6037.00\n",
       "dtype: float64"
      ]
     },
     "execution_count": 9,
     "metadata": {},
     "output_type": "execute_result"
    }
   ],
   "source": [
    "df_z.median()"
   ]
  },
  {
   "cell_type": "markdown",
   "metadata": {},
   "source": [
    "#### *Mean and median values for bathrooms, bedrooms and square footage are close in value, allowing for an assumption of normality*"
   ]
  },
  {
   "cell_type": "markdown",
   "metadata": {},
   "source": [
    " "
   ]
  },
  {
   "cell_type": "markdown",
   "metadata": {},
   "source": [
    "### Visualizations of the data set"
   ]
  },
  {
   "cell_type": "markdown",
   "metadata": {},
   "source": [
    "#### Distribution of the number of bathrooms by assessed tax - there are multiple outliers for assessed taxes for houses with the same number of bathrooms"
   ]
  },
  {
   "cell_type": "code",
   "execution_count": 10,
   "metadata": {
    "scrolled": false
   },
   "outputs": [
    {
     "data": {
      "image/png": "[encoded data removed]",
      "text/plain": [
       "<Figure size 1152x360 with 1 Axes>"
      ]
     },
     "metadata": {
      "needs_background": "light"
     },
     "output_type": "display_data"
    }
   ],
   "source": [
    "plt.figure(figsize=(16, 5))\n",
    "ax1 = sns.boxplot(x=df_z[\"Number of Bathrooms\"], y=df_z[\"Assessed Tax\"], data=df_z)\\\n",
    ".set_title('Distribution of the number of bathrooms by assessed tax', fontsize = 18)"
   ]
  },
  {
   "cell_type": "markdown",
   "metadata": {},
   "source": [
    " "
   ]
  },
  {
   "cell_type": "markdown",
   "metadata": {},
   "source": [
    "#### Distribution of the number of bedrooms by assessed tax - there are multple outliers for assessed taxes for houses with the same number of bedrooms"
   ]
  },
  {
   "cell_type": "code",
   "execution_count": 11,
   "metadata": {
    "scrolled": true
   },
   "outputs": [
    {
     "data": {
      "image/png": "[encoded data removed]",
      "text/plain": [
       "<Figure size 1152x360 with 1 Axes>"
      ]
     },
     "metadata": {
      "needs_background": "light"
     },
     "output_type": "display_data"
    }
   ],
   "source": [
    "plt.figure(figsize=(16, 5))\n",
    "ax2 = sns.boxplot(x=df_z[\"Number of Bedrooms\"], y=df_z[\"Assessed Tax\"], data=df_z)\\\n",
    ".set_title('Distribution of the number of bedrooms by assessed tax', fontsize = 18)"
   ]
  },
  {
   "cell_type": "markdown",
   "metadata": {},
   "source": [
    " "
   ]
  },
  {
   "cell_type": "markdown",
   "metadata": {},
   "source": [
    "#### Histogram of the single-unit square footage - this is a fairly normal distribution with a long tail for mansions"
   ]
  },
  {
   "cell_type": "code",
   "execution_count": 66,
   "metadata": {},
   "outputs": [
    {
     "data": {
      "image/png": "[encoded data removed]",
      "text/plain": [
       "<Figure size 1152x360 with 1 Axes>"
      ]
     },
     "metadata": {
      "needs_background": "light"
     },
     "output_type": "display_data"
    }
   ],
   "source": [
    "plt.figure(figsize=(16, 5))\n",
    "ax3 = sns.distplot(df_z['Square Feet'])\\\n",
    ".set_title('Histogram of the single-unit residence square footage', fontsize = 18)"
   ]
  },
  {
   "cell_type": "markdown",
   "metadata": {},
   "source": [
    " "
   ]
  },
  {
   "cell_type": "markdown",
   "metadata": {},
   "source": [
    "## Inferential data exploration"
   ]
  },
  {
   "cell_type": "markdown",
   "metadata": {},
   "source": [
    "H<sub>0</sub> : The assessed tax value for single-unit properties with 1 bathroom is the same properties with 3 bathroom are same\n",
    "\n",
    "H<sub>a</sub> : The number of bathrooms, bedrooms and number of square feet in a single-unit residence predict the assessed tax value"
   ]
  },
  {
   "cell_type": "code",
   "execution_count": 13,
   "metadata": {},
   "outputs": [],
   "source": [
    "one_bathroom = df_z[df_z['Number of Bathrooms']==1.0]\n",
    "three_bathroom = df_z[df_z['Number of Bathrooms']==3.0]"
   ]
  },
  {
   "cell_type": "code",
   "execution_count": 14,
   "metadata": {},
   "outputs": [
    {
     "data": {
      "text/plain": [
       "Ttest_indResult(statistic=-29.789371817851393, pvalue=4.245078428482482e-183)"
      ]
     },
     "execution_count": 14,
     "metadata": {},
     "output_type": "execute_result"
    }
   ],
   "source": [
    "stats.ttest_ind(one_bathroom['Tax Appraised Value'], three_bathroom['Tax Appraised Value'])\n"
   ]
  },
  {
   "cell_type": "markdown",
   "metadata": {},
   "source": [
    "#### *Reject H<sub>0</sub>. The average appraised tax value of 1 bathroom properties is not the same as the average appraised value of 3 bathroom properties.*"
   ]
  },
  {
   "cell_type": "markdown",
   "metadata": {},
   "source": [
    " "
   ]
  },
  {
   "cell_type": "markdown",
   "metadata": {},
   "source": [
    "H<sub>0</sub> : The number of bathrooms are not correlated with the number of bedrooms\n",
    "\n",
    "H<sub>a</sub> : The number of bathrooms are correlated with the number of bedrooms"
   ]
  },
  {
   "cell_type": "code",
   "execution_count": 15,
   "metadata": {},
   "outputs": [
    {
     "name": "stdout",
     "output_type": "stream",
     "text": [
      "The correlation coefficient is 0.6574660775103857\n",
      "The p-value is 0.0\n"
     ]
    }
   ],
   "source": [
    "corr, p = stats.pearsonr(df_z['Number of Bathrooms'], df_z['Number of Bedrooms'])\n",
    "print('The correlation coefficient is', corr)\n",
    "print('The p-value is', p)"
   ]
  },
  {
   "cell_type": "markdown",
   "metadata": {},
   "source": [
    "#### *Reject H<sub>0</sub>. The number bathrooms and bedrooms are correlated.*"
   ]
  },
  {
   "cell_type": "markdown",
   "metadata": {},
   "source": [
    " "
   ]
  },
  {
   "cell_type": "markdown",
   "metadata": {},
   "source": [
    " "
   ]
  },
  {
   "cell_type": "markdown",
   "metadata": {},
   "source": [
    "### Split variables into X and y, then train and test"
   ]
  },
  {
   "cell_type": "markdown",
   "metadata": {},
   "source": [
    " #### Remove columns of data not necessary for this phase of the analysis and create a new dataframe for the y variable"
   ]
  },
  {
   "cell_type": "code",
   "execution_count": 16,
   "metadata": {},
   "outputs": [],
   "source": [
    "X = df_z.drop(columns=['Property Description', 'Tax Appraised Value', 'Assessed Tax', 'County Number'])\n",
    "y = df_z[['Tax Appraised Value']]"
   ]
  },
  {
   "cell_type": "markdown",
   "metadata": {},
   "source": [
    " "
   ]
  },
  {
   "cell_type": "markdown",
   "metadata": {},
   "source": [
    "#### Split the modified/new variables into train and test, with 80% of data rows in the two train variables."
   ]
  },
  {
   "cell_type": "code",
   "execution_count": 17,
   "metadata": {},
   "outputs": [],
   "source": [
    "x_train, x_test, y_train, y_test = z_split_scale.split_my_data(X,y)"
   ]
  },
  {
   "cell_type": "markdown",
   "metadata": {},
   "source": [
    " "
   ]
  },
  {
   "cell_type": "markdown",
   "metadata": {},
   "source": [
    "#### Sample of x_train data to verify split and column changes occured"
   ]
  },
  {
   "cell_type": "code",
   "execution_count": 18,
   "metadata": {},
   "outputs": [
    {
     "data": {
      "text/html": [
       "<div>\n",
       "<style scoped>\n",
       "    .dataframe tbody tr th:only-of-type {\n",
       "        vertical-align: middle;\n",
       "    }\n",
       "\n",
       "    .dataframe tbody tr th {\n",
       "        vertical-align: top;\n",
       "    }\n",
       "\n",
       "    .dataframe thead th {\n",
       "        text-align: right;\n",
       "    }\n",
       "</style>\n",
       "<table border=\"1\" class=\"dataframe\">\n",
       "  <thead>\n",
       "    <tr style=\"text-align: right;\">\n",
       "      <th></th>\n",
       "      <th>Number of Bathrooms</th>\n",
       "      <th>Number of Bedrooms</th>\n",
       "      <th>Square Feet</th>\n",
       "    </tr>\n",
       "  </thead>\n",
       "  <tbody>\n",
       "    <tr>\n",
       "      <th>786</th>\n",
       "      <td>2.0</td>\n",
       "      <td>4.0</td>\n",
       "      <td>2222</td>\n",
       "    </tr>\n",
       "    <tr>\n",
       "      <th>3948</th>\n",
       "      <td>2.0</td>\n",
       "      <td>3.0</td>\n",
       "      <td>1339</td>\n",
       "    </tr>\n",
       "  </tbody>\n",
       "</table>\n",
       "</div>"
      ],
      "text/plain": [
       "      Number of Bathrooms  Number of Bedrooms  Square Feet\n",
       "786                   2.0                 4.0         2222\n",
       "3948                  2.0                 3.0         1339"
      ]
     },
     "execution_count": 18,
     "metadata": {},
     "output_type": "execute_result"
    }
   ],
   "source": [
    "x_train.sample(2)"
   ]
  },
  {
   "cell_type": "markdown",
   "metadata": {},
   "source": [
    " "
   ]
  },
  {
   "cell_type": "markdown",
   "metadata": {},
   "source": [
    "#### Sample of y_test data to verify new column was created and the split occured"
   ]
  },
  {
   "cell_type": "code",
   "execution_count": 19,
   "metadata": {},
   "outputs": [
    {
     "data": {
      "text/html": [
       "<div>\n",
       "<style scoped>\n",
       "    .dataframe tbody tr th:only-of-type {\n",
       "        vertical-align: middle;\n",
       "    }\n",
       "\n",
       "    .dataframe tbody tr th {\n",
       "        vertical-align: top;\n",
       "    }\n",
       "\n",
       "    .dataframe thead th {\n",
       "        text-align: right;\n",
       "    }\n",
       "</style>\n",
       "<table border=\"1\" class=\"dataframe\">\n",
       "  <thead>\n",
       "    <tr style=\"text-align: right;\">\n",
       "      <th></th>\n",
       "      <th>Tax Appraised Value</th>\n",
       "    </tr>\n",
       "  </thead>\n",
       "  <tbody>\n",
       "    <tr>\n",
       "      <th>2546</th>\n",
       "      <td>95428</td>\n",
       "    </tr>\n",
       "    <tr>\n",
       "      <th>1451</th>\n",
       "      <td>262509</td>\n",
       "    </tr>\n",
       "  </tbody>\n",
       "</table>\n",
       "</div>"
      ],
      "text/plain": [
       "      Tax Appraised Value\n",
       "2546                95428\n",
       "1451               262509"
      ]
     },
     "execution_count": 19,
     "metadata": {},
     "output_type": "execute_result"
    }
   ],
   "source": [
    "y_train.sample(2)"
   ]
  },
  {
   "cell_type": "markdown",
   "metadata": {},
   "source": [
    " "
   ]
  },
  {
   "cell_type": "markdown",
   "metadata": {},
   "source": [
    "## Visualizing the x_train variables"
   ]
  },
  {
   "cell_type": "markdown",
   "metadata": {},
   "source": [
    "#### Pair plot showing histogram and scatter plot of each combination of x_train variable (i.e. bathrooms, bedrooms and square feet)"
   ]
  },
  {
   "cell_type": "code",
   "execution_count": 20,
   "metadata": {},
   "outputs": [
    {
     "data": {
      "text/plain": [
       "Text(0.5, 0.98, 'Histogram and scatter plot for every combinaiton of x_train variable')"
      ]
     },
     "execution_count": 20,
     "metadata": {},
     "output_type": "execute_result"
    },
    {
     "data": {
      "image/png": "[encoded data removed]",
      "text/plain": [
       "<Figure size 540x540 with 12 Axes>"
      ]
     },
     "metadata": {
      "needs_background": "light"
     },
     "output_type": "display_data"
    }
   ],
   "source": [
    "g = sns.PairGrid(x_train)\n",
    "g.map_diag(plt.hist)\n",
    "g.map_offdiag(plt.scatter)\n",
    "g.fig.suptitle('Histogram and scatter plot for every combinaiton of x_train variable', fontsize = 16)"
   ]
  },
  {
   "cell_type": "markdown",
   "metadata": {},
   "source": [
    " "
   ]
  },
  {
   "cell_type": "markdown",
   "metadata": {},
   "source": [
    "## Apply standard scaler to x_train and x_test"
   ]
  },
  {
   "cell_type": "markdown",
   "metadata": {},
   "source": [
    "#### Because of assumption that the x (dependent) variables are normally distributed, the standard scaler will be used."
   ]
  },
  {
   "cell_type": "code",
   "execution_count": 21,
   "metadata": {},
   "outputs": [],
   "source": [
    "train_x_scaled_data, test_x_scaled_data,scaler_x_train, scaler_x_test = z_split_scale.standard_scaler(x_train,x_test)"
   ]
  },
  {
   "cell_type": "markdown",
   "metadata": {},
   "source": [
    " "
   ]
  },
  {
   "cell_type": "markdown",
   "metadata": {},
   "source": [
    "#### Verify data scaler has transformed independent variables to harmonize the scales among the variables"
   ]
  },
  {
   "cell_type": "code",
   "execution_count": 22,
   "metadata": {},
   "outputs": [
    {
     "data": {
      "text/html": [
       "<div>\n",
       "<style scoped>\n",
       "    .dataframe tbody tr th:only-of-type {\n",
       "        vertical-align: middle;\n",
       "    }\n",
       "\n",
       "    .dataframe tbody tr th {\n",
       "        vertical-align: top;\n",
       "    }\n",
       "\n",
       "    .dataframe thead th {\n",
       "        text-align: right;\n",
       "    }\n",
       "</style>\n",
       "<table border=\"1\" class=\"dataframe\">\n",
       "  <thead>\n",
       "    <tr style=\"text-align: right;\">\n",
       "      <th></th>\n",
       "      <th>Number of Bathrooms</th>\n",
       "      <th>Number of Bedrooms</th>\n",
       "      <th>Square Feet</th>\n",
       "    </tr>\n",
       "  </thead>\n",
       "  <tbody>\n",
       "    <tr>\n",
       "      <th>8477</th>\n",
       "      <td>0.278822</td>\n",
       "      <td>-0.262844</td>\n",
       "      <td>-0.054008</td>\n",
       "    </tr>\n",
       "    <tr>\n",
       "      <th>10275</th>\n",
       "      <td>-0.207660</td>\n",
       "      <td>0.783780</td>\n",
       "      <td>0.016880</td>\n",
       "    </tr>\n",
       "  </tbody>\n",
       "</table>\n",
       "</div>"
      ],
      "text/plain": [
       "       Number of Bathrooms  Number of Bedrooms  Square Feet\n",
       "8477              0.278822           -0.262844    -0.054008\n",
       "10275            -0.207660            0.783780     0.016880"
      ]
     },
     "execution_count": 22,
     "metadata": {},
     "output_type": "execute_result"
    }
   ],
   "source": [
    "train_x_scaled_data.head(2)"
   ]
  },
  {
   "cell_type": "markdown",
   "metadata": {},
   "source": [
    " "
   ]
  },
  {
   "cell_type": "markdown",
   "metadata": {},
   "source": [
    " "
   ]
  },
  {
   "cell_type": "markdown",
   "metadata": {},
   "source": [
    "# Data modeling"
   ]
  },
  {
   "cell_type": "markdown",
   "metadata": {},
   "source": [
    "## Run regression on baseline and 3 models on x_train"
   ]
  },
  {
   "cell_type": "code",
   "execution_count": 23,
   "metadata": {},
   "outputs": [
    {
     "data": {
      "text/html": [
       "<div>\n",
       "<style scoped>\n",
       "    .dataframe tbody tr th:only-of-type {\n",
       "        vertical-align: middle;\n",
       "    }\n",
       "\n",
       "    .dataframe tbody tr th {\n",
       "        vertical-align: top;\n",
       "    }\n",
       "\n",
       "    .dataframe thead th {\n",
       "        text-align: right;\n",
       "    }\n",
       "</style>\n",
       "<table border=\"1\" class=\"dataframe\">\n",
       "  <thead>\n",
       "    <tr style=\"text-align: right;\">\n",
       "      <th></th>\n",
       "      <th>actual</th>\n",
       "      <th>lm1</th>\n",
       "      <th>lm2</th>\n",
       "      <th>lm3</th>\n",
       "      <th>baseline</th>\n",
       "    </tr>\n",
       "  </thead>\n",
       "  <tbody>\n",
       "    <tr>\n",
       "      <th>0</th>\n",
       "      <td>378038</td>\n",
       "      <td>489000.394632</td>\n",
       "      <td>439752.591875</td>\n",
       "      <td>597899.189244</td>\n",
       "      <td>462043.629601</td>\n",
       "    </tr>\n",
       "    <tr>\n",
       "      <th>1</th>\n",
       "      <td>600000</td>\n",
       "      <td>350635.071116</td>\n",
       "      <td>469010.509667</td>\n",
       "      <td>308978.373883</td>\n",
       "      <td>462043.629601</td>\n",
       "    </tr>\n",
       "    <tr>\n",
       "      <th>2</th>\n",
       "      <td>274121</td>\n",
       "      <td>544289.115431</td>\n",
       "      <td>860648.637825</td>\n",
       "      <td>517427.056179</td>\n",
       "      <td>462043.629601</td>\n",
       "    </tr>\n",
       "    <tr>\n",
       "      <th>3</th>\n",
       "      <td>190192</td>\n",
       "      <td>173113.494416</td>\n",
       "      <td>223661.970469</td>\n",
       "      <td>8181.454481</td>\n",
       "      <td>462043.629601</td>\n",
       "    </tr>\n",
       "    <tr>\n",
       "      <th>4</th>\n",
       "      <td>282036</td>\n",
       "      <td>472055.385009</td>\n",
       "      <td>448529.967213</td>\n",
       "      <td>401326.610990</td>\n",
       "      <td>462043.629601</td>\n",
       "    </tr>\n",
       "  </tbody>\n",
       "</table>\n",
       "</div>"
      ],
      "text/plain": [
       "   actual            lm1            lm2            lm3       baseline\n",
       "0  378038  489000.394632  439752.591875  597899.189244  462043.629601\n",
       "1  600000  350635.071116  469010.509667  308978.373883  462043.629601\n",
       "2  274121  544289.115431  860648.637825  517427.056179  462043.629601\n",
       "3  190192  173113.494416  223661.970469    8181.454481  462043.629601\n",
       "4  282036  472055.385009  448529.967213  401326.610990  462043.629601"
      ]
     },
     "execution_count": 23,
     "metadata": {},
     "output_type": "execute_result"
    }
   ],
   "source": [
    "predictions=pd.DataFrame({'actual':y_train['Tax Appraised Value']}).reset_index(drop=True)\n",
    "\n",
    "#model 1 - all 3 variables\n",
    "lm1=LinearRegression()\n",
    "lm1.fit(train_x_scaled_data[['Number of Bathrooms', 'Number of Bedrooms', 'Square Feet']],y_train)\n",
    "lm1_predictions=lm1.predict(train_x_scaled_data[['Number of Bathrooms', 'Number of Bedrooms', 'Square Feet']])\n",
    "predictions['lm1']=lm1_predictions\n",
    "\n",
    "#model 2 - just square feet\n",
    "lm2=LinearRegression()\n",
    "lm2.fit(train_x_scaled_data[['Square Feet']],y_train)\n",
    "lm2_predictions=lm2.predict(train_x_scaled_data[['Square Feet']])\n",
    "predictions['lm2']=lm2_predictions\n",
    "\n",
    "#model 3 - only number of bedrooms and bathrooms\n",
    "lm3=LinearRegression()\n",
    "lm3.fit(train_x_scaled_data[['Number of Bathrooms', 'Number of Bedrooms']],y_train)\n",
    "lm3_predictions=lm3.predict(train_x_scaled_data[['Number of Bathrooms', 'Number of Bedrooms']])\n",
    "predictions['lm3']=lm3_predictions\n",
    "\n",
    "#baseline model (mean)\n",
    "predictions['baseline'] = y_train.mean()[0]\n",
    "predictions.head()\n",
    "\n",
    "#print(lm1.intercept_,lm1.coef_)"
   ]
  },
  {
   "cell_type": "markdown",
   "metadata": {},
   "source": [
    "#### Evaluate baseline and 3 models (train)"
   ]
  },
  {
   "cell_type": "code",
   "execution_count": 24,
   "metadata": {},
   "outputs": [
    {
     "name": "stdout",
     "output_type": "stream",
     "text": [
      "MSE baseline: 420928611175.0658\n",
      "SSE baseline: 5375258364705590.0\n",
      "RMSE baseline: 648790.1133456534\n",
      "R2 baseline: 0.0\n"
     ]
    }
   ],
   "source": [
    "#Baseline\n",
    "MSE_baseline = mean_squared_error(predictions.actual, predictions.baseline)\n",
    "SSE_baseline = MSE_baseline*len(predictions.actual)\n",
    "RMSE_baseline = sqrt(MSE_baseline)\n",
    "r2_baseline = r2_score(predictions.actual, predictions.baseline)\n",
    "print('MSE baseline:', MSE_baseline)\n",
    "print('SSE baseline:', SSE_baseline)\n",
    "print('RMSE baseline:', RMSE_baseline)\n",
    "print('R2 baseline:', r2_baseline)"
   ]
  },
  {
   "cell_type": "markdown",
   "metadata": {},
   "source": [
    " "
   ]
  },
  {
   "cell_type": "code",
   "execution_count": 25,
   "metadata": {},
   "outputs": [
    {
     "name": "stdout",
     "output_type": "stream",
     "text": [
      "MSE model 1 train: 240025152945.04852\n",
      "SSE model 1 train: 3065121203108269.5\n",
      "RMSE model 1 train: 489923.6195010897\n",
      "R2 model 1 train: 0.4297723020656794\n"
     ]
    }
   ],
   "source": [
    "#Model 1: number of bedrooms, number of bathrooms and square feet\n",
    "MSE_1 = mean_squared_error(predictions.actual, predictions.lm1)\n",
    "SSE_1 = MSE_1*len(predictions.actual)\n",
    "RMSE_1 = sqrt(MSE_1)\n",
    "r2_1 = r2_score(predictions.actual, predictions.lm1)\n",
    "print('MSE model 1 train:', MSE_1)\n",
    "print('SSE model 1 train:', SSE_1)\n",
    "print('RMSE model 1 train:', RMSE_1)\n",
    "print('R2 model 1 train:', r2_1)"
   ]
  },
  {
   "cell_type": "markdown",
   "metadata": {},
   "source": [
    " "
   ]
  },
  {
   "cell_type": "code",
   "execution_count": 26,
   "metadata": {},
   "outputs": [
    {
     "name": "stdout",
     "output_type": "stream",
     "text": [
      "MSE model 2 train: 250577596757.9224\n",
      "SSE model 2 train: 3199875910598669.0\n",
      "RMSE model 2 train: 500577.2635247454\n",
      "R2 model 2 train: 0.40470286384570275\n"
     ]
    }
   ],
   "source": [
    "#Model 2: square feet only\n",
    "MSE_2 = mean_squared_error(predictions.actual, predictions.lm2)\n",
    "SSE_2 = MSE_2*len(predictions.actual)\n",
    "RMSE_2 = sqrt(MSE_2)\n",
    "r2_2 = r2_score(predictions.actual, predictions.lm2)\n",
    "print('MSE model 2 train:', MSE_2)\n",
    "print('SSE model 2 train:', SSE_2)\n",
    "print('RMSE model 2 train:', RMSE_2)\n",
    "print('R2 model 2 train:', r2_2)"
   ]
  },
  {
   "cell_type": "markdown",
   "metadata": {},
   "source": [
    " "
   ]
  },
  {
   "cell_type": "code",
   "execution_count": 27,
   "metadata": {},
   "outputs": [
    {
     "name": "stdout",
     "output_type": "stream",
     "text": [
      "MSE model 3 train: 250577596757.9224\n",
      "SSE model 3 train: 3199875910598669.0\n",
      "RMSE model 3 train: 500577.2635247454\n",
      "R2 model 3 train: 0.2954275801853904\n"
     ]
    }
   ],
   "source": [
    "#Model 3: bedrooms and bathrooms only\n",
    "MSE_3 = mean_squared_error(predictions.actual, predictions.lm2)\n",
    "SSE_3 = MSE_3*len(predictions.actual)\n",
    "RMSE_3 = sqrt(MSE_3)\n",
    "r2_3 = r2_score(predictions.actual, predictions.lm3)\n",
    "print('MSE model 3 train:', MSE_3)\n",
    "print('SSE model 3 train:', SSE_3)\n",
    "print('RMSE model 3 train:', RMSE_3)\n",
    "print('R2 model 3 train:', r2_3)"
   ]
  },
  {
   "cell_type": "markdown",
   "metadata": {},
   "source": [
    "### *** The model with number of bedrooms/bathrooms and square feet performed the best. ***"
   ]
  },
  {
   "cell_type": "markdown",
   "metadata": {},
   "source": [
    " "
   ]
  },
  {
   "cell_type": "markdown",
   "metadata": {},
   "source": [
    " "
   ]
  },
  {
   "cell_type": "markdown",
   "metadata": {},
   "source": [
    "## Run regression on 3 models using x_test"
   ]
  },
  {
   "cell_type": "code",
   "execution_count": 28,
   "metadata": {},
   "outputs": [
    {
     "data": {
      "text/html": [
       "<div>\n",
       "<style scoped>\n",
       "    .dataframe tbody tr th:only-of-type {\n",
       "        vertical-align: middle;\n",
       "    }\n",
       "\n",
       "    .dataframe tbody tr th {\n",
       "        vertical-align: top;\n",
       "    }\n",
       "\n",
       "    .dataframe thead th {\n",
       "        text-align: right;\n",
       "    }\n",
       "</style>\n",
       "<table border=\"1\" class=\"dataframe\">\n",
       "  <thead>\n",
       "    <tr style=\"text-align: right;\">\n",
       "      <th></th>\n",
       "      <th>actual</th>\n",
       "      <th>lm1</th>\n",
       "      <th>lm2</th>\n",
       "      <th>lm3</th>\n",
       "      <th>baseline</th>\n",
       "    </tr>\n",
       "  </thead>\n",
       "  <tbody>\n",
       "    <tr>\n",
       "      <th>0</th>\n",
       "      <td>208546</td>\n",
       "      <td>110335.050975</td>\n",
       "      <td>44063.789259</td>\n",
       "      <td>94305.571549</td>\n",
       "      <td>468407.313185</td>\n",
       "    </tr>\n",
       "    <tr>\n",
       "      <th>1</th>\n",
       "      <td>137176</td>\n",
       "      <td>69330.714266</td>\n",
       "      <td>120357.290723</td>\n",
       "      <td>32679.175250</td>\n",
       "      <td>468407.313185</td>\n",
       "    </tr>\n",
       "    <tr>\n",
       "      <th>2</th>\n",
       "      <td>227220</td>\n",
       "      <td>598697.547943</td>\n",
       "      <td>529043.020190</td>\n",
       "      <td>770180.505665</td>\n",
       "      <td>468407.313185</td>\n",
       "    </tr>\n",
       "    <tr>\n",
       "      <th>3</th>\n",
       "      <td>220308</td>\n",
       "      <td>779379.803731</td>\n",
       "      <td>807411.201210</td>\n",
       "      <td>708554.109366</td>\n",
       "      <td>468407.313185</td>\n",
       "    </tr>\n",
       "    <tr>\n",
       "      <th>4</th>\n",
       "      <td>395686</td>\n",
       "      <td>92299.496693</td>\n",
       "      <td>122831.674555</td>\n",
       "      <td>217054.507854</td>\n",
       "      <td>468407.313185</td>\n",
       "    </tr>\n",
       "  </tbody>\n",
       "</table>\n",
       "</div>"
      ],
      "text/plain": [
       "   actual            lm1            lm2            lm3       baseline\n",
       "0  208546  110335.050975   44063.789259   94305.571549  468407.313185\n",
       "1  137176   69330.714266  120357.290723   32679.175250  468407.313185\n",
       "2  227220  598697.547943  529043.020190  770180.505665  468407.313185\n",
       "3  220308  779379.803731  807411.201210  708554.109366  468407.313185\n",
       "4  395686   92299.496693  122831.674555  217054.507854  468407.313185"
      ]
     },
     "execution_count": 28,
     "metadata": {},
     "output_type": "execute_result"
    }
   ],
   "source": [
    "predictions=pd.DataFrame({'actual':y_test['Tax Appraised Value']}).reset_index(drop=True)\n",
    "\n",
    "#model 1 - all 3 variables\n",
    "lm1=LinearRegression()\n",
    "lm1.fit(test_x_scaled_data[['Number of Bathrooms', 'Number of Bedrooms', 'Square Feet']],y_test)\n",
    "lm1_predictions=lm1.predict(test_x_scaled_data[['Number of Bathrooms', 'Number of Bedrooms', 'Square Feet']])\n",
    "predictions['lm1']=lm1_predictions\n",
    "\n",
    "#model 2 - just square feet\n",
    "lm2=LinearRegression()\n",
    "lm2.fit(test_x_scaled_data[['Square Feet']],y_test)\n",
    "lm2_predictions=lm2.predict(test_x_scaled_data[['Square Feet']])\n",
    "predictions['lm2']=lm2_predictions\n",
    "\n",
    "#model 3 - only number of bedrooms and bathrooms\n",
    "lm3=LinearRegression()\n",
    "lm3.fit(test_x_scaled_data[['Number of Bathrooms', 'Number of Bedrooms']],y_test)\n",
    "lm3_predictions=lm3.predict(test_x_scaled_data[['Number of Bathrooms', 'Number of Bedrooms']])\n",
    "predictions['lm3']=lm3_predictions\n",
    "\n",
    "#baseline model (mean)\n",
    "predictions['baseline'] = y_test.mean()[0]\n",
    "predictions.head()\n",
    "\n",
    "#print(lm1_test.intercept_,lm1_test.coef_)"
   ]
  },
  {
   "cell_type": "code",
   "execution_count": 29,
   "metadata": {},
   "outputs": [
    {
     "name": "stdout",
     "output_type": "stream",
     "text": [
      "MSE baseline: 385287176880.51447\n",
      "SSE baseline: 1230221955779482.8\n",
      "RMSE baseline: 620715.0528870026\n",
      "R2 baseline: 0.0\n"
     ]
    }
   ],
   "source": [
    "#Baseline\n",
    "MSE_baseline = mean_squared_error(predictions.actual, predictions.baseline)\n",
    "SSE_baseline = MSE_baseline*len(predictions.actual)\n",
    "RMSE_baseline = sqrt(MSE_baseline)\n",
    "r2_baseline = r2_score(predictions.actual, predictions.baseline)\n",
    "print('MSE baseline:', MSE_baseline)\n",
    "print('SSE baseline:', SSE_baseline)\n",
    "print('RMSE baseline:', RMSE_baseline)\n",
    "print('R2 baseline:', r2_baseline)"
   ]
  },
  {
   "cell_type": "markdown",
   "metadata": {},
   "source": [
    " "
   ]
  },
  {
   "cell_type": "code",
   "execution_count": 30,
   "metadata": {},
   "outputs": [
    {
     "name": "stdout",
     "output_type": "stream",
     "text": [
      "MSE model 1 test: 217091968451.87387\n",
      "SSE model 1 test: 693174655266833.2\n",
      "RMSE model 1 test: 465931.2915568924\n",
      "R2 model 1 test: 0.4365450461923923\n"
     ]
    }
   ],
   "source": [
    "#Model 1 Test: number of bedrooms, number of bathrooms and square feet\n",
    "MSE_1 = mean_squared_error(predictions.actual, predictions.lm1)\n",
    "SSE_1 = MSE_1*len(predictions.actual)\n",
    "RMSE_1 = sqrt(MSE_1)\n",
    "r2_1 = r2_score(predictions.actual, predictions.lm1)\n",
    "print('MSE model 1 test:', MSE_1)\n",
    "print('SSE model 1 test:', SSE_1)\n",
    "print('RMSE model 1 test:', RMSE_1)\n",
    "print('R2 model 1 test:', r2_1)"
   ]
  },
  {
   "cell_type": "markdown",
   "metadata": {},
   "source": [
    " "
   ]
  },
  {
   "cell_type": "code",
   "execution_count": 31,
   "metadata": {},
   "outputs": [
    {
     "name": "stdout",
     "output_type": "stream",
     "text": [
      "MSE model 2 test: 224254863994.62973\n",
      "SSE model 2 test: 716045780734852.8\n",
      "RMSE model 2 test: 473555.55534132395\n",
      "R2 model 2 test: 0.41795399003332057\n"
     ]
    }
   ],
   "source": [
    "#Model 2 Test: square feet only\n",
    "MSE_2 = mean_squared_error(predictions.actual, predictions.lm2)\n",
    "SSE_2 = MSE_2*len(predictions.actual)\n",
    "RMSE_2 = sqrt(MSE_2)\n",
    "r2_2 = r2_score(predictions.actual, predictions.lm2)\n",
    "print('MSE model 2 test:', MSE_2)\n",
    "print('SSE model 2 test:', SSE_2)\n",
    "print('RMSE model 2 test:', RMSE_2)\n",
    "print('R2 model 2 test:', r2_2)"
   ]
  },
  {
   "cell_type": "code",
   "execution_count": 32,
   "metadata": {},
   "outputs": [
    {
     "name": "stdout",
     "output_type": "stream",
     "text": [
      "MSE model 3 test: 224254863994.62973\n",
      "SSE model 3 test: 716045780734852.8\n",
      "RMSE model 3 test: 473555.55534132395\n",
      "R2 model 3 test: 0.3017289005002437\n"
     ]
    }
   ],
   "source": [
    "#Model 3: bedrooms and bathrooms only\n",
    "MSE_3 = mean_squared_error(predictions.actual, predictions.lm2)\n",
    "SSE_3 = MSE_3*len(predictions.actual)\n",
    "RMSE_3 = sqrt(MSE_3)\n",
    "r2_3 = r2_score(predictions.actual, predictions.lm3)\n",
    "print('MSE model 3 test:', MSE_3)\n",
    "print('SSE model 3 test:', SSE_3)\n",
    "print('RMSE model 3 test:', RMSE_3)\n",
    "print('R2 model 3 test:', r2_3)"
   ]
  },
  {
   "cell_type": "markdown",
   "metadata": {},
   "source": [
    "## *R2 values for train and test are comparable*"
   ]
  },
  {
   "cell_type": "markdown",
   "metadata": {},
   "source": [
    " "
   ]
  },
  {
   "cell_type": "markdown",
   "metadata": {},
   "source": [
    "### Plot_residuals (errors)"
   ]
  },
  {
   "cell_type": "code",
   "execution_count": 33,
   "metadata": {},
   "outputs": [
    {
     "data": {
      "image/png": "[encoded data removed]",
      "text/plain": [
       "<Figure size 432x288 with 1 Axes>"
      ]
     },
     "metadata": {
      "needs_background": "light"
     },
     "output_type": "display_data"
    }
   ],
   "source": [
    "def plot_residuals(x, y):\n",
    "    return sns.residplot(x, y)\n",
    "\n",
    "x = train_x_scaled_data[['Square Feet']]\n",
    "y = y_train[['Tax Appraised Value']]\n",
    "plot_residuals(x,y)\n",
    "plt.show()"
   ]
  },
  {
   "cell_type": "code",
   "execution_count": 34,
   "metadata": {},
   "outputs": [
    {
     "data": {
      "image/png": "[encoded data removed]",
      "text/plain": [
       "<Figure size 432x288 with 1 Axes>"
      ]
     },
     "metadata": {
      "needs_background": "light"
     },
     "output_type": "display_data"
    }
   ],
   "source": [
    "def plot_residuals(x, y):\n",
    "    return sns.residplot(x, y)\n",
    "\n",
    "x = train_x_scaled_data[['Number of Bedrooms']]\n",
    "y = y_train[['Tax Appraised Value']]\n",
    "plot_residuals(x,y)\n",
    "plt.show()"
   ]
  },
  {
   "cell_type": "code",
   "execution_count": 35,
   "metadata": {
    "scrolled": true
   },
   "outputs": [
    {
     "data": {
      "image/png": "[encoded data removed]",
      "text/plain": [
       "<Figure size 432x288 with 1 Axes>"
      ]
     },
     "metadata": {
      "needs_background": "light"
     },
     "output_type": "display_data"
    }
   ],
   "source": [
    "def plot_residuals(x, y):\n",
    "    return sns.residplot(x, y)\n",
    "\n",
    "x = train_x_scaled_data[['Number of Bathrooms']]\n",
    "y = y_train[['Tax Appraised Value']]\n",
    "plot_residuals(x, y)\n",
    "plt.show()"
   ]
  },
  {
   "cell_type": "markdown",
   "metadata": {},
   "source": [
    " "
   ]
  },
  {
   "cell_type": "markdown",
   "metadata": {},
   "source": [
    " "
   ]
  },
  {
   "cell_type": "markdown",
   "metadata": {},
   "source": [
    "## Distribution of tax rates for each county"
   ]
  },
  {
   "cell_type": "code",
   "execution_count": 36,
   "metadata": {},
   "outputs": [],
   "source": [
    "df_z['County Tax Rates'] = df_z['Assessed Tax']/df_z['Tax Appraised Value']"
   ]
  },
  {
   "cell_type": "code",
   "execution_count": 46,
   "metadata": {},
   "outputs": [
    {
     "data": {
      "text/html": [
       "<div>\n",
       "<style scoped>\n",
       "    .dataframe tbody tr th:only-of-type {\n",
       "        vertical-align: middle;\n",
       "    }\n",
       "\n",
       "    .dataframe tbody tr th {\n",
       "        vertical-align: top;\n",
       "    }\n",
       "\n",
       "    .dataframe thead th {\n",
       "        text-align: right;\n",
       "    }\n",
       "</style>\n",
       "<table border=\"1\" class=\"dataframe\">\n",
       "  <thead>\n",
       "    <tr style=\"text-align: right;\">\n",
       "      <th></th>\n",
       "      <th>Number of Bathrooms</th>\n",
       "      <th>Number of Bedrooms</th>\n",
       "      <th>Square Feet</th>\n",
       "      <th>Tax Appraised Value</th>\n",
       "      <th>Assessed Tax</th>\n",
       "      <th>County Number</th>\n",
       "      <th>County Tax Rates</th>\n",
       "    </tr>\n",
       "  </thead>\n",
       "  <tbody>\n",
       "    <tr>\n",
       "      <th>0</th>\n",
       "      <td>2.0</td>\n",
       "      <td>4.0</td>\n",
       "      <td>1604</td>\n",
       "      <td>498347</td>\n",
       "      <td>6089.82</td>\n",
       "      <td>6037</td>\n",
       "      <td>0.012220</td>\n",
       "    </tr>\n",
       "    <tr>\n",
       "      <th>1</th>\n",
       "      <td>3.0</td>\n",
       "      <td>3.0</td>\n",
       "      <td>2384</td>\n",
       "      <td>549917</td>\n",
       "      <td>6679.55</td>\n",
       "      <td>6037</td>\n",
       "      <td>0.012146</td>\n",
       "    </tr>\n",
       "    <tr>\n",
       "      <th>2</th>\n",
       "      <td>2.0</td>\n",
       "      <td>3.0</td>\n",
       "      <td>1574</td>\n",
       "      <td>235272</td>\n",
       "      <td>3876.31</td>\n",
       "      <td>6037</td>\n",
       "      <td>0.016476</td>\n",
       "    </tr>\n",
       "    <tr>\n",
       "      <th>3</th>\n",
       "      <td>2.0</td>\n",
       "      <td>2.0</td>\n",
       "      <td>1619</td>\n",
       "      <td>340000</td>\n",
       "      <td>4206.15</td>\n",
       "      <td>6037</td>\n",
       "      <td>0.012371</td>\n",
       "    </tr>\n",
       "    <tr>\n",
       "      <th>4</th>\n",
       "      <td>3.0</td>\n",
       "      <td>2.0</td>\n",
       "      <td>2408</td>\n",
       "      <td>2017254</td>\n",
       "      <td>24353.42</td>\n",
       "      <td>6037</td>\n",
       "      <td>0.012073</td>\n",
       "    </tr>\n",
       "  </tbody>\n",
       "</table>\n",
       "</div>"
      ],
      "text/plain": [
       "   Number of Bathrooms  Number of Bedrooms  Square Feet  Tax Appraised Value  \\\n",
       "0                  2.0                 4.0         1604               498347   \n",
       "1                  3.0                 3.0         2384               549917   \n",
       "2                  2.0                 3.0         1574               235272   \n",
       "3                  2.0                 2.0         1619               340000   \n",
       "4                  3.0                 2.0         2408              2017254   \n",
       "\n",
       "   Assessed Tax  County Number  County Tax Rates  \n",
       "0       6089.82           6037          0.012220  \n",
       "1       6679.55           6037          0.012146  \n",
       "2       3876.31           6037          0.016476  \n",
       "3       4206.15           6037          0.012371  \n",
       "4      24353.42           6037          0.012073  "
      ]
     },
     "execution_count": 46,
     "metadata": {},
     "output_type": "execute_result"
    }
   ],
   "source": [
    "df_z.drop(columns=['Property Description'], inplace = True)\n",
    "df_z.head()"
   ]
  },
  {
   "cell_type": "code",
   "execution_count": 47,
   "metadata": {},
   "outputs": [],
   "source": [
    "v = df_z[df_z['County Number'] == 6111]\n",
    "l = df_z[df_z['County Number'] == 6037]\n",
    "o = df_z[df_z['County Number'] == 6059]"
   ]
  },
  {
   "cell_type": "code",
   "execution_count": 48,
   "metadata": {},
   "outputs": [
    {
     "data": {
      "image/png": "[encoded data removed]",
      "text/plain": [
       "<Figure size 1152x432 with 3 Axes>"
      ]
     },
     "metadata": {
      "needs_background": "light"
     },
     "output_type": "display_data"
    }
   ],
   "source": [
    "plt.figure(figsize=(16, 6))\n",
    "plt.suptitle('Distribution of Tax Rates by County (per $ of Assessed Value)', fontsize=14)\n",
    "\n",
    "plt.subplot(331)\n",
    "sns.distplot(l['County Tax Rates'])\n",
    "plt.title('Los Angeles')\n",
    "\n",
    "plt.subplot(332)\n",
    "sns.distplot(o['County Tax Rates'])\n",
    "plt.title('Orange')\n",
    "\n",
    "plt.subplot(333)\n",
    "sns.distplot(v['County Tax Rates'])\n",
    "plt.title('Ventura')\n",
    "plt.show()"
   ]
  },
  {
   "cell_type": "code",
   "execution_count": 49,
   "metadata": {},
   "outputs": [
    {
     "data": {
      "text/html": [
       "<div>\n",
       "<style scoped>\n",
       "    .dataframe tbody tr th:only-of-type {\n",
       "        vertical-align: middle;\n",
       "    }\n",
       "\n",
       "    .dataframe tbody tr th {\n",
       "        vertical-align: top;\n",
       "    }\n",
       "\n",
       "    .dataframe thead th {\n",
       "        text-align: right;\n",
       "    }\n",
       "</style>\n",
       "<table border=\"1\" class=\"dataframe\">\n",
       "  <thead>\n",
       "    <tr style=\"text-align: right;\">\n",
       "      <th></th>\n",
       "      <th>Number of Bathrooms</th>\n",
       "      <th>Number of Bedrooms</th>\n",
       "      <th>Square Feet</th>\n",
       "      <th>Tax Appraised Value</th>\n",
       "      <th>Assessed Tax</th>\n",
       "      <th>County Number</th>\n",
       "      <th>County Tax Rates</th>\n",
       "    </tr>\n",
       "  </thead>\n",
       "  <tbody>\n",
       "    <tr>\n",
       "      <th>count</th>\n",
       "      <td>12388.000000</td>\n",
       "      <td>12388.000000</td>\n",
       "      <td>12388.000000</td>\n",
       "      <td>1.238800e+04</td>\n",
       "      <td>12388.000000</td>\n",
       "      <td>12388.0</td>\n",
       "      <td>12388.000000</td>\n",
       "    </tr>\n",
       "    <tr>\n",
       "      <th>mean</th>\n",
       "      <td>2.149661</td>\n",
       "      <td>3.177510</td>\n",
       "      <td>1772.191637</td>\n",
       "      <td>4.464855e+05</td>\n",
       "      <td>5611.552369</td>\n",
       "      <td>6037.0</td>\n",
       "      <td>0.013736</td>\n",
       "    </tr>\n",
       "    <tr>\n",
       "      <th>std</th>\n",
       "      <td>1.045680</td>\n",
       "      <td>0.956073</td>\n",
       "      <td>950.439448</td>\n",
       "      <td>6.415080e+05</td>\n",
       "      <td>7656.803041</td>\n",
       "      <td>0.0</td>\n",
       "      <td>0.003985</td>\n",
       "    </tr>\n",
       "    <tr>\n",
       "      <th>min</th>\n",
       "      <td>1.000000</td>\n",
       "      <td>1.000000</td>\n",
       "      <td>320.000000</td>\n",
       "      <td>1.216800e+04</td>\n",
       "      <td>125.950000</td>\n",
       "      <td>6037.0</td>\n",
       "      <td>0.000303</td>\n",
       "    </tr>\n",
       "    <tr>\n",
       "      <th>25%</th>\n",
       "      <td>1.000000</td>\n",
       "      <td>3.000000</td>\n",
       "      <td>1197.000000</td>\n",
       "      <td>1.700000e+05</td>\n",
       "      <td>2416.067500</td>\n",
       "      <td>6037.0</td>\n",
       "      <td>0.012147</td>\n",
       "    </tr>\n",
       "    <tr>\n",
       "      <th>50%</th>\n",
       "      <td>2.000000</td>\n",
       "      <td>3.000000</td>\n",
       "      <td>1532.000000</td>\n",
       "      <td>2.982050e+05</td>\n",
       "      <td>3911.960000</td>\n",
       "      <td>6037.0</td>\n",
       "      <td>0.012638</td>\n",
       "    </tr>\n",
       "    <tr>\n",
       "      <th>75%</th>\n",
       "      <td>3.000000</td>\n",
       "      <td>4.000000</td>\n",
       "      <td>2059.250000</td>\n",
       "      <td>4.944260e+05</td>\n",
       "      <td>6146.047500</td>\n",
       "      <td>6037.0</td>\n",
       "      <td>0.014012</td>\n",
       "    </tr>\n",
       "    <tr>\n",
       "      <th>max</th>\n",
       "      <td>20.000000</td>\n",
       "      <td>25.000000</td>\n",
       "      <td>14342.000000</td>\n",
       "      <td>1.912982e+07</td>\n",
       "      <td>228999.210000</td>\n",
       "      <td>6037.0</td>\n",
       "      <td>0.155072</td>\n",
       "    </tr>\n",
       "  </tbody>\n",
       "</table>\n",
       "</div>"
      ],
      "text/plain": [
       "       Number of Bathrooms  Number of Bedrooms   Square Feet  \\\n",
       "count         12388.000000        12388.000000  12388.000000   \n",
       "mean              2.149661            3.177510   1772.191637   \n",
       "std               1.045680            0.956073    950.439448   \n",
       "min               1.000000            1.000000    320.000000   \n",
       "25%               1.000000            3.000000   1197.000000   \n",
       "50%               2.000000            3.000000   1532.000000   \n",
       "75%               3.000000            4.000000   2059.250000   \n",
       "max              20.000000           25.000000  14342.000000   \n",
       "\n",
       "       Tax Appraised Value   Assessed Tax  County Number  County Tax Rates  \n",
       "count         1.238800e+04   12388.000000        12388.0      12388.000000  \n",
       "mean          4.464855e+05    5611.552369         6037.0          0.013736  \n",
       "std           6.415080e+05    7656.803041            0.0          0.003985  \n",
       "min           1.216800e+04     125.950000         6037.0          0.000303  \n",
       "25%           1.700000e+05    2416.067500         6037.0          0.012147  \n",
       "50%           2.982050e+05    3911.960000         6037.0          0.012638  \n",
       "75%           4.944260e+05    6146.047500         6037.0          0.014012  \n",
       "max           1.912982e+07  228999.210000         6037.0          0.155072  "
      ]
     },
     "execution_count": 49,
     "metadata": {},
     "output_type": "execute_result"
    }
   ],
   "source": [
    "Los_Angeles_County = l.describe()\n",
    "Los_Angeles_County"
   ]
  },
  {
   "cell_type": "code",
   "execution_count": 61,
   "metadata": {},
   "outputs": [
    {
     "data": {
      "text/plain": [
       "0.012638139210671695"
      ]
     },
     "execution_count": 61,
     "metadata": {},
     "output_type": "execute_result"
    }
   ],
   "source": [
    "l['County Tax Rates'].median()"
   ]
  },
  {
   "cell_type": "markdown",
   "metadata": {},
   "source": [
    "### Test for normality of the distribution of County Tax Rates (LA)"
   ]
  },
  {
   "cell_type": "code",
   "execution_count": 63,
   "metadata": {},
   "outputs": [
    {
     "data": {
      "text/plain": [
       "NormaltestResult(statistic=21374.956321252263, pvalue=0.0)"
      ]
     },
     "execution_count": 63,
     "metadata": {},
     "output_type": "execute_result"
    }
   ],
   "source": [
    "stats.normaltest(l['County Tax Rates']) #normally distributed"
   ]
  },
  {
   "cell_type": "markdown",
   "metadata": {},
   "source": [
    " "
   ]
  },
  {
   "cell_type": "code",
   "execution_count": 51,
   "metadata": {},
   "outputs": [
    {
     "data": {
      "text/html": [
       "<div>\n",
       "<style scoped>\n",
       "    .dataframe tbody tr th:only-of-type {\n",
       "        vertical-align: middle;\n",
       "    }\n",
       "\n",
       "    .dataframe tbody tr th {\n",
       "        vertical-align: top;\n",
       "    }\n",
       "\n",
       "    .dataframe thead th {\n",
       "        text-align: right;\n",
       "    }\n",
       "</style>\n",
       "<table border=\"1\" class=\"dataframe\">\n",
       "  <thead>\n",
       "    <tr style=\"text-align: right;\">\n",
       "      <th></th>\n",
       "      <th>Number of Bathrooms</th>\n",
       "      <th>Number of Bedrooms</th>\n",
       "      <th>Square Feet</th>\n",
       "      <th>Tax Appraised Value</th>\n",
       "      <th>Assessed Tax</th>\n",
       "      <th>County Number</th>\n",
       "      <th>County Tax Rates</th>\n",
       "    </tr>\n",
       "  </thead>\n",
       "  <tbody>\n",
       "    <tr>\n",
       "      <th>count</th>\n",
       "      <td>2780.000000</td>\n",
       "      <td>2780.000000</td>\n",
       "      <td>2780.000000</td>\n",
       "      <td>2.780000e+03</td>\n",
       "      <td>2780.000000</td>\n",
       "      <td>2780.0</td>\n",
       "      <td>2780.000000</td>\n",
       "    </tr>\n",
       "    <tr>\n",
       "      <th>mean</th>\n",
       "      <td>2.462050</td>\n",
       "      <td>3.498201</td>\n",
       "      <td>2075.428058</td>\n",
       "      <td>5.483000e+05</td>\n",
       "      <td>6233.562180</td>\n",
       "      <td>6059.0</td>\n",
       "      <td>0.012111</td>\n",
       "    </tr>\n",
       "    <tr>\n",
       "      <th>std</th>\n",
       "      <td>0.947383</td>\n",
       "      <td>0.886708</td>\n",
       "      <td>1109.588740</td>\n",
       "      <td>7.094007e+05</td>\n",
       "      <td>7386.973146</td>\n",
       "      <td>0.0</td>\n",
       "      <td>0.002231</td>\n",
       "    </tr>\n",
       "    <tr>\n",
       "      <th>min</th>\n",
       "      <td>1.000000</td>\n",
       "      <td>1.000000</td>\n",
       "      <td>388.000000</td>\n",
       "      <td>1.611900e+04</td>\n",
       "      <td>345.720000</td>\n",
       "      <td>6059.0</td>\n",
       "      <td>0.000032</td>\n",
       "    </tr>\n",
       "    <tr>\n",
       "      <th>25%</th>\n",
       "      <td>2.000000</td>\n",
       "      <td>3.000000</td>\n",
       "      <td>1415.000000</td>\n",
       "      <td>2.465898e+05</td>\n",
       "      <td>2908.670000</td>\n",
       "      <td>6059.0</td>\n",
       "      <td>0.010805</td>\n",
       "    </tr>\n",
       "    <tr>\n",
       "      <th>50%</th>\n",
       "      <td>2.500000</td>\n",
       "      <td>3.000000</td>\n",
       "      <td>1853.000000</td>\n",
       "      <td>4.091510e+05</td>\n",
       "      <td>4706.300000</td>\n",
       "      <td>6059.0</td>\n",
       "      <td>0.011702</td>\n",
       "    </tr>\n",
       "    <tr>\n",
       "      <th>75%</th>\n",
       "      <td>3.000000</td>\n",
       "      <td>4.000000</td>\n",
       "      <td>2467.750000</td>\n",
       "      <td>6.488870e+05</td>\n",
       "      <td>7248.965000</td>\n",
       "      <td>6059.0</td>\n",
       "      <td>0.012622</td>\n",
       "    </tr>\n",
       "    <tr>\n",
       "      <th>max</th>\n",
       "      <td>19.500000</td>\n",
       "      <td>10.000000</td>\n",
       "      <td>26345.000000</td>\n",
       "      <td>1.168967e+07</td>\n",
       "      <td>121161.260000</td>\n",
       "      <td>6059.0</td>\n",
       "      <td>0.046414</td>\n",
       "    </tr>\n",
       "  </tbody>\n",
       "</table>\n",
       "</div>"
      ],
      "text/plain": [
       "       Number of Bathrooms  Number of Bedrooms   Square Feet  \\\n",
       "count          2780.000000         2780.000000   2780.000000   \n",
       "mean              2.462050            3.498201   2075.428058   \n",
       "std               0.947383            0.886708   1109.588740   \n",
       "min               1.000000            1.000000    388.000000   \n",
       "25%               2.000000            3.000000   1415.000000   \n",
       "50%               2.500000            3.000000   1853.000000   \n",
       "75%               3.000000            4.000000   2467.750000   \n",
       "max              19.500000           10.000000  26345.000000   \n",
       "\n",
       "       Tax Appraised Value   Assessed Tax  County Number  County Tax Rates  \n",
       "count         2.780000e+03    2780.000000         2780.0       2780.000000  \n",
       "mean          5.483000e+05    6233.562180         6059.0          0.012111  \n",
       "std           7.094007e+05    7386.973146            0.0          0.002231  \n",
       "min           1.611900e+04     345.720000         6059.0          0.000032  \n",
       "25%           2.465898e+05    2908.670000         6059.0          0.010805  \n",
       "50%           4.091510e+05    4706.300000         6059.0          0.011702  \n",
       "75%           6.488870e+05    7248.965000         6059.0          0.012622  \n",
       "max           1.168967e+07  121161.260000         6059.0          0.046414  "
      ]
     },
     "execution_count": 51,
     "metadata": {},
     "output_type": "execute_result"
    }
   ],
   "source": [
    "Orange_County = o.describe()\n",
    "Orange_County"
   ]
  },
  {
   "cell_type": "code",
   "execution_count": 57,
   "metadata": {},
   "outputs": [
    {
     "data": {
      "text/plain": [
       "0.011701882621223545"
      ]
     },
     "execution_count": 57,
     "metadata": {},
     "output_type": "execute_result"
    }
   ],
   "source": [
    "o['County Tax Rates'].median()"
   ]
  },
  {
   "cell_type": "markdown",
   "metadata": {},
   "source": [
    "### Test for normality of the distribution of County Tax Rates (Orange)"
   ]
  },
  {
   "cell_type": "code",
   "execution_count": 64,
   "metadata": {},
   "outputs": [
    {
     "data": {
      "text/plain": [
       "NormaltestResult(statistic=2268.7579016083055, pvalue=0.0)"
      ]
     },
     "execution_count": 64,
     "metadata": {},
     "output_type": "execute_result"
    }
   ],
   "source": [
    "stats.normaltest(o['County Tax Rates']) #normally distributed"
   ]
  },
  {
   "cell_type": "markdown",
   "metadata": {},
   "source": [
    " "
   ]
  },
  {
   "cell_type": "code",
   "execution_count": 52,
   "metadata": {},
   "outputs": [
    {
     "data": {
      "text/html": [
       "<div>\n",
       "<style scoped>\n",
       "    .dataframe tbody tr th:only-of-type {\n",
       "        vertical-align: middle;\n",
       "    }\n",
       "\n",
       "    .dataframe tbody tr th {\n",
       "        vertical-align: top;\n",
       "    }\n",
       "\n",
       "    .dataframe thead th {\n",
       "        text-align: right;\n",
       "    }\n",
       "</style>\n",
       "<table border=\"1\" class=\"dataframe\">\n",
       "  <thead>\n",
       "    <tr style=\"text-align: right;\">\n",
       "      <th></th>\n",
       "      <th>Number of Bathrooms</th>\n",
       "      <th>Number of Bedrooms</th>\n",
       "      <th>Square Feet</th>\n",
       "      <th>Tax Appraised Value</th>\n",
       "      <th>Assessed Tax</th>\n",
       "      <th>County Number</th>\n",
       "      <th>County Tax Rates</th>\n",
       "    </tr>\n",
       "  </thead>\n",
       "  <tbody>\n",
       "    <tr>\n",
       "      <th>count</th>\n",
       "      <td>795.000000</td>\n",
       "      <td>795.000000</td>\n",
       "      <td>795.000000</td>\n",
       "      <td>7.950000e+02</td>\n",
       "      <td>795.000000</td>\n",
       "      <td>795.0</td>\n",
       "      <td>795.000000</td>\n",
       "    </tr>\n",
       "    <tr>\n",
       "      <th>mean</th>\n",
       "      <td>2.384277</td>\n",
       "      <td>3.568553</td>\n",
       "      <td>2014.309434</td>\n",
       "      <td>4.284085e+05</td>\n",
       "      <td>4821.628931</td>\n",
       "      <td>6111.0</td>\n",
       "      <td>0.011491</td>\n",
       "    </tr>\n",
       "    <tr>\n",
       "      <th>std</th>\n",
       "      <td>0.819591</td>\n",
       "      <td>0.850999</td>\n",
       "      <td>890.610077</td>\n",
       "      <td>3.268902e+05</td>\n",
       "      <td>3587.999743</td>\n",
       "      <td>0.0</td>\n",
       "      <td>0.001842</td>\n",
       "    </tr>\n",
       "    <tr>\n",
       "      <th>min</th>\n",
       "      <td>1.000000</td>\n",
       "      <td>1.000000</td>\n",
       "      <td>572.000000</td>\n",
       "      <td>1.678200e+04</td>\n",
       "      <td>49.180000</td>\n",
       "      <td>6111.0</td>\n",
       "      <td>0.000367</td>\n",
       "    </tr>\n",
       "    <tr>\n",
       "      <th>25%</th>\n",
       "      <td>2.000000</td>\n",
       "      <td>3.000000</td>\n",
       "      <td>1444.500000</td>\n",
       "      <td>2.372000e+05</td>\n",
       "      <td>2716.540000</td>\n",
       "      <td>6111.0</td>\n",
       "      <td>0.010695</td>\n",
       "    </tr>\n",
       "    <tr>\n",
       "      <th>50%</th>\n",
       "      <td>2.000000</td>\n",
       "      <td>4.000000</td>\n",
       "      <td>1826.000000</td>\n",
       "      <td>3.732460e+05</td>\n",
       "      <td>4299.460000</td>\n",
       "      <td>6111.0</td>\n",
       "      <td>0.011203</td>\n",
       "    </tr>\n",
       "    <tr>\n",
       "      <th>75%</th>\n",
       "      <td>3.000000</td>\n",
       "      <td>4.000000</td>\n",
       "      <td>2356.000000</td>\n",
       "      <td>5.423780e+05</td>\n",
       "      <td>6053.900000</td>\n",
       "      <td>6111.0</td>\n",
       "      <td>0.011782</td>\n",
       "    </tr>\n",
       "    <tr>\n",
       "      <th>max</th>\n",
       "      <td>7.500000</td>\n",
       "      <td>6.000000</td>\n",
       "      <td>12086.000000</td>\n",
       "      <td>3.631311e+06</td>\n",
       "      <td>38677.720000</td>\n",
       "      <td>6111.0</td>\n",
       "      <td>0.033626</td>\n",
       "    </tr>\n",
       "  </tbody>\n",
       "</table>\n",
       "</div>"
      ],
      "text/plain": [
       "       Number of Bathrooms  Number of Bedrooms   Square Feet  \\\n",
       "count           795.000000          795.000000    795.000000   \n",
       "mean              2.384277            3.568553   2014.309434   \n",
       "std               0.819591            0.850999    890.610077   \n",
       "min               1.000000            1.000000    572.000000   \n",
       "25%               2.000000            3.000000   1444.500000   \n",
       "50%               2.000000            4.000000   1826.000000   \n",
       "75%               3.000000            4.000000   2356.000000   \n",
       "max               7.500000            6.000000  12086.000000   \n",
       "\n",
       "       Tax Appraised Value  Assessed Tax  County Number  County Tax Rates  \n",
       "count         7.950000e+02    795.000000          795.0        795.000000  \n",
       "mean          4.284085e+05   4821.628931         6111.0          0.011491  \n",
       "std           3.268902e+05   3587.999743            0.0          0.001842  \n",
       "min           1.678200e+04     49.180000         6111.0          0.000367  \n",
       "25%           2.372000e+05   2716.540000         6111.0          0.010695  \n",
       "50%           3.732460e+05   4299.460000         6111.0          0.011203  \n",
       "75%           5.423780e+05   6053.900000         6111.0          0.011782  \n",
       "max           3.631311e+06  38677.720000         6111.0          0.033626  "
      ]
     },
     "execution_count": 52,
     "metadata": {},
     "output_type": "execute_result"
    }
   ],
   "source": [
    "Ventura_County = v.describe()\n",
    "Ventura_County"
   ]
  },
  {
   "cell_type": "code",
   "execution_count": 56,
   "metadata": {},
   "outputs": [
    {
     "data": {
      "text/plain": [
       "0.011202753200564568"
      ]
     },
     "execution_count": 56,
     "metadata": {},
     "output_type": "execute_result"
    }
   ],
   "source": [
    "v['County Tax Rates'].median()"
   ]
  },
  {
   "cell_type": "markdown",
   "metadata": {},
   "source": [
    "### Test for normality of the distribution of County Tax Rates (Ventura)"
   ]
  },
  {
   "cell_type": "code",
   "execution_count": 65,
   "metadata": {},
   "outputs": [
    {
     "data": {
      "text/plain": [
       "NormaltestResult(statistic=783.2122377044036, pvalue=8.464932569728526e-171)"
      ]
     },
     "execution_count": 65,
     "metadata": {},
     "output_type": "execute_result"
    }
   ],
   "source": [
    "stats.normaltest(v['County Tax Rates']) #normally distributed"
   ]
  },
  {
   "cell_type": "markdown",
   "metadata": {},
   "source": [
    " "
   ]
  },
  {
   "cell_type": "markdown",
   "metadata": {},
   "source": [
    "## Analysis of the mean tax rates across all 3 counties (ANOVA)"
   ]
  },
  {
   "cell_type": "markdown",
   "metadata": {},
   "source": [
    "#### H<sub>0</sub> The mean tax rate for all three counties is the same.\n",
    "#### H<sub>a</sub> : The mean tax rate for the three counties is different. "
   ]
  },
  {
   "cell_type": "code",
   "execution_count": 55,
   "metadata": {},
   "outputs": [
    {
     "data": {
      "text/plain": [
       "F_onewayResult(statistic=331.49634908264215, pvalue=8.768186369395588e-142)"
      ]
     },
     "execution_count": 55,
     "metadata": {},
     "output_type": "execute_result"
    }
   ],
   "source": [
    "stats.f_oneway(l['County Tax Rates'], o['County Tax Rates'], v['County Tax Rates'])"
   ]
  },
  {
   "cell_type": "markdown",
   "metadata": {},
   "source": [
    "### *Reject H<sub>0</sub>. The tax rates are different. Los Angeles County has the highest rates, followed by Orange and Ventura Counties*"
   ]
  }
 ],
 "metadata": {
  "kernelspec": {
   "display_name": "Python 3",
   "language": "python",
   "name": "python3"
  },
  "language_info": {
   "codemirror_mode": {
    "name": "ipython",
    "version": 3
   },
   "file_extension": ".py",
   "mimetype": "text/x-python",
   "name": "python",
   "nbconvert_exporter": "python",
   "pygments_lexer": "ipython3",
   "version": "3.7.3"
  }
 },
 "nbformat": 4,
 "nbformat_minor": 2
}
